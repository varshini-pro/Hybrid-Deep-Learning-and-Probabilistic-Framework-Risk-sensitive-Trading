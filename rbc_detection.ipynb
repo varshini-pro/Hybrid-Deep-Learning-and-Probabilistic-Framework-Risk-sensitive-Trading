{
  "nbformat": 4,
  "nbformat_minor": 0,
  "metadata": {
    "colab": {
      "provenance": []
    },
    "kernelspec": {
      "name": "python3",
      "display_name": "Python 3"
    },
    "language_info": {
      "name": "python"
    }
  },
  "cells": [
    {
      "cell_type": "code",
      "execution_count": null,
      "metadata": {
        "id": "nxUq97P0Dz0d"
      },
      "outputs": [],
      "source": [
        "# This Python 3 environment comes with many helpful analytics libraries installed\n",
        "# It is defined by the kaggle/python Docker image: https://github.com/kaggle/docker-python\n",
        "# For example, here's several helpful packages to load\n",
        "\n",
        "import numpy as np # linear algebra\n",
        "import pandas as pd # data processing, CSV file I/O (e.g. pd.read_csv)\n",
        "\n",
        "# Input data files are available in the read-only \"../input/\" directory\n",
        "# For example, running this (by clicking run or pressing Shift+Enter) will list all files under the input directory\n",
        "\n",
        "import os\n",
        "for dirname, _, filenames in os.walk('/kaggle/input'):\n",
        "    for filename in filenames:\n",
        "        print(os.path.join(dirname, filename))\n",
        "\n",
        "# You can write up to 20GB to the current directory (/kaggle/working/) that gets preserved as output when you create a version using \"Save & Run All\"\n",
        "# You can also write temporary files to /kaggle/temp/, but they won't be saved outside of the current session"
      ]
    },
    {
      "cell_type": "code",
      "source": [
        "import kagglehub\n",
        "\n",
        "# Download latest version\n",
        "path = kagglehub.dataset_download(\"skandasana/disease-prediction-based-on-blood-test\")\n",
        "\n",
        "print(\"Path to dataset files:\", path)\n"
      ],
      "metadata": {
        "colab": {
          "base_uri": "https://localhost:8080/"
        },
        "id": "qUXSCMQRD585",
        "outputId": "41200833-52df-4bdb-9e16-308bd42e2d60"
      },
      "execution_count": null,
      "outputs": [
        {
          "output_type": "stream",
          "name": "stdout",
          "text": [
            "Path to dataset files: /kaggle/input/disease-prediction-based-on-blood-test\n"
          ]
        }
      ]
    },
    {
      "cell_type": "code",
      "source": [
        "!pip install ultralytics"
      ],
      "metadata": {
        "colab": {
          "base_uri": "https://localhost:8080/"
        },
        "id": "S9-WrkyYD_zX",
        "outputId": "dc5bc360-af2b-44e3-b9bc-8feeeb02b105"
      },
      "execution_count": null,
      "outputs": [
        {
          "output_type": "stream",
          "name": "stdout",
          "text": [
            "Collecting ultralytics\n",
            "  Downloading ultralytics-8.3.170-py3-none-any.whl.metadata (37 kB)\n",
            "Requirement already satisfied: numpy>=1.23.0 in /usr/local/lib/python3.11/dist-packages (from ultralytics) (2.0.2)\n",
            "Requirement already satisfied: matplotlib>=3.3.0 in /usr/local/lib/python3.11/dist-packages (from ultralytics) (3.10.0)\n",
            "Requirement already satisfied: opencv-python>=4.6.0 in /usr/local/lib/python3.11/dist-packages (from ultralytics) (4.12.0.88)\n",
            "Requirement already satisfied: pillow>=7.1.2 in /usr/local/lib/python3.11/dist-packages (from ultralytics) (11.3.0)\n",
            "Requirement already satisfied: pyyaml>=5.3.1 in /usr/local/lib/python3.11/dist-packages (from ultralytics) (6.0.2)\n",
            "Requirement already satisfied: requests>=2.23.0 in /usr/local/lib/python3.11/dist-packages (from ultralytics) (2.32.3)\n",
            "Requirement already satisfied: scipy>=1.4.1 in /usr/local/lib/python3.11/dist-packages (from ultralytics) (1.16.0)\n",
            "Requirement already satisfied: torch>=1.8.0 in /usr/local/lib/python3.11/dist-packages (from ultralytics) (2.6.0+cu124)\n",
            "Requirement already satisfied: torchvision>=0.9.0 in /usr/local/lib/python3.11/dist-packages (from ultralytics) (0.21.0+cu124)\n",
            "Requirement already satisfied: tqdm>=4.64.0 in /usr/local/lib/python3.11/dist-packages (from ultralytics) (4.67.1)\n",
            "Requirement already satisfied: psutil in /usr/local/lib/python3.11/dist-packages (from ultralytics) (5.9.5)\n",
            "Requirement already satisfied: py-cpuinfo in /usr/local/lib/python3.11/dist-packages (from ultralytics) (9.0.0)\n",
            "Requirement already satisfied: pandas>=1.1.4 in /usr/local/lib/python3.11/dist-packages (from ultralytics) (2.2.2)\n",
            "Collecting ultralytics-thop>=2.0.0 (from ultralytics)\n",
            "  Downloading ultralytics_thop-2.0.14-py3-none-any.whl.metadata (9.4 kB)\n",
            "Requirement already satisfied: contourpy>=1.0.1 in /usr/local/lib/python3.11/dist-packages (from matplotlib>=3.3.0->ultralytics) (1.3.2)\n",
            "Requirement already satisfied: cycler>=0.10 in /usr/local/lib/python3.11/dist-packages (from matplotlib>=3.3.0->ultralytics) (0.12.1)\n",
            "Requirement already satisfied: fonttools>=4.22.0 in /usr/local/lib/python3.11/dist-packages (from matplotlib>=3.3.0->ultralytics) (4.59.0)\n",
            "Requirement already satisfied: kiwisolver>=1.3.1 in /usr/local/lib/python3.11/dist-packages (from matplotlib>=3.3.0->ultralytics) (1.4.8)\n",
            "Requirement already satisfied: packaging>=20.0 in /usr/local/lib/python3.11/dist-packages (from matplotlib>=3.3.0->ultralytics) (25.0)\n",
            "Requirement already satisfied: pyparsing>=2.3.1 in /usr/local/lib/python3.11/dist-packages (from matplotlib>=3.3.0->ultralytics) (3.2.3)\n",
            "Requirement already satisfied: python-dateutil>=2.7 in /usr/local/lib/python3.11/dist-packages (from matplotlib>=3.3.0->ultralytics) (2.9.0.post0)\n",
            "Requirement already satisfied: pytz>=2020.1 in /usr/local/lib/python3.11/dist-packages (from pandas>=1.1.4->ultralytics) (2025.2)\n",
            "Requirement already satisfied: tzdata>=2022.7 in /usr/local/lib/python3.11/dist-packages (from pandas>=1.1.4->ultralytics) (2025.2)\n",
            "Requirement already satisfied: charset-normalizer<4,>=2 in /usr/local/lib/python3.11/dist-packages (from requests>=2.23.0->ultralytics) (3.4.2)\n",
            "Requirement already satisfied: idna<4,>=2.5 in /usr/local/lib/python3.11/dist-packages (from requests>=2.23.0->ultralytics) (3.10)\n",
            "Requirement already satisfied: urllib3<3,>=1.21.1 in /usr/local/lib/python3.11/dist-packages (from requests>=2.23.0->ultralytics) (2.5.0)\n",
            "Requirement already satisfied: certifi>=2017.4.17 in /usr/local/lib/python3.11/dist-packages (from requests>=2.23.0->ultralytics) (2025.7.14)\n",
            "Requirement already satisfied: filelock in /usr/local/lib/python3.11/dist-packages (from torch>=1.8.0->ultralytics) (3.18.0)\n",
            "Requirement already satisfied: typing-extensions>=4.10.0 in /usr/local/lib/python3.11/dist-packages (from torch>=1.8.0->ultralytics) (4.14.1)\n",
            "Requirement already satisfied: networkx in /usr/local/lib/python3.11/dist-packages (from torch>=1.8.0->ultralytics) (3.5)\n",
            "Requirement already satisfied: jinja2 in /usr/local/lib/python3.11/dist-packages (from torch>=1.8.0->ultralytics) (3.1.6)\n",
            "Requirement already satisfied: fsspec in /usr/local/lib/python3.11/dist-packages (from torch>=1.8.0->ultralytics) (2025.3.0)\n",
            "Collecting nvidia-cuda-nvrtc-cu12==12.4.127 (from torch>=1.8.0->ultralytics)\n",
            "  Downloading nvidia_cuda_nvrtc_cu12-12.4.127-py3-none-manylinux2014_x86_64.whl.metadata (1.5 kB)\n",
            "Collecting nvidia-cuda-runtime-cu12==12.4.127 (from torch>=1.8.0->ultralytics)\n",
            "  Downloading nvidia_cuda_runtime_cu12-12.4.127-py3-none-manylinux2014_x86_64.whl.metadata (1.5 kB)\n",
            "Collecting nvidia-cuda-cupti-cu12==12.4.127 (from torch>=1.8.0->ultralytics)\n",
            "  Downloading nvidia_cuda_cupti_cu12-12.4.127-py3-none-manylinux2014_x86_64.whl.metadata (1.6 kB)\n",
            "Collecting nvidia-cudnn-cu12==9.1.0.70 (from torch>=1.8.0->ultralytics)\n",
            "  Downloading nvidia_cudnn_cu12-9.1.0.70-py3-none-manylinux2014_x86_64.whl.metadata (1.6 kB)\n",
            "Collecting nvidia-cublas-cu12==12.4.5.8 (from torch>=1.8.0->ultralytics)\n",
            "  Downloading nvidia_cublas_cu12-12.4.5.8-py3-none-manylinux2014_x86_64.whl.metadata (1.5 kB)\n",
            "Collecting nvidia-cufft-cu12==11.2.1.3 (from torch>=1.8.0->ultralytics)\n",
            "  Downloading nvidia_cufft_cu12-11.2.1.3-py3-none-manylinux2014_x86_64.whl.metadata (1.5 kB)\n",
            "Collecting nvidia-curand-cu12==10.3.5.147 (from torch>=1.8.0->ultralytics)\n",
            "  Downloading nvidia_curand_cu12-10.3.5.147-py3-none-manylinux2014_x86_64.whl.metadata (1.5 kB)\n",
            "Collecting nvidia-cusolver-cu12==11.6.1.9 (from torch>=1.8.0->ultralytics)\n",
            "  Downloading nvidia_cusolver_cu12-11.6.1.9-py3-none-manylinux2014_x86_64.whl.metadata (1.6 kB)\n",
            "Collecting nvidia-cusparse-cu12==12.3.1.170 (from torch>=1.8.0->ultralytics)\n",
            "  Downloading nvidia_cusparse_cu12-12.3.1.170-py3-none-manylinux2014_x86_64.whl.metadata (1.6 kB)\n",
            "Requirement already satisfied: nvidia-cusparselt-cu12==0.6.2 in /usr/local/lib/python3.11/dist-packages (from torch>=1.8.0->ultralytics) (0.6.2)\n",
            "Requirement already satisfied: nvidia-nccl-cu12==2.21.5 in /usr/local/lib/python3.11/dist-packages (from torch>=1.8.0->ultralytics) (2.21.5)\n",
            "Requirement already satisfied: nvidia-nvtx-cu12==12.4.127 in /usr/local/lib/python3.11/dist-packages (from torch>=1.8.0->ultralytics) (12.4.127)\n",
            "Collecting nvidia-nvjitlink-cu12==12.4.127 (from torch>=1.8.0->ultralytics)\n",
            "  Downloading nvidia_nvjitlink_cu12-12.4.127-py3-none-manylinux2014_x86_64.whl.metadata (1.5 kB)\n",
            "Requirement already satisfied: triton==3.2.0 in /usr/local/lib/python3.11/dist-packages (from torch>=1.8.0->ultralytics) (3.2.0)\n",
            "Requirement already satisfied: sympy==1.13.1 in /usr/local/lib/python3.11/dist-packages (from torch>=1.8.0->ultralytics) (1.13.1)\n",
            "Requirement already satisfied: mpmath<1.4,>=1.1.0 in /usr/local/lib/python3.11/dist-packages (from sympy==1.13.1->torch>=1.8.0->ultralytics) (1.3.0)\n",
            "Requirement already satisfied: six>=1.5 in /usr/local/lib/python3.11/dist-packages (from python-dateutil>=2.7->matplotlib>=3.3.0->ultralytics) (1.17.0)\n",
            "Requirement already satisfied: MarkupSafe>=2.0 in /usr/local/lib/python3.11/dist-packages (from jinja2->torch>=1.8.0->ultralytics) (3.0.2)\n",
            "Downloading ultralytics-8.3.170-py3-none-any.whl (1.0 MB)\n",
            "\u001b[2K   \u001b[90m━━━━━━━━━━━━━━━━━━━━━━━━━━━━━━━━━━━━━━━━\u001b[0m \u001b[32m1.0/1.0 MB\u001b[0m \u001b[31m33.1 MB/s\u001b[0m eta \u001b[36m0:00:00\u001b[0m\n",
            "\u001b[?25hDownloading nvidia_cublas_cu12-12.4.5.8-py3-none-manylinux2014_x86_64.whl (363.4 MB)\n",
            "\u001b[2K   \u001b[90m━━━━━━━━━━━━━━━━━━━━━━━━━━━━━━━━━━━━━━━━\u001b[0m \u001b[32m363.4/363.4 MB\u001b[0m \u001b[31m4.0 MB/s\u001b[0m eta \u001b[36m0:00:00\u001b[0m\n",
            "\u001b[?25hDownloading nvidia_cuda_cupti_cu12-12.4.127-py3-none-manylinux2014_x86_64.whl (13.8 MB)\n",
            "\u001b[2K   \u001b[90m━━━━━━━━━━━━━━━━━━━━━━━━━━━━━━━━━━━━━━━━\u001b[0m \u001b[32m13.8/13.8 MB\u001b[0m \u001b[31m125.0 MB/s\u001b[0m eta \u001b[36m0:00:00\u001b[0m\n",
            "\u001b[?25hDownloading nvidia_cuda_nvrtc_cu12-12.4.127-py3-none-manylinux2014_x86_64.whl (24.6 MB)\n",
            "\u001b[2K   \u001b[90m━━━━━━━━━━━━━━━━━━━━━━━━━━━━━━━━━━━━━━━━\u001b[0m \u001b[32m24.6/24.6 MB\u001b[0m \u001b[31m89.5 MB/s\u001b[0m eta \u001b[36m0:00:00\u001b[0m\n",
            "\u001b[?25hDownloading nvidia_cuda_runtime_cu12-12.4.127-py3-none-manylinux2014_x86_64.whl (883 kB)\n",
            "\u001b[2K   \u001b[90m━━━━━━━━━━━━━━━━━━━━━━━━━━━━━━━━━━━━━━━━\u001b[0m \u001b[32m883.7/883.7 kB\u001b[0m \u001b[31m66.1 MB/s\u001b[0m eta \u001b[36m0:00:00\u001b[0m\n",
            "\u001b[?25hDownloading nvidia_cudnn_cu12-9.1.0.70-py3-none-manylinux2014_x86_64.whl (664.8 MB)\n",
            "\u001b[2K   \u001b[90m━━━━━━━━━━━━━━━━━━━━━━━━━━━━━━━━━━━━━━━━\u001b[0m \u001b[32m664.8/664.8 MB\u001b[0m \u001b[31m2.9 MB/s\u001b[0m eta \u001b[36m0:00:00\u001b[0m\n",
            "\u001b[?25hDownloading nvidia_cufft_cu12-11.2.1.3-py3-none-manylinux2014_x86_64.whl (211.5 MB)\n",
            "\u001b[2K   \u001b[90m━━━━━━━━━━━━━━━━━━━━━━━━━━━━━━━━━━━━━━━━\u001b[0m \u001b[32m211.5/211.5 MB\u001b[0m \u001b[31m5.3 MB/s\u001b[0m eta \u001b[36m0:00:00\u001b[0m\n",
            "\u001b[?25hDownloading nvidia_curand_cu12-10.3.5.147-py3-none-manylinux2014_x86_64.whl (56.3 MB)\n",
            "\u001b[2K   \u001b[90m━━━━━━━━━━━━━━━━━━━━━━━━━━━━━━━━━━━━━━━━\u001b[0m \u001b[32m56.3/56.3 MB\u001b[0m \u001b[31m13.2 MB/s\u001b[0m eta \u001b[36m0:00:00\u001b[0m\n",
            "\u001b[?25hDownloading nvidia_cusolver_cu12-11.6.1.9-py3-none-manylinux2014_x86_64.whl (127.9 MB)\n",
            "\u001b[2K   \u001b[90m━━━━━━━━━━━━━━━━━━━━━━━━━━━━━━━━━━━━━━━━\u001b[0m \u001b[32m127.9/127.9 MB\u001b[0m \u001b[31m7.4 MB/s\u001b[0m eta \u001b[36m0:00:00\u001b[0m\n",
            "\u001b[?25hDownloading nvidia_cusparse_cu12-12.3.1.170-py3-none-manylinux2014_x86_64.whl (207.5 MB)\n",
            "\u001b[2K   \u001b[90m━━━━━━━━━━━━━━━━━━━━━━━━━━━━━━━━━━━━━━━━\u001b[0m \u001b[32m207.5/207.5 MB\u001b[0m \u001b[31m5.3 MB/s\u001b[0m eta \u001b[36m0:00:00\u001b[0m\n",
            "\u001b[?25hDownloading nvidia_nvjitlink_cu12-12.4.127-py3-none-manylinux2014_x86_64.whl (21.1 MB)\n",
            "\u001b[2K   \u001b[90m━━━━━━━━━━━━━━━━━━━━━━━━━━━━━━━━━━━━━━━━\u001b[0m \u001b[32m21.1/21.1 MB\u001b[0m \u001b[31m79.9 MB/s\u001b[0m eta \u001b[36m0:00:00\u001b[0m\n",
            "\u001b[?25hDownloading ultralytics_thop-2.0.14-py3-none-any.whl (26 kB)\n",
            "Installing collected packages: nvidia-nvjitlink-cu12, nvidia-curand-cu12, nvidia-cufft-cu12, nvidia-cuda-runtime-cu12, nvidia-cuda-nvrtc-cu12, nvidia-cuda-cupti-cu12, nvidia-cublas-cu12, nvidia-cusparse-cu12, nvidia-cudnn-cu12, nvidia-cusolver-cu12, ultralytics-thop, ultralytics\n",
            "  Attempting uninstall: nvidia-nvjitlink-cu12\n",
            "    Found existing installation: nvidia-nvjitlink-cu12 12.5.82\n",
            "    Uninstalling nvidia-nvjitlink-cu12-12.5.82:\n",
            "      Successfully uninstalled nvidia-nvjitlink-cu12-12.5.82\n",
            "  Attempting uninstall: nvidia-curand-cu12\n",
            "    Found existing installation: nvidia-curand-cu12 10.3.6.82\n",
            "    Uninstalling nvidia-curand-cu12-10.3.6.82:\n",
            "      Successfully uninstalled nvidia-curand-cu12-10.3.6.82\n",
            "  Attempting uninstall: nvidia-cufft-cu12\n",
            "    Found existing installation: nvidia-cufft-cu12 11.2.3.61\n",
            "    Uninstalling nvidia-cufft-cu12-11.2.3.61:\n",
            "      Successfully uninstalled nvidia-cufft-cu12-11.2.3.61\n",
            "  Attempting uninstall: nvidia-cuda-runtime-cu12\n",
            "    Found existing installation: nvidia-cuda-runtime-cu12 12.5.82\n",
            "    Uninstalling nvidia-cuda-runtime-cu12-12.5.82:\n",
            "      Successfully uninstalled nvidia-cuda-runtime-cu12-12.5.82\n",
            "  Attempting uninstall: nvidia-cuda-nvrtc-cu12\n",
            "    Found existing installation: nvidia-cuda-nvrtc-cu12 12.5.82\n",
            "    Uninstalling nvidia-cuda-nvrtc-cu12-12.5.82:\n",
            "      Successfully uninstalled nvidia-cuda-nvrtc-cu12-12.5.82\n",
            "  Attempting uninstall: nvidia-cuda-cupti-cu12\n",
            "    Found existing installation: nvidia-cuda-cupti-cu12 12.5.82\n",
            "    Uninstalling nvidia-cuda-cupti-cu12-12.5.82:\n",
            "      Successfully uninstalled nvidia-cuda-cupti-cu12-12.5.82\n",
            "  Attempting uninstall: nvidia-cublas-cu12\n",
            "    Found existing installation: nvidia-cublas-cu12 12.5.3.2\n",
            "    Uninstalling nvidia-cublas-cu12-12.5.3.2:\n",
            "      Successfully uninstalled nvidia-cublas-cu12-12.5.3.2\n",
            "  Attempting uninstall: nvidia-cusparse-cu12\n",
            "    Found existing installation: nvidia-cusparse-cu12 12.5.1.3\n",
            "    Uninstalling nvidia-cusparse-cu12-12.5.1.3:\n",
            "      Successfully uninstalled nvidia-cusparse-cu12-12.5.1.3\n",
            "  Attempting uninstall: nvidia-cudnn-cu12\n",
            "    Found existing installation: nvidia-cudnn-cu12 9.3.0.75\n",
            "    Uninstalling nvidia-cudnn-cu12-9.3.0.75:\n",
            "      Successfully uninstalled nvidia-cudnn-cu12-9.3.0.75\n",
            "  Attempting uninstall: nvidia-cusolver-cu12\n",
            "    Found existing installation: nvidia-cusolver-cu12 11.6.3.83\n",
            "    Uninstalling nvidia-cusolver-cu12-11.6.3.83:\n",
            "      Successfully uninstalled nvidia-cusolver-cu12-11.6.3.83\n",
            "Successfully installed nvidia-cublas-cu12-12.4.5.8 nvidia-cuda-cupti-cu12-12.4.127 nvidia-cuda-nvrtc-cu12-12.4.127 nvidia-cuda-runtime-cu12-12.4.127 nvidia-cudnn-cu12-9.1.0.70 nvidia-cufft-cu12-11.2.1.3 nvidia-curand-cu12-10.3.5.147 nvidia-cusolver-cu12-11.6.1.9 nvidia-cusparse-cu12-12.3.1.170 nvidia-nvjitlink-cu12-12.4.127 ultralytics-8.3.170 ultralytics-thop-2.0.14\n"
          ]
        }
      ]
    },
    {
      "cell_type": "code",
      "source": [
        "\n",
        "import cv2\n",
        "import yaml\n",
        "import torch\n",
        "from ultralytics import YOLO\n",
        "from tqdm import tqdm\n",
        "import os\n",
        "import json\n",
        "import shutil\n",
        "from PIL import Image\n"
      ],
      "metadata": {
        "id": "ZUzY7YsrEPDT"
      },
      "execution_count": null,
      "outputs": []
    },
    {
      "cell_type": "code",
      "source": [
        "import os\n",
        "\n",
        "def quick_bccd_check(bccd_root):\n",
        "    \"\"\"Quick check of BCCD dataset structure\"\"\"\n",
        "\n",
        "    for split in ['train', 'val', 'test']:\n",
        "        split_path = os.path.join(bccd_root, split)\n",
        "        print(f\"\\n📊 {split.upper()} SPLIT:\")\n",
        "\n",
        "        if not os.path.exists(split_path):\n",
        "            print(f\"❌ {split} directory missing\")\n",
        "            continue\n",
        "\n",
        "        # Check what directories exist\n",
        "        subdirs = [d for d in os.listdir(split_path) if os.path.isdir(os.path.join(split_path, d))]\n",
        "        print(f\"📁 Subdirectories: {subdirs}\")\n",
        "\n",
        "        # Check for annotation files in each subdirectory\n",
        "        for subdir in subdirs:\n",
        "            subdir_path = os.path.join(split_path, subdir)\n",
        "            files = os.listdir(subdir_path)[:3]  # First 3 files\n",
        "            extensions = set([os.path.splitext(f)[1].lower() for f in os.listdir(subdir_path)])\n",
        "            print(f\"   {subdir}/: {len(os.listdir(subdir_path))} files, extensions: {extensions}\")\n",
        "            if files:\n",
        "                print(f\"      Examples: {files}\")\n",
        "\n",
        "# Replace with your actual path\n",
        "bccd_root = \"/kaggle/input/disease-prediction-based-on-blood-test/Deep learning-cells/BCCD\"  # CHANGE THIS!\n",
        "quick_bccd_check(bccd_root)"
      ],
      "metadata": {
        "colab": {
          "base_uri": "https://localhost:8080/"
        },
        "id": "d_S7_6kbMZUu",
        "outputId": "10573cd3-5a31-46b0-f430-9379237f047f"
      },
      "execution_count": null,
      "outputs": [
        {
          "output_type": "stream",
          "name": "stdout",
          "text": [
            "\n",
            "📊 TRAIN SPLIT:\n",
            "📁 Subdirectories: ['ann', 'img']\n",
            "   ann/: 205 files, extensions: {'.json'}\n",
            "      Examples: ['BloodImage_00355.jpeg.json', 'BloodImage_00309.jpeg.json', 'BloodImage_00165.jpeg.json']\n",
            "   img/: 205 files, extensions: {'.jpeg'}\n",
            "      Examples: ['BloodImage_00198.jpeg', 'BloodImage_00100.jpeg', 'BloodImage_00039.jpeg']\n",
            "\n",
            "📊 VAL SPLIT:\n",
            "📁 Subdirectories: ['ann', 'img']\n",
            "   ann/: 87 files, extensions: {'.json'}\n",
            "      Examples: ['BloodImage_00130.jpeg.json', 'BloodImage_00272.jpeg.json', 'BloodImage_00014.jpeg.json']\n",
            "   img/: 87 files, extensions: {'.jpeg'}\n",
            "      Examples: ['BloodImage_00073.jpeg', 'BloodImage_00037.jpeg', 'BloodImage_00397.jpeg']\n",
            "\n",
            "📊 TEST SPLIT:\n",
            "📁 Subdirectories: ['ann', 'img']\n",
            "   ann/: 72 files, extensions: {'.json'}\n",
            "      Examples: ['BloodImage_00169.jpeg.json', 'BloodImage_00149.jpeg.json', 'BloodImage_00057.jpeg.json']\n",
            "   img/: 72 files, extensions: {'.jpeg'}\n",
            "      Examples: ['BloodImage_00088.jpeg', 'BloodImage_00172.jpeg', 'BloodImage_00063.jpeg']\n"
          ]
        }
      ]
    },
    {
      "cell_type": "code",
      "source": [
        "import os\n",
        "import json\n",
        "import shutil\n",
        "from PIL import Image\n",
        "from tqdm import tqdm\n",
        "\n",
        "def debug_bccd_annotations(bccd_root, num_samples=3):\n",
        "    \"\"\"Debug BCCD annotations to understand the structure\"\"\"\n",
        "    print(\"🔍 Debugging BCCD annotation structure...\\n\")\n",
        "\n",
        "    for split in ['train', 'val', 'test']:\n",
        "        ann_dir = os.path.join(bccd_root, split, \"ann\")\n",
        "        if not os.path.exists(ann_dir):\n",
        "            continue\n",
        "\n",
        "        print(f\"📊 {split.upper()} ANNOTATIONS:\")\n",
        "        ann_files = [f for f in os.listdir(ann_dir) if f.endswith('.json')]\n",
        "\n",
        "        for i, ann_file in enumerate(ann_files[:num_samples]):\n",
        "            ann_path = os.path.join(ann_dir, ann_file)\n",
        "            print(f\"\\n📄 File: {ann_file}\")\n",
        "\n",
        "            try:\n",
        "                with open(ann_path, 'r') as f:\n",
        "                    data = json.load(f)\n",
        "\n",
        "                print(f\"🔑 Keys: {list(data.keys())}\")\n",
        "\n",
        "                # Check different possible annotation formats\n",
        "                if 'shapes' in data:\n",
        "                    shapes = data['shapes']\n",
        "                    print(f\"📐 Shapes found: {len(shapes)}\")\n",
        "                    if shapes:\n",
        "                        print(f\"🏷️  First shape: {shapes[0]}\")\n",
        "\n",
        "                elif 'annotations' in data:\n",
        "                    annotations = data['annotations']\n",
        "                    print(f\"📝 Annotations found: {len(annotations)}\")\n",
        "                    if annotations:\n",
        "                        print(f\"🏷️  First annotation: {annotations[0]}\")\n",
        "\n",
        "                elif 'objects' in data:\n",
        "                    objects = data['objects']\n",
        "                    print(f\"📦 Objects found: {len(objects)}\")\n",
        "                    if objects:\n",
        "                        print(f\"🏷️  First object: {objects[0]}\")\n",
        "\n",
        "                else:\n",
        "                    print(f\"❓ Unknown format. Sample data: {str(data)[:200]}...\")\n",
        "\n",
        "            except Exception as e:\n",
        "                print(f\"❌ Error reading {ann_file}: {e}\")\n",
        "\n",
        "        print(\"\\n\" + \"=\"*50)\n",
        "\n",
        "def convert_bccd_to_yolo_fixed(bccd_root, output_root):\n",
        "    \"\"\"\n",
        "    Fixed BCCD to YOLO converter - handles multiple annotation formats\n",
        "    \"\"\"\n",
        "    os.makedirs(output_root, exist_ok=True)\n",
        "\n",
        "    sets = ['train', 'val', 'test']\n",
        "    stats = {'train': 0, 'val': 0, 'test': 0}\n",
        "    image_stats = {'train': 0, 'val': 0, 'test': 0}\n",
        "    rbc_count = {'train': 0, 'val': 0, 'test': 0}\n",
        "\n",
        "    for split in sets:\n",
        "        img_dir = os.path.join(bccd_root, split, \"img\")\n",
        "        ann_dir = os.path.join(bccd_root, split, \"ann\")\n",
        "\n",
        "        if not os.path.exists(img_dir) or not os.path.exists(ann_dir):\n",
        "            print(f\"❌ Missing directories for {split}\")\n",
        "            continue\n",
        "\n",
        "        out_img_dir = os.path.join(output_root, \"images\", split)\n",
        "        out_lbl_dir = os.path.join(output_root, \"labels\", split)\n",
        "        os.makedirs(out_img_dir, exist_ok=True)\n",
        "        os.makedirs(out_lbl_dir, exist_ok=True)\n",
        "\n",
        "        img_files = [f for f in os.listdir(img_dir) if f.endswith((\".jpg\", \".jpeg\", \".png\"))]\n",
        "\n",
        "        for img_name in tqdm(img_files, desc=f\"Converting {split} set\"):\n",
        "            img_path = os.path.join(img_dir, img_name)\n",
        "            json_path = os.path.join(ann_dir, img_name + \".json\")\n",
        "\n",
        "            if not os.path.exists(json_path):\n",
        "                print(f\"Warning: Annotation missing for {img_name}\")\n",
        "                continue\n",
        "\n",
        "            try:\n",
        "                with open(json_path, 'r') as f:\n",
        "                    data = json.load(f)\n",
        "            except Exception as e:\n",
        "                print(f\"Error reading {json_path}: {e}\")\n",
        "                continue\n",
        "\n",
        "            labels = []\n",
        "            img = Image.open(img_path)\n",
        "            w, h = img.size\n",
        "\n",
        "            # Handle BCCD annotation format\n",
        "            if 'objects' not in data:\n",
        "                print(f\"No objects found in {json_path}\")\n",
        "                continue\n",
        "\n",
        "            annotations = data['objects']\n",
        "\n",
        "            for obj in annotations:\n",
        "                # Get label from classTitle\n",
        "                label = obj.get('classTitle', '').lower()\n",
        "\n",
        "                # Skip non-RBC objects\n",
        "                if label != \"rbc\":\n",
        "                    continue\n",
        "\n",
        "                # Get bounding box coordinates from points.exterior\n",
        "                if 'points' not in obj or 'exterior' not in obj['points']:\n",
        "                    continue\n",
        "\n",
        "                exterior_points = obj['points']['exterior']\n",
        "                if len(exterior_points) != 2:\n",
        "                    continue\n",
        "\n",
        "                # BCCD format: points.exterior = [[x1,y1], [x2,y2]]\n",
        "                (x1, y1), (x2, y2) = exterior_points\n",
        "                bbox = (x1, y1, x2, y2)\n",
        "\n",
        "                if bbox:\n",
        "                    x1, y1, x2, y2 = bbox\n",
        "\n",
        "                    # Convert to YOLO format\n",
        "                    x_center = ((x1 + x2) / 2) / w\n",
        "                    y_center = ((y1 + y2) / 2) / h\n",
        "                    bbox_width = abs(x2 - x1) / w\n",
        "                    bbox_height = abs(y2 - y1) / h\n",
        "\n",
        "                    # Ensure values are within [0, 1]\n",
        "                    x_center = max(0, min(1, x_center))\n",
        "                    y_center = max(0, min(1, y_center))\n",
        "                    bbox_width = max(0, min(1, bbox_width))\n",
        "                    bbox_height = max(0, min(1, bbox_height))\n",
        "\n",
        "                    labels.append(f\"0 {x_center:.6f} {y_center:.6f} {bbox_width:.6f} {bbox_height:.6f}\")\n",
        "                    rbc_count[split] += 1\n",
        "\n",
        "            # Save image and labels if we found RBCs\n",
        "            if labels:\n",
        "                shutil.copy(img_path, out_img_dir)\n",
        "                label_path = os.path.join(out_lbl_dir, os.path.splitext(img_name)[0] + \".txt\")\n",
        "                with open(label_path, \"w\") as f:\n",
        "                    f.write(\"\\n\".join(labels))\n",
        "                stats[split] += 1\n",
        "\n",
        "            image_stats[split] += 1\n",
        "\n",
        "    print(\"\\n✅ Conversion complete!\")\n",
        "    for split in sets:\n",
        "        print(f\"{split.capitalize()}: {image_stats[split]} images processed, {stats[split]} with RBCs, {rbc_count[split]} total RBCs\")\n",
        "\n",
        "    # Create dataset.yaml for YOLO\n",
        "    yaml_content = f\"\"\"# BCCD RBC Detection Dataset\n",
        "path: {output_root}\n",
        "train: images/train\n",
        "val: images/val\n",
        "test: images/test\n",
        "\n",
        "nc: 1  # number of classes\n",
        "names: ['RBC']  # class names\n",
        "\"\"\"\n",
        "\n",
        "    with open(os.path.join(output_root, \"dataset.yaml\"), \"w\") as f:\n",
        "        f.write(yaml_content)\n",
        "\n",
        "    print(f\"\\n📝 Created dataset.yaml at {output_root}/dataset.yaml\")\n",
        "    return image_stats, stats, rbc_count\n",
        "\n",
        "# Usage:\n",
        "if __name__ == \"__main__\":\n",
        "    bccd_root = \"/kaggle/input/disease-prediction-based-on-blood-test/Deep learning-cells/BCCD\"  # Update this path\n",
        "    output_root = \"/kaggle/working/bccd_yolo\"  # Output path\n",
        "\n",
        "    # First, debug the annotations\n",
        "    print(\"🔍 Step 1: Debugging annotations...\")\n",
        "    debug_bccd_annotations(bccd_root, num_samples=2)\n",
        "\n",
        "    print(\"\\n\" + \"=\"*60)\n",
        "    print(\"🔄 Step 2: Converting to YOLO format...\")\n",
        "\n",
        "    # Then convert\n",
        "    img_stats, ann_stats, rbc_stats = convert_bccd_to_yolo_fixed(bccd_root, output_root)"
      ],
      "metadata": {
        "colab": {
          "base_uri": "https://localhost:8080/"
        },
        "id": "MKBajhnuEsug",
        "outputId": "ee791332-b581-47ff-e1d4-d497ec09e021"
      },
      "execution_count": null,
      "outputs": [
        {
          "output_type": "stream",
          "name": "stdout",
          "text": [
            "🔍 Step 1: Debugging annotations...\n",
            "🔍 Debugging BCCD annotation structure...\n",
            "\n",
            "📊 TRAIN ANNOTATIONS:\n",
            "\n",
            "📄 File: BloodImage_00355.jpeg.json\n",
            "🔑 Keys: ['description', 'tags', 'size', 'objects']\n",
            "📦 Objects found: 19\n",
            "🏷️  First object: {'id': 7790588, 'classId': 13302, 'description': '', 'geometryType': 'rectangle', 'labelerLogin': 'gr@datasetninja.com', 'createdAt': '2023-06-22T21:03:50.896Z', 'updatedAt': '2023-06-22T21:03:50.896Z', 'tags': [], 'classTitle': 'RBC', 'points': {'exterior': [[27, 135], [146, 245]], 'interior': []}}\n",
            "\n",
            "📄 File: BloodImage_00309.jpeg.json\n",
            "🔑 Keys: ['description', 'tags', 'size', 'objects']\n",
            "📦 Objects found: 13\n",
            "🏷️  First object: {'id': 7789694, 'classId': 13302, 'description': '', 'geometryType': 'rectangle', 'labelerLogin': 'gr@datasetninja.com', 'createdAt': '2023-06-22T21:03:46.656Z', 'updatedAt': '2023-06-22T21:03:46.656Z', 'tags': [], 'classTitle': 'RBC', 'points': {'exterior': [[216, 279], [330, 379]], 'interior': []}}\n",
            "\n",
            "==================================================\n",
            "📊 VAL ANNOTATIONS:\n",
            "\n",
            "📄 File: BloodImage_00130.jpeg.json\n",
            "🔑 Keys: ['description', 'tags', 'size', 'objects']\n",
            "📦 Objects found: 9\n",
            "🏷️  First object: {'id': 7792462, 'classId': 13302, 'description': '', 'geometryType': 'rectangle', 'labelerLogin': 'gr@datasetninja.com', 'createdAt': '2023-06-22T21:04:00.321Z', 'updatedAt': '2023-06-22T21:04:00.321Z', 'tags': [], 'classTitle': 'RBC', 'points': {'exterior': [[470, 282], [551, 370]], 'interior': []}}\n",
            "\n",
            "📄 File: BloodImage_00272.jpeg.json\n",
            "🔑 Keys: ['description', 'tags', 'size', 'objects']\n",
            "📦 Objects found: 14\n",
            "🏷️  First object: {'id': 7791653, 'classId': 13302, 'description': '', 'geometryType': 'rectangle', 'labelerLogin': 'gr@datasetninja.com', 'createdAt': '2023-06-22T21:03:56.795Z', 'updatedAt': '2023-06-22T21:03:56.795Z', 'tags': [], 'classTitle': 'RBC', 'points': {'exterior': [[37, 402], [137, 479]], 'interior': []}}\n",
            "\n",
            "==================================================\n",
            "📊 TEST ANNOTATIONS:\n",
            "\n",
            "📄 File: BloodImage_00169.jpeg.json\n",
            "🔑 Keys: ['description', 'tags', 'size', 'objects']\n",
            "📦 Objects found: 17\n",
            "🏷️  First object: {'id': 7793023, 'classId': 13302, 'description': '', 'geometryType': 'rectangle', 'labelerLogin': 'gr@datasetninja.com', 'createdAt': '2023-06-22T21:04:02.835Z', 'updatedAt': '2023-06-22T21:04:02.835Z', 'tags': [], 'classTitle': 'RBC', 'points': {'exterior': [[76, 319], [180, 422]], 'interior': []}}\n",
            "\n",
            "📄 File: BloodImage_00149.jpeg.json\n",
            "🔑 Keys: ['description', 'tags', 'size', 'objects']\n",
            "📦 Objects found: 10\n",
            "🏷️  First object: {'id': 7793098, 'classId': 13302, 'description': '', 'geometryType': 'rectangle', 'labelerLogin': 'gr@datasetninja.com', 'createdAt': '2023-06-22T21:04:04.546Z', 'updatedAt': '2023-06-22T21:04:04.546Z', 'tags': [], 'classTitle': 'RBC', 'points': {'exterior': [[328, 181], [430, 281]], 'interior': []}}\n",
            "\n",
            "==================================================\n",
            "\n",
            "============================================================\n",
            "🔄 Step 2: Converting to YOLO format...\n"
          ]
        },
        {
          "output_type": "stream",
          "name": "stderr",
          "text": [
            "Converting train set: 100%|██████████| 205/205 [00:00<00:00, 606.19it/s]\n",
            "Converting val set: 100%|██████████| 87/87 [00:00<00:00, 352.29it/s]\n",
            "Converting test set: 100%|██████████| 72/72 [00:00<00:00, 357.94it/s]"
          ]
        },
        {
          "output_type": "stream",
          "name": "stdout",
          "text": [
            "\n",
            "✅ Conversion complete!\n",
            "Train: 205 images processed, 197 with RBCs, 2382 total RBCs\n",
            "Val: 87 images processed, 83 with RBCs, 968 total RBCs\n",
            "Test: 72 images processed, 69 with RBCs, 805 total RBCs\n",
            "\n",
            "📝 Created dataset.yaml at /kaggle/working/bccd_yolo/dataset.yaml\n"
          ]
        },
        {
          "output_type": "stream",
          "name": "stderr",
          "text": [
            "\n"
          ]
        }
      ]
    },
    {
      "cell_type": "code",
      "source": [
        "# Quick check\n",
        "import os\n",
        "print(f\"Images: {len(os.listdir('/kaggle/working/bccd_yolo/images/train'))}\")\n",
        "print(f\"Labels: {len(os.listdir('/kaggle/working/bccd_yolo/labels/train'))}\")"
      ],
      "metadata": {
        "colab": {
          "base_uri": "https://localhost:8080/"
        },
        "id": "V7M0ZhGGQAiE",
        "outputId": "1f25ddfb-6d2c-4c91-f071-66eed94414c7"
      },
      "execution_count": null,
      "outputs": [
        {
          "output_type": "stream",
          "name": "stdout",
          "text": [
            "Images: 197\n",
            "Labels: 197\n"
          ]
        }
      ]
    },
    {
      "cell_type": "code",
      "source": [
        "# Start with fewer epochs and monitor\n",
        "results = model.train(\n",
        "    data='/kaggle/working/bccd_yolo/dataset.yaml',\n",
        "    epochs=50,        # Start with 50\n",
        "    imgsz=640,\n",
        "    batch=8,          # Smaller batch for small dataset\n",
        "    patience=10,      # Early stopping after 10 epochs of no improvement\n",
        "    save_period=10    # Save checkpoint every 10 epochs\n",
        ")\n"
      ],
      "metadata": {
        "colab": {
          "base_uri": "https://localhost:8080/"
        },
        "id": "e6-banR_QEes",
        "outputId": "ce8ae165-0f25-4371-b32f-71d587113ca5"
      },
      "execution_count": null,
      "outputs": [
        {
          "output_type": "stream",
          "name": "stdout",
          "text": [
            "Ultralytics 8.3.170 🚀 Python-3.11.13 torch-2.6.0+cu124 CUDA:0 (Tesla T4, 15095MiB)\n",
            "\u001b[34m\u001b[1mengine/trainer: \u001b[0magnostic_nms=False, amp=True, augment=False, auto_augment=randaugment, batch=8, bgr=0.0, box=7.5, cache=False, cfg=None, classes=None, close_mosaic=10, cls=0.5, conf=None, copy_paste=0.0, copy_paste_mode=flip, cos_lr=False, cutmix=0.0, data=/kaggle/working/bccd_yolo/dataset.yaml, degrees=0.0, deterministic=True, device=0, dfl=1.5, dnn=False, dropout=0.0, dynamic=False, embed=None, epochs=50, erasing=0.4, exist_ok=False, fliplr=0.5, flipud=0.0, format=torchscript, fraction=1.0, freeze=None, half=False, hsv_h=0.015, hsv_s=0.7, hsv_v=0.4, imgsz=640, int8=False, iou=0.7, keras=False, kobj=1.0, line_width=None, lr0=0.01, lrf=0.01, mask_ratio=4, max_det=300, mixup=0.0, mode=train, model=yolov8n.pt, momentum=0.937, mosaic=1.0, multi_scale=False, name=train2, nbs=64, nms=False, opset=None, optimize=False, optimizer=auto, overlap_mask=True, patience=10, perspective=0.0, plots=True, pose=12.0, pretrained=True, profile=False, project=None, rect=False, resume=False, retina_masks=False, save=True, save_conf=False, save_crop=False, save_dir=runs/detect/train2, save_frames=False, save_json=False, save_period=10, save_txt=False, scale=0.5, seed=0, shear=0.0, show=False, show_boxes=True, show_conf=True, show_labels=True, simplify=True, single_cls=False, source=None, split=val, stream_buffer=False, task=detect, time=None, tracker=botsort.yaml, translate=0.1, val=True, verbose=True, vid_stride=1, visualize=False, warmup_bias_lr=0.1, warmup_epochs=3.0, warmup_momentum=0.8, weight_decay=0.0005, workers=8, workspace=None\n",
            "\n",
            "                   from  n    params  module                                       arguments                     \n",
            "  0                  -1  1       464  ultralytics.nn.modules.conv.Conv             [3, 16, 3, 2]                 \n",
            "  1                  -1  1      4672  ultralytics.nn.modules.conv.Conv             [16, 32, 3, 2]                \n",
            "  2                  -1  1      7360  ultralytics.nn.modules.block.C2f             [32, 32, 1, True]             \n",
            "  3                  -1  1     18560  ultralytics.nn.modules.conv.Conv             [32, 64, 3, 2]                \n",
            "  4                  -1  2     49664  ultralytics.nn.modules.block.C2f             [64, 64, 2, True]             \n",
            "  5                  -1  1     73984  ultralytics.nn.modules.conv.Conv             [64, 128, 3, 2]               \n",
            "  6                  -1  2    197632  ultralytics.nn.modules.block.C2f             [128, 128, 2, True]           \n",
            "  7                  -1  1    295424  ultralytics.nn.modules.conv.Conv             [128, 256, 3, 2]              \n",
            "  8                  -1  1    460288  ultralytics.nn.modules.block.C2f             [256, 256, 1, True]           \n",
            "  9                  -1  1    164608  ultralytics.nn.modules.block.SPPF            [256, 256, 5]                 \n",
            " 10                  -1  1         0  torch.nn.modules.upsampling.Upsample         [None, 2, 'nearest']          \n",
            " 11             [-1, 6]  1         0  ultralytics.nn.modules.conv.Concat           [1]                           \n",
            " 12                  -1  1    148224  ultralytics.nn.modules.block.C2f             [384, 128, 1]                 \n",
            " 13                  -1  1         0  torch.nn.modules.upsampling.Upsample         [None, 2, 'nearest']          \n",
            " 14             [-1, 4]  1         0  ultralytics.nn.modules.conv.Concat           [1]                           \n",
            " 15                  -1  1     37248  ultralytics.nn.modules.block.C2f             [192, 64, 1]                  \n",
            " 16                  -1  1     36992  ultralytics.nn.modules.conv.Conv             [64, 64, 3, 2]                \n",
            " 17            [-1, 12]  1         0  ultralytics.nn.modules.conv.Concat           [1]                           \n",
            " 18                  -1  1    123648  ultralytics.nn.modules.block.C2f             [192, 128, 1]                 \n",
            " 19                  -1  1    147712  ultralytics.nn.modules.conv.Conv             [128, 128, 3, 2]              \n",
            " 20             [-1, 9]  1         0  ultralytics.nn.modules.conv.Concat           [1]                           \n",
            " 21                  -1  1    493056  ultralytics.nn.modules.block.C2f             [384, 256, 1]                 \n",
            " 22        [15, 18, 21]  1    751507  ultralytics.nn.modules.head.Detect           [1, [64, 128, 256]]           \n",
            "Model summary: 129 layers, 3,011,043 parameters, 3,011,027 gradients, 8.2 GFLOPs\n",
            "\n",
            "Transferred 355/355 items from pretrained weights\n",
            "Freezing layer 'model.22.dfl.conv.weight'\n",
            "\u001b[34m\u001b[1mAMP: \u001b[0mrunning Automatic Mixed Precision (AMP) checks...\n",
            "\u001b[34m\u001b[1mAMP: \u001b[0mchecks passed ✅\n",
            "\u001b[34m\u001b[1mtrain: \u001b[0mFast image access ✅ (ping: 0.0±0.0 ms, read: 719.7±220.0 MB/s, size: 20.2 KB)\n"
          ]
        },
        {
          "output_type": "stream",
          "name": "stderr",
          "text": [
            "\u001b[34m\u001b[1mtrain: \u001b[0mScanning /kaggle/working/bccd_yolo/labels/train.cache... 197 images, 0 backgrounds, 0 corrupt: 100%|██████████| 197/197 [00:00<?, ?it/s]"
          ]
        },
        {
          "output_type": "stream",
          "name": "stdout",
          "text": [
            "\u001b[34m\u001b[1malbumentations: \u001b[0mBlur(p=0.01, blur_limit=(3, 7)), MedianBlur(p=0.01, blur_limit=(3, 7)), ToGray(p=0.01, method='weighted_average', num_output_channels=3), CLAHE(p=0.01, clip_limit=(1.0, 4.0), tile_grid_size=(8, 8))\n"
          ]
        },
        {
          "output_type": "stream",
          "name": "stderr",
          "text": [
            "\n"
          ]
        },
        {
          "output_type": "stream",
          "name": "stdout",
          "text": [
            "\u001b[34m\u001b[1mval: \u001b[0mFast image access ✅ (ping: 0.0±0.0 ms, read: 322.5±183.6 MB/s, size: 20.5 KB)\n"
          ]
        },
        {
          "output_type": "stream",
          "name": "stderr",
          "text": [
            "\u001b[34m\u001b[1mval: \u001b[0mScanning /kaggle/working/bccd_yolo/labels/val.cache... 83 images, 0 backgrounds, 0 corrupt: 100%|██████████| 83/83 [00:00<?, ?it/s]\n"
          ]
        },
        {
          "output_type": "stream",
          "name": "stdout",
          "text": [
            "Plotting labels to runs/detect/train2/labels.jpg... \n",
            "\u001b[34m\u001b[1moptimizer:\u001b[0m 'optimizer=auto' found, ignoring 'lr0=0.01' and 'momentum=0.937' and determining best 'optimizer', 'lr0' and 'momentum' automatically... \n",
            "\u001b[34m\u001b[1moptimizer:\u001b[0m AdamW(lr=0.002, momentum=0.9) with parameter groups 57 weight(decay=0.0), 64 weight(decay=0.0005), 63 bias(decay=0.0)\n",
            "Image sizes 640 train, 640 val\n",
            "Using 2 dataloader workers\n",
            "Logging results to \u001b[1mruns/detect/train2\u001b[0m\n",
            "Starting training for 50 epochs...\n",
            "\n",
            "      Epoch    GPU_mem   box_loss   cls_loss   dfl_loss  Instances       Size\n"
          ]
        },
        {
          "output_type": "stream",
          "name": "stderr",
          "text": [
            "       1/50       3.4G      1.243      1.288      1.265        102        640: 100%|██████████| 25/25 [00:04<00:00,  5.31it/s]\n",
            "                 Class     Images  Instances      Box(P          R      mAP50  mAP50-95): 100%|██████████| 6/6 [00:00<00:00,  7.94it/s]"
          ]
        },
        {
          "output_type": "stream",
          "name": "stdout",
          "text": [
            "                   all         83        968      0.854      0.431      0.651      0.347\n"
          ]
        },
        {
          "output_type": "stream",
          "name": "stderr",
          "text": [
            "\n"
          ]
        },
        {
          "output_type": "stream",
          "name": "stdout",
          "text": [
            "\n",
            "      Epoch    GPU_mem   box_loss   cls_loss   dfl_loss  Instances       Size\n"
          ]
        },
        {
          "output_type": "stream",
          "name": "stderr",
          "text": [
            "       2/50       3.4G      1.157      1.167      1.217        118        640: 100%|██████████| 25/25 [00:04<00:00,  5.07it/s]\n",
            "                 Class     Images  Instances      Box(P          R      mAP50  mAP50-95): 100%|██████████| 6/6 [00:00<00:00,  9.20it/s]"
          ]
        },
        {
          "output_type": "stream",
          "name": "stdout",
          "text": [
            "                   all         83        968      0.715      0.846      0.831      0.542\n"
          ]
        },
        {
          "output_type": "stream",
          "name": "stderr",
          "text": [
            "\n"
          ]
        },
        {
          "output_type": "stream",
          "name": "stdout",
          "text": [
            "\n",
            "      Epoch    GPU_mem   box_loss   cls_loss   dfl_loss  Instances       Size\n"
          ]
        },
        {
          "output_type": "stream",
          "name": "stderr",
          "text": [
            "       3/50       3.4G      1.172      1.081      1.216        129        640: 100%|██████████| 25/25 [00:03<00:00,  6.74it/s]\n",
            "                 Class     Images  Instances      Box(P          R      mAP50  mAP50-95): 100%|██████████| 6/6 [00:00<00:00,  8.76it/s]\n"
          ]
        },
        {
          "output_type": "stream",
          "name": "stdout",
          "text": [
            "                   all         83        968      0.747      0.811      0.854       0.55\n",
            "\n",
            "      Epoch    GPU_mem   box_loss   cls_loss   dfl_loss  Instances       Size\n"
          ]
        },
        {
          "output_type": "stream",
          "name": "stderr",
          "text": [
            "       4/50       3.4G      1.176      1.081      1.212        116        640: 100%|██████████| 25/25 [00:04<00:00,  5.37it/s]\n",
            "                 Class     Images  Instances      Box(P          R      mAP50  mAP50-95): 100%|██████████| 6/6 [00:00<00:00,  6.03it/s]"
          ]
        },
        {
          "output_type": "stream",
          "name": "stdout",
          "text": [
            "                   all         83        968      0.754      0.778      0.836      0.536\n"
          ]
        },
        {
          "output_type": "stream",
          "name": "stderr",
          "text": [
            "\n"
          ]
        },
        {
          "output_type": "stream",
          "name": "stdout",
          "text": [
            "\n",
            "      Epoch    GPU_mem   box_loss   cls_loss   dfl_loss  Instances       Size\n"
          ]
        },
        {
          "output_type": "stream",
          "name": "stderr",
          "text": [
            "       5/50       3.4G      1.168      1.046       1.23        167        640: 100%|██████████| 25/25 [00:03<00:00,  6.76it/s]\n",
            "                 Class     Images  Instances      Box(P          R      mAP50  mAP50-95): 100%|██████████| 6/6 [00:00<00:00,  9.12it/s]\n"
          ]
        },
        {
          "output_type": "stream",
          "name": "stdout",
          "text": [
            "                   all         83        968      0.757      0.779      0.836      0.524\n",
            "\n",
            "      Epoch    GPU_mem   box_loss   cls_loss   dfl_loss  Instances       Size\n"
          ]
        },
        {
          "output_type": "stream",
          "name": "stderr",
          "text": [
            "       6/50       3.4G      1.135     0.9838      1.192         90        640: 100%|██████████| 25/25 [00:03<00:00,  6.68it/s]\n",
            "                 Class     Images  Instances      Box(P          R      mAP50  mAP50-95): 100%|██████████| 6/6 [00:00<00:00,  9.49it/s]\n"
          ]
        },
        {
          "output_type": "stream",
          "name": "stdout",
          "text": [
            "                   all         83        968       0.75      0.786      0.813      0.479\n",
            "\n",
            "      Epoch    GPU_mem   box_loss   cls_loss   dfl_loss  Instances       Size\n"
          ]
        },
        {
          "output_type": "stream",
          "name": "stderr",
          "text": [
            "       7/50       3.4G      1.126     0.9619      1.205        118        640: 100%|██████████| 25/25 [00:04<00:00,  5.24it/s]\n",
            "                 Class     Images  Instances      Box(P          R      mAP50  mAP50-95): 100%|██████████| 6/6 [00:00<00:00,  7.98it/s]"
          ]
        },
        {
          "output_type": "stream",
          "name": "stdout",
          "text": [
            "                   all         83        968      0.757      0.818       0.85      0.547\n"
          ]
        },
        {
          "output_type": "stream",
          "name": "stderr",
          "text": [
            "\n"
          ]
        },
        {
          "output_type": "stream",
          "name": "stdout",
          "text": [
            "\n",
            "      Epoch    GPU_mem   box_loss   cls_loss   dfl_loss  Instances       Size\n"
          ]
        },
        {
          "output_type": "stream",
          "name": "stderr",
          "text": [
            "       8/50       3.4G      1.128     0.9859      1.196         93        640: 100%|██████████| 25/25 [00:03<00:00,  6.88it/s]\n",
            "                 Class     Images  Instances      Box(P          R      mAP50  mAP50-95): 100%|██████████| 6/6 [00:00<00:00,  8.87it/s]"
          ]
        },
        {
          "output_type": "stream",
          "name": "stdout",
          "text": [
            "                   all         83        968      0.765      0.775       0.83      0.524\n"
          ]
        },
        {
          "output_type": "stream",
          "name": "stderr",
          "text": [
            "\n"
          ]
        },
        {
          "output_type": "stream",
          "name": "stdout",
          "text": [
            "\n",
            "      Epoch    GPU_mem   box_loss   cls_loss   dfl_loss  Instances       Size\n"
          ]
        },
        {
          "output_type": "stream",
          "name": "stderr",
          "text": [
            "       9/50       3.4G      1.112      0.965      1.182         88        640: 100%|██████████| 25/25 [00:04<00:00,  5.26it/s]\n",
            "                 Class     Images  Instances      Box(P          R      mAP50  mAP50-95): 100%|██████████| 6/6 [00:00<00:00,  6.04it/s]"
          ]
        },
        {
          "output_type": "stream",
          "name": "stdout",
          "text": [
            "                   all         83        968       0.73      0.818      0.859      0.599\n"
          ]
        },
        {
          "output_type": "stream",
          "name": "stderr",
          "text": [
            "\n"
          ]
        },
        {
          "output_type": "stream",
          "name": "stdout",
          "text": [
            "\n",
            "      Epoch    GPU_mem   box_loss   cls_loss   dfl_loss  Instances       Size\n"
          ]
        },
        {
          "output_type": "stream",
          "name": "stderr",
          "text": [
            "      10/50       3.4G      1.086     0.9124      1.183        103        640: 100%|██████████| 25/25 [00:03<00:00,  6.60it/s]\n",
            "                 Class     Images  Instances      Box(P          R      mAP50  mAP50-95): 100%|██████████| 6/6 [00:00<00:00,  9.91it/s]"
          ]
        },
        {
          "output_type": "stream",
          "name": "stdout",
          "text": [
            "                   all         83        968      0.761      0.843      0.878      0.597\n"
          ]
        },
        {
          "output_type": "stream",
          "name": "stderr",
          "text": [
            "\n"
          ]
        },
        {
          "output_type": "stream",
          "name": "stdout",
          "text": [
            "\n",
            "      Epoch    GPU_mem   box_loss   cls_loss   dfl_loss  Instances       Size\n"
          ]
        },
        {
          "output_type": "stream",
          "name": "stderr",
          "text": [
            "      11/50       3.4G      1.092     0.9028      1.175         72        640: 100%|██████████| 25/25 [00:03<00:00,  6.72it/s]\n",
            "                 Class     Images  Instances      Box(P          R      mAP50  mAP50-95): 100%|██████████| 6/6 [00:00<00:00,  9.82it/s]\n"
          ]
        },
        {
          "output_type": "stream",
          "name": "stdout",
          "text": [
            "                   all         83        968      0.767      0.816      0.871      0.569\n",
            "\n",
            "      Epoch    GPU_mem   box_loss   cls_loss   dfl_loss  Instances       Size\n"
          ]
        },
        {
          "output_type": "stream",
          "name": "stderr",
          "text": [
            "      12/50       3.4G       1.08     0.9237      1.168        101        640: 100%|██████████| 25/25 [00:04<00:00,  5.21it/s]\n",
            "                 Class     Images  Instances      Box(P          R      mAP50  mAP50-95): 100%|██████████| 6/6 [00:00<00:00,  8.89it/s]\n"
          ]
        },
        {
          "output_type": "stream",
          "name": "stdout",
          "text": [
            "                   all         83        968      0.766      0.837      0.886      0.612\n",
            "\n",
            "      Epoch    GPU_mem   box_loss   cls_loss   dfl_loss  Instances       Size\n"
          ]
        },
        {
          "output_type": "stream",
          "name": "stderr",
          "text": [
            "      13/50       3.4G      1.085     0.9011      1.179        104        640: 100%|██████████| 25/25 [00:03<00:00,  6.67it/s]\n",
            "                 Class     Images  Instances      Box(P          R      mAP50  mAP50-95): 100%|██████████| 6/6 [00:00<00:00,  7.20it/s]"
          ]
        },
        {
          "output_type": "stream",
          "name": "stdout",
          "text": [
            "                   all         83        968      0.752      0.859      0.884      0.612\n"
          ]
        },
        {
          "output_type": "stream",
          "name": "stderr",
          "text": [
            "\n"
          ]
        },
        {
          "output_type": "stream",
          "name": "stdout",
          "text": [
            "\n",
            "      Epoch    GPU_mem   box_loss   cls_loss   dfl_loss  Instances       Size\n"
          ]
        },
        {
          "output_type": "stream",
          "name": "stderr",
          "text": [
            "      14/50       3.4G      1.065     0.8801      1.164         94        640: 100%|██████████| 25/25 [00:04<00:00,  5.99it/s]\n",
            "                 Class     Images  Instances      Box(P          R      mAP50  mAP50-95): 100%|██████████| 6/6 [00:00<00:00,  6.06it/s]"
          ]
        },
        {
          "output_type": "stream",
          "name": "stdout",
          "text": [
            "                   all         83        968       0.76      0.813      0.863      0.593\n"
          ]
        },
        {
          "output_type": "stream",
          "name": "stderr",
          "text": [
            "\n"
          ]
        },
        {
          "output_type": "stream",
          "name": "stdout",
          "text": [
            "\n",
            "      Epoch    GPU_mem   box_loss   cls_loss   dfl_loss  Instances       Size\n"
          ]
        },
        {
          "output_type": "stream",
          "name": "stderr",
          "text": [
            "      15/50       3.4G      1.083       0.86      1.172        100        640: 100%|██████████| 25/25 [00:03<00:00,  6.84it/s]\n",
            "                 Class     Images  Instances      Box(P          R      mAP50  mAP50-95): 100%|██████████| 6/6 [00:00<00:00,  7.88it/s]"
          ]
        },
        {
          "output_type": "stream",
          "name": "stdout",
          "text": [
            "                   all         83        968       0.79       0.82      0.889       0.63\n"
          ]
        },
        {
          "output_type": "stream",
          "name": "stderr",
          "text": [
            "\n"
          ]
        },
        {
          "output_type": "stream",
          "name": "stdout",
          "text": [
            "\n",
            "      Epoch    GPU_mem   box_loss   cls_loss   dfl_loss  Instances       Size\n"
          ]
        },
        {
          "output_type": "stream",
          "name": "stderr",
          "text": [
            "      16/50       3.4G      1.071     0.8624      1.162        119        640: 100%|██████████| 25/25 [00:03<00:00,  6.86it/s]\n",
            "                 Class     Images  Instances      Box(P          R      mAP50  mAP50-95): 100%|██████████| 6/6 [00:00<00:00,  9.64it/s]"
          ]
        },
        {
          "output_type": "stream",
          "name": "stdout",
          "text": [
            "                   all         83        968      0.795      0.828      0.893      0.599\n"
          ]
        },
        {
          "output_type": "stream",
          "name": "stderr",
          "text": [
            "\n"
          ]
        },
        {
          "output_type": "stream",
          "name": "stdout",
          "text": [
            "\n",
            "      Epoch    GPU_mem   box_loss   cls_loss   dfl_loss  Instances       Size\n"
          ]
        },
        {
          "output_type": "stream",
          "name": "stderr",
          "text": [
            "      17/50       3.4G      1.051     0.8445      1.152        121        640: 100%|██████████| 25/25 [00:04<00:00,  5.14it/s]\n",
            "                 Class     Images  Instances      Box(P          R      mAP50  mAP50-95): 100%|██████████| 6/6 [00:00<00:00,  9.04it/s]"
          ]
        },
        {
          "output_type": "stream",
          "name": "stdout",
          "text": [
            "                   all         83        968      0.786      0.842      0.893      0.618\n"
          ]
        },
        {
          "output_type": "stream",
          "name": "stderr",
          "text": [
            "\n"
          ]
        },
        {
          "output_type": "stream",
          "name": "stdout",
          "text": [
            "\n",
            "      Epoch    GPU_mem   box_loss   cls_loss   dfl_loss  Instances       Size\n"
          ]
        },
        {
          "output_type": "stream",
          "name": "stderr",
          "text": [
            "      18/50       3.4G      1.063     0.8495      1.161        104        640: 100%|██████████| 25/25 [00:03<00:00,  6.87it/s]\n",
            "                 Class     Images  Instances      Box(P          R      mAP50  mAP50-95): 100%|██████████| 6/6 [00:00<00:00,  9.29it/s]\n"
          ]
        },
        {
          "output_type": "stream",
          "name": "stdout",
          "text": [
            "                   all         83        968      0.768      0.842      0.877       0.59\n",
            "\n",
            "      Epoch    GPU_mem   box_loss   cls_loss   dfl_loss  Instances       Size\n"
          ]
        },
        {
          "output_type": "stream",
          "name": "stderr",
          "text": [
            "      19/50       3.4G      1.034     0.8149      1.132         99        640: 100%|██████████| 25/25 [00:03<00:00,  6.25it/s]\n",
            "                 Class     Images  Instances      Box(P          R      mAP50  mAP50-95): 100%|██████████| 6/6 [00:00<00:00,  6.53it/s]"
          ]
        },
        {
          "output_type": "stream",
          "name": "stdout",
          "text": [
            "                   all         83        968        0.8      0.812      0.894      0.627\n"
          ]
        },
        {
          "output_type": "stream",
          "name": "stderr",
          "text": [
            "\n"
          ]
        },
        {
          "output_type": "stream",
          "name": "stdout",
          "text": [
            "\n",
            "      Epoch    GPU_mem   box_loss   cls_loss   dfl_loss  Instances       Size\n"
          ]
        },
        {
          "output_type": "stream",
          "name": "stderr",
          "text": [
            "      20/50       3.4G       1.02     0.8033      1.137         67        640: 100%|██████████| 25/25 [00:03<00:00,  6.72it/s]\n",
            "                 Class     Images  Instances      Box(P          R      mAP50  mAP50-95): 100%|██████████| 6/6 [00:00<00:00,  9.57it/s]"
          ]
        },
        {
          "output_type": "stream",
          "name": "stdout",
          "text": [
            "                   all         83        968      0.778      0.842      0.902      0.645\n"
          ]
        },
        {
          "output_type": "stream",
          "name": "stderr",
          "text": [
            "\n"
          ]
        },
        {
          "output_type": "stream",
          "name": "stdout",
          "text": [
            "\n",
            "      Epoch    GPU_mem   box_loss   cls_loss   dfl_loss  Instances       Size\n"
          ]
        },
        {
          "output_type": "stream",
          "name": "stderr",
          "text": [
            "      21/50       3.4G      1.027     0.7995      1.148         96        640: 100%|██████████| 25/25 [00:03<00:00,  6.95it/s]\n",
            "                 Class     Images  Instances      Box(P          R      mAP50  mAP50-95): 100%|██████████| 6/6 [00:00<00:00,  7.83it/s]"
          ]
        },
        {
          "output_type": "stream",
          "name": "stdout",
          "text": [
            "                   all         83        968      0.792      0.836      0.898       0.62\n"
          ]
        },
        {
          "output_type": "stream",
          "name": "stderr",
          "text": [
            "\n"
          ]
        },
        {
          "output_type": "stream",
          "name": "stdout",
          "text": [
            "\n",
            "      Epoch    GPU_mem   box_loss   cls_loss   dfl_loss  Instances       Size\n"
          ]
        },
        {
          "output_type": "stream",
          "name": "stderr",
          "text": [
            "      22/50       3.4G      1.033      0.792       1.13        113        640: 100%|██████████| 25/25 [00:05<00:00,  4.90it/s]\n",
            "                 Class     Images  Instances      Box(P          R      mAP50  mAP50-95): 100%|██████████| 6/6 [00:00<00:00,  9.65it/s]"
          ]
        },
        {
          "output_type": "stream",
          "name": "stdout",
          "text": [
            "                   all         83        968      0.792      0.826      0.896      0.623\n"
          ]
        },
        {
          "output_type": "stream",
          "name": "stderr",
          "text": [
            "\n"
          ]
        },
        {
          "output_type": "stream",
          "name": "stdout",
          "text": [
            "\n",
            "      Epoch    GPU_mem   box_loss   cls_loss   dfl_loss  Instances       Size\n"
          ]
        },
        {
          "output_type": "stream",
          "name": "stderr",
          "text": [
            "      23/50       3.4G      1.058     0.8246       1.16         80        640: 100%|██████████| 25/25 [00:03<00:00,  6.92it/s]\n",
            "                 Class     Images  Instances      Box(P          R      mAP50  mAP50-95): 100%|██████████| 6/6 [00:00<00:00,  9.86it/s]"
          ]
        },
        {
          "output_type": "stream",
          "name": "stdout",
          "text": [
            "                   all         83        968      0.788      0.843      0.901      0.643\n"
          ]
        },
        {
          "output_type": "stream",
          "name": "stderr",
          "text": [
            "\n"
          ]
        },
        {
          "output_type": "stream",
          "name": "stdout",
          "text": [
            "\n",
            "      Epoch    GPU_mem   box_loss   cls_loss   dfl_loss  Instances       Size\n"
          ]
        },
        {
          "output_type": "stream",
          "name": "stderr",
          "text": [
            "      24/50       3.4G      1.046     0.8023       1.14        117        640: 100%|██████████| 25/25 [00:03<00:00,  6.81it/s]\n",
            "                 Class     Images  Instances      Box(P          R      mAP50  mAP50-95): 100%|██████████| 6/6 [00:00<00:00,  6.79it/s]"
          ]
        },
        {
          "output_type": "stream",
          "name": "stdout",
          "text": [
            "                   all         83        968      0.777       0.85      0.894      0.636\n"
          ]
        },
        {
          "output_type": "stream",
          "name": "stderr",
          "text": [
            "\n"
          ]
        },
        {
          "output_type": "stream",
          "name": "stdout",
          "text": [
            "\n",
            "      Epoch    GPU_mem   box_loss   cls_loss   dfl_loss  Instances       Size\n"
          ]
        },
        {
          "output_type": "stream",
          "name": "stderr",
          "text": [
            "      25/50       3.4G      1.012     0.8011      1.133         76        640: 100%|██████████| 25/25 [00:04<00:00,  5.93it/s]\n",
            "                 Class     Images  Instances      Box(P          R      mAP50  mAP50-95): 100%|██████████| 6/6 [00:00<00:00, 10.12it/s]"
          ]
        },
        {
          "output_type": "stream",
          "name": "stdout",
          "text": [
            "                   all         83        968       0.81      0.817      0.893      0.635\n"
          ]
        },
        {
          "output_type": "stream",
          "name": "stderr",
          "text": [
            "\n"
          ]
        },
        {
          "output_type": "stream",
          "name": "stdout",
          "text": [
            "\n",
            "      Epoch    GPU_mem   box_loss   cls_loss   dfl_loss  Instances       Size\n"
          ]
        },
        {
          "output_type": "stream",
          "name": "stderr",
          "text": [
            "      26/50       3.4G      1.019     0.7654      1.128        142        640: 100%|██████████| 25/25 [00:03<00:00,  6.58it/s]\n",
            "                 Class     Images  Instances      Box(P          R      mAP50  mAP50-95): 100%|██████████| 6/6 [00:00<00:00,  9.69it/s]\n"
          ]
        },
        {
          "output_type": "stream",
          "name": "stdout",
          "text": [
            "                   all         83        968      0.825      0.816      0.903      0.638\n",
            "\n",
            "      Epoch    GPU_mem   box_loss   cls_loss   dfl_loss  Instances       Size\n"
          ]
        },
        {
          "output_type": "stream",
          "name": "stderr",
          "text": [
            "      27/50       3.4G      1.006     0.7673       1.12        127        640: 100%|██████████| 25/25 [00:04<00:00,  5.22it/s]\n",
            "                 Class     Images  Instances      Box(P          R      mAP50  mAP50-95): 100%|██████████| 6/6 [00:00<00:00,  8.43it/s]"
          ]
        },
        {
          "output_type": "stream",
          "name": "stdout",
          "text": [
            "                   all         83        968      0.803      0.801      0.891      0.626\n"
          ]
        },
        {
          "output_type": "stream",
          "name": "stderr",
          "text": [
            "\n"
          ]
        },
        {
          "output_type": "stream",
          "name": "stdout",
          "text": [
            "\n",
            "      Epoch    GPU_mem   box_loss   cls_loss   dfl_loss  Instances       Size\n"
          ]
        },
        {
          "output_type": "stream",
          "name": "stderr",
          "text": [
            "      28/50       3.4G      1.014     0.7452      1.133         96        640: 100%|██████████| 25/25 [00:03<00:00,  6.59it/s]\n",
            "                 Class     Images  Instances      Box(P          R      mAP50  mAP50-95): 100%|██████████| 6/6 [00:00<00:00,  9.70it/s]\n"
          ]
        },
        {
          "output_type": "stream",
          "name": "stdout",
          "text": [
            "                   all         83        968       0.78      0.844      0.896      0.638\n",
            "\n",
            "      Epoch    GPU_mem   box_loss   cls_loss   dfl_loss  Instances       Size\n"
          ]
        },
        {
          "output_type": "stream",
          "name": "stderr",
          "text": [
            "      29/50       3.4G     0.9722     0.7406      1.109        144        640: 100%|██████████| 25/25 [00:03<00:00,  6.94it/s]\n",
            "                 Class     Images  Instances      Box(P          R      mAP50  mAP50-95): 100%|██████████| 6/6 [00:00<00:00,  9.64it/s]"
          ]
        },
        {
          "output_type": "stream",
          "name": "stdout",
          "text": [
            "                   all         83        968      0.813      0.825      0.902      0.638\n"
          ]
        },
        {
          "output_type": "stream",
          "name": "stderr",
          "text": [
            "\n"
          ]
        },
        {
          "output_type": "stream",
          "name": "stdout",
          "text": [
            "\n",
            "      Epoch    GPU_mem   box_loss   cls_loss   dfl_loss  Instances       Size\n"
          ]
        },
        {
          "output_type": "stream",
          "name": "stderr",
          "text": [
            "      30/50       3.4G     0.9842     0.7378      1.107        106        640: 100%|██████████| 25/25 [00:04<00:00,  5.16it/s]\n",
            "                 Class     Images  Instances      Box(P          R      mAP50  mAP50-95): 100%|██████████| 6/6 [00:00<00:00,  9.60it/s]\n"
          ]
        },
        {
          "output_type": "stream",
          "name": "stdout",
          "text": [
            "                   all         83        968      0.827      0.818      0.903      0.646\n",
            "\n",
            "      Epoch    GPU_mem   box_loss   cls_loss   dfl_loss  Instances       Size\n"
          ]
        },
        {
          "output_type": "stream",
          "name": "stderr",
          "text": [
            "      31/50       3.4G      1.001     0.7351      1.114        130        640: 100%|██████████| 25/25 [00:03<00:00,  6.86it/s]\n",
            "                 Class     Images  Instances      Box(P          R      mAP50  mAP50-95): 100%|██████████| 6/6 [00:00<00:00,  8.59it/s]"
          ]
        },
        {
          "output_type": "stream",
          "name": "stdout",
          "text": [
            "                   all         83        968      0.807      0.819      0.897      0.631\n"
          ]
        },
        {
          "output_type": "stream",
          "name": "stderr",
          "text": [
            "\n"
          ]
        },
        {
          "output_type": "stream",
          "name": "stdout",
          "text": [
            "\n",
            "      Epoch    GPU_mem   box_loss   cls_loss   dfl_loss  Instances       Size\n"
          ]
        },
        {
          "output_type": "stream",
          "name": "stderr",
          "text": [
            "      32/50       3.4G      0.969     0.7444      1.106        112        640: 100%|██████████| 25/25 [00:04<00:00,  5.45it/s]\n",
            "                 Class     Images  Instances      Box(P          R      mAP50  mAP50-95): 100%|██████████| 6/6 [00:00<00:00,  6.27it/s]\n"
          ]
        },
        {
          "output_type": "stream",
          "name": "stdout",
          "text": [
            "                   all         83        968      0.795      0.844      0.902      0.642\n",
            "\n",
            "      Epoch    GPU_mem   box_loss   cls_loss   dfl_loss  Instances       Size\n"
          ]
        },
        {
          "output_type": "stream",
          "name": "stderr",
          "text": [
            "      33/50       3.4G     0.9506     0.7063      1.091        143        640: 100%|██████████| 25/25 [00:03<00:00,  6.77it/s]\n",
            "                 Class     Images  Instances      Box(P          R      mAP50  mAP50-95): 100%|██████████| 6/6 [00:00<00:00,  9.53it/s]"
          ]
        },
        {
          "output_type": "stream",
          "name": "stdout",
          "text": [
            "                   all         83        968      0.802      0.853      0.905      0.644\n"
          ]
        },
        {
          "output_type": "stream",
          "name": "stderr",
          "text": [
            "\n"
          ]
        },
        {
          "output_type": "stream",
          "name": "stdout",
          "text": [
            "\n",
            "      Epoch    GPU_mem   box_loss   cls_loss   dfl_loss  Instances       Size\n"
          ]
        },
        {
          "output_type": "stream",
          "name": "stderr",
          "text": [
            "      34/50       3.4G     0.9557     0.7152      1.091        124        640: 100%|██████████| 25/25 [00:03<00:00,  6.68it/s]\n",
            "                 Class     Images  Instances      Box(P          R      mAP50  mAP50-95): 100%|██████████| 6/6 [00:00<00:00,  9.72it/s]"
          ]
        },
        {
          "output_type": "stream",
          "name": "stdout",
          "text": [
            "                   all         83        968      0.801      0.834      0.893      0.632\n"
          ]
        },
        {
          "output_type": "stream",
          "name": "stderr",
          "text": [
            "\n"
          ]
        },
        {
          "output_type": "stream",
          "name": "stdout",
          "text": [
            "\n",
            "      Epoch    GPU_mem   box_loss   cls_loss   dfl_loss  Instances       Size\n"
          ]
        },
        {
          "output_type": "stream",
          "name": "stderr",
          "text": [
            "      35/50       3.4G     0.9549     0.6986      1.086         93        640: 100%|██████████| 25/25 [00:04<00:00,  5.04it/s]\n",
            "                 Class     Images  Instances      Box(P          R      mAP50  mAP50-95): 100%|██████████| 6/6 [00:00<00:00,  9.37it/s]\n"
          ]
        },
        {
          "output_type": "stream",
          "name": "stdout",
          "text": [
            "                   all         83        968      0.787      0.854      0.903       0.65\n",
            "\n",
            "      Epoch    GPU_mem   box_loss   cls_loss   dfl_loss  Instances       Size\n"
          ]
        },
        {
          "output_type": "stream",
          "name": "stderr",
          "text": [
            "      36/50       3.4G      0.967     0.6995      1.097         75        640: 100%|██████████| 25/25 [00:03<00:00,  6.82it/s]\n",
            "                 Class     Images  Instances      Box(P          R      mAP50  mAP50-95): 100%|██████████| 6/6 [00:00<00:00,  9.76it/s]"
          ]
        },
        {
          "output_type": "stream",
          "name": "stdout",
          "text": [
            "                   all         83        968      0.812      0.832      0.901      0.641\n"
          ]
        },
        {
          "output_type": "stream",
          "name": "stderr",
          "text": [
            "\n"
          ]
        },
        {
          "output_type": "stream",
          "name": "stdout",
          "text": [
            "\n",
            "      Epoch    GPU_mem   box_loss   cls_loss   dfl_loss  Instances       Size\n"
          ]
        },
        {
          "output_type": "stream",
          "name": "stderr",
          "text": [
            "      37/50       3.4G     0.9678     0.7184      1.112        118        640: 100%|██████████| 25/25 [00:04<00:00,  5.94it/s]\n",
            "                 Class     Images  Instances      Box(P          R      mAP50  mAP50-95): 100%|██████████| 6/6 [00:00<00:00,  6.20it/s]"
          ]
        },
        {
          "output_type": "stream",
          "name": "stdout",
          "text": [
            "                   all         83        968      0.803      0.848      0.903      0.643\n"
          ]
        },
        {
          "output_type": "stream",
          "name": "stderr",
          "text": [
            "\n"
          ]
        },
        {
          "output_type": "stream",
          "name": "stdout",
          "text": [
            "\n",
            "      Epoch    GPU_mem   box_loss   cls_loss   dfl_loss  Instances       Size\n"
          ]
        },
        {
          "output_type": "stream",
          "name": "stderr",
          "text": [
            "      38/50       3.4G     0.9588     0.6924      1.103        129        640: 100%|██████████| 25/25 [00:03<00:00,  6.84it/s]\n",
            "                 Class     Images  Instances      Box(P          R      mAP50  mAP50-95): 100%|██████████| 6/6 [00:00<00:00,  9.36it/s]"
          ]
        },
        {
          "output_type": "stream",
          "name": "stdout",
          "text": [
            "                   all         83        968      0.813      0.836      0.899      0.644\n"
          ]
        },
        {
          "output_type": "stream",
          "name": "stderr",
          "text": [
            "\n"
          ]
        },
        {
          "output_type": "stream",
          "name": "stdout",
          "text": [
            "\n",
            "      Epoch    GPU_mem   box_loss   cls_loss   dfl_loss  Instances       Size\n"
          ]
        },
        {
          "output_type": "stream",
          "name": "stderr",
          "text": [
            "      39/50       3.4G     0.9474      0.706        1.1        112        640: 100%|██████████| 25/25 [00:03<00:00,  6.76it/s]\n",
            "                 Class     Images  Instances      Box(P          R      mAP50  mAP50-95): 100%|██████████| 6/6 [00:00<00:00,  9.28it/s]"
          ]
        },
        {
          "output_type": "stream",
          "name": "stdout",
          "text": [
            "                   all         83        968      0.811      0.853        0.9      0.641\n"
          ]
        },
        {
          "output_type": "stream",
          "name": "stderr",
          "text": [
            "\n"
          ]
        },
        {
          "output_type": "stream",
          "name": "stdout",
          "text": [
            "\n",
            "      Epoch    GPU_mem   box_loss   cls_loss   dfl_loss  Instances       Size\n"
          ]
        },
        {
          "output_type": "stream",
          "name": "stderr",
          "text": [
            "      40/50       3.4G     0.9131     0.6699      1.076         95        640: 100%|██████████| 25/25 [00:04<00:00,  5.02it/s]\n",
            "                 Class     Images  Instances      Box(P          R      mAP50  mAP50-95): 100%|██████████| 6/6 [00:00<00:00,  9.64it/s]"
          ]
        },
        {
          "output_type": "stream",
          "name": "stdout",
          "text": [
            "                   all         83        968      0.799      0.846        0.9      0.637\n"
          ]
        },
        {
          "output_type": "stream",
          "name": "stderr",
          "text": [
            "\n"
          ]
        },
        {
          "output_type": "stream",
          "name": "stdout",
          "text": [
            "Closing dataloader mosaic\n",
            "\u001b[34m\u001b[1malbumentations: \u001b[0mBlur(p=0.01, blur_limit=(3, 7)), MedianBlur(p=0.01, blur_limit=(3, 7)), ToGray(p=0.01, method='weighted_average', num_output_channels=3), CLAHE(p=0.01, clip_limit=(1.0, 4.0), tile_grid_size=(8, 8))\n",
            "\n",
            "      Epoch    GPU_mem   box_loss   cls_loss   dfl_loss  Instances       Size\n"
          ]
        },
        {
          "output_type": "stream",
          "name": "stderr",
          "text": [
            "      41/50       3.4G     0.9711     0.7889      1.103         47        640: 100%|██████████| 25/25 [00:04<00:00,  5.48it/s]\n",
            "                 Class     Images  Instances      Box(P          R      mAP50  mAP50-95): 100%|██████████| 6/6 [00:00<00:00,  9.53it/s]\n"
          ]
        },
        {
          "output_type": "stream",
          "name": "stdout",
          "text": [
            "                   all         83        968      0.798      0.846       0.89      0.629\n",
            "\n",
            "      Epoch    GPU_mem   box_loss   cls_loss   dfl_loss  Instances       Size\n"
          ]
        },
        {
          "output_type": "stream",
          "name": "stderr",
          "text": [
            "      42/50       3.4G     0.9373     0.6879      1.098         70        640: 100%|██████████| 25/25 [00:04<00:00,  5.63it/s]\n",
            "                 Class     Images  Instances      Box(P          R      mAP50  mAP50-95): 100%|██████████| 6/6 [00:00<00:00,  7.12it/s]"
          ]
        },
        {
          "output_type": "stream",
          "name": "stdout",
          "text": [
            "                   all         83        968      0.785      0.854      0.892      0.632\n"
          ]
        },
        {
          "output_type": "stream",
          "name": "stderr",
          "text": [
            "\n"
          ]
        },
        {
          "output_type": "stream",
          "name": "stdout",
          "text": [
            "\n",
            "      Epoch    GPU_mem   box_loss   cls_loss   dfl_loss  Instances       Size\n"
          ]
        },
        {
          "output_type": "stream",
          "name": "stderr",
          "text": [
            "      43/50       3.4G     0.9156     0.6411      1.084         65        640: 100%|██████████| 25/25 [00:03<00:00,  6.92it/s]\n",
            "                 Class     Images  Instances      Box(P          R      mAP50  mAP50-95): 100%|██████████| 6/6 [00:00<00:00,  9.70it/s]"
          ]
        },
        {
          "output_type": "stream",
          "name": "stdout",
          "text": [
            "                   all         83        968      0.771      0.873      0.897      0.639\n"
          ]
        },
        {
          "output_type": "stream",
          "name": "stderr",
          "text": [
            "\n"
          ]
        },
        {
          "output_type": "stream",
          "name": "stdout",
          "text": [
            "\n",
            "      Epoch    GPU_mem   box_loss   cls_loss   dfl_loss  Instances       Size\n"
          ]
        },
        {
          "output_type": "stream",
          "name": "stderr",
          "text": [
            "      44/50       3.4G     0.9303     0.6435      1.084         63        640: 100%|██████████| 25/25 [00:03<00:00,  6.62it/s]\n",
            "                 Class     Images  Instances      Box(P          R      mAP50  mAP50-95): 100%|██████████| 6/6 [00:00<00:00,  8.84it/s]\n"
          ]
        },
        {
          "output_type": "stream",
          "name": "stdout",
          "text": [
            "                   all         83        968      0.798      0.862      0.906      0.644\n",
            "\n",
            "      Epoch    GPU_mem   box_loss   cls_loss   dfl_loss  Instances       Size\n"
          ]
        },
        {
          "output_type": "stream",
          "name": "stderr",
          "text": [
            "      45/50       3.4G     0.9096     0.6433      1.066         63        640: 100%|██████████| 25/25 [00:04<00:00,  5.17it/s]\n",
            "                 Class     Images  Instances      Box(P          R      mAP50  mAP50-95): 100%|██████████| 6/6 [00:00<00:00,  8.86it/s]\n"
          ]
        },
        {
          "output_type": "stream",
          "name": "stdout",
          "text": [
            "                   all         83        968      0.811      0.834      0.902       0.64\n",
            "\u001b[34m\u001b[1mEarlyStopping: \u001b[0mTraining stopped early as no improvement observed in last 10 epochs. Best results observed at epoch 35, best model saved as best.pt.\n",
            "To update EarlyStopping(patience=10) pass a new patience value, i.e. `patience=300` or use `patience=0` to disable EarlyStopping.\n",
            "\n",
            "45 epochs completed in 0.065 hours.\n",
            "Optimizer stripped from runs/detect/train2/weights/last.pt, 6.2MB\n",
            "Optimizer stripped from runs/detect/train2/weights/best.pt, 6.2MB\n",
            "\n",
            "Validating runs/detect/train2/weights/best.pt...\n",
            "Ultralytics 8.3.170 🚀 Python-3.11.13 torch-2.6.0+cu124 CUDA:0 (Tesla T4, 15095MiB)\n",
            "Model summary (fused): 72 layers, 3,005,843 parameters, 0 gradients, 8.1 GFLOPs\n"
          ]
        },
        {
          "output_type": "stream",
          "name": "stderr",
          "text": [
            "                 Class     Images  Instances      Box(P          R      mAP50  mAP50-95): 100%|██████████| 6/6 [00:02<00:00,  2.05it/s]\n"
          ]
        },
        {
          "output_type": "stream",
          "name": "stdout",
          "text": [
            "                   all         83        968       0.79      0.847      0.903       0.65\n",
            "Speed: 0.2ms preprocess, 4.0ms inference, 0.0ms loss, 6.9ms postprocess per image\n",
            "Results saved to \u001b[1mruns/detect/train2\u001b[0m\n"
          ]
        }
      ]
    },
    {
      "cell_type": "code",
      "source": [
        "# Load your best model\n",
        "model = YOLO('runs/detect/train2/weights/best.pt')\n",
        "\n",
        "# Test on some images\n",
        "results = model.predict('/kaggle/working/bccd_yolo/images/test', save=True, conf=0.5)"
      ],
      "metadata": {
        "colab": {
          "base_uri": "https://localhost:8080/"
        },
        "id": "Kwu0_hPrRoU7",
        "outputId": "62d61174-4459-4ed3-81cc-c5aa263af083"
      },
      "execution_count": null,
      "outputs": [
        {
          "output_type": "stream",
          "name": "stdout",
          "text": [
            "\n",
            "image 1/69 /kaggle/working/bccd_yolo/images/test/BloodImage_00007.jpeg: 480x640 13 RBCs, 56.6ms\n",
            "image 2/69 /kaggle/working/bccd_yolo/images/test/BloodImage_00011.jpeg: 480x640 12 RBCs, 9.3ms\n",
            "image 3/69 /kaggle/working/bccd_yolo/images/test/BloodImage_00015.jpeg: 480x640 17 RBCs, 7.0ms\n",
            "image 4/69 /kaggle/working/bccd_yolo/images/test/BloodImage_00016.jpeg: 480x640 11 RBCs, 7.2ms\n",
            "image 5/69 /kaggle/working/bccd_yolo/images/test/BloodImage_00018.jpeg: 480x640 17 RBCs, 8.6ms\n",
            "image 6/69 /kaggle/working/bccd_yolo/images/test/BloodImage_00019.jpeg: 480x640 12 RBCs, 6.8ms\n",
            "image 7/69 /kaggle/working/bccd_yolo/images/test/BloodImage_00021.jpeg: 480x640 14 RBCs, 6.9ms\n",
            "image 8/69 /kaggle/working/bccd_yolo/images/test/BloodImage_00031.jpeg: 480x640 16 RBCs, 8.6ms\n",
            "image 9/69 /kaggle/working/bccd_yolo/images/test/BloodImage_00033.jpeg: 480x640 15 RBCs, 6.8ms\n",
            "image 10/69 /kaggle/working/bccd_yolo/images/test/BloodImage_00041.jpeg: 480x640 13 RBCs, 6.9ms\n",
            "image 11/69 /kaggle/working/bccd_yolo/images/test/BloodImage_00057.jpeg: 480x640 9 RBCs, 7.0ms\n",
            "image 12/69 /kaggle/working/bccd_yolo/images/test/BloodImage_00058.jpeg: 480x640 12 RBCs, 6.7ms\n",
            "image 13/69 /kaggle/working/bccd_yolo/images/test/BloodImage_00062.jpeg: 480x640 14 RBCs, 6.7ms\n",
            "image 14/69 /kaggle/working/bccd_yolo/images/test/BloodImage_00063.jpeg: 480x640 13 RBCs, 6.8ms\n",
            "image 15/69 /kaggle/working/bccd_yolo/images/test/BloodImage_00065.jpeg: 480x640 6 RBCs, 7.1ms\n",
            "image 16/69 /kaggle/working/bccd_yolo/images/test/BloodImage_00067.jpeg: 480x640 15 RBCs, 7.4ms\n",
            "image 17/69 /kaggle/working/bccd_yolo/images/test/BloodImage_00068.jpeg: 480x640 12 RBCs, 8.9ms\n",
            "image 18/69 /kaggle/working/bccd_yolo/images/test/BloodImage_00074.jpeg: 480x640 10 RBCs, 7.1ms\n",
            "image 19/69 /kaggle/working/bccd_yolo/images/test/BloodImage_00075.jpeg: 480x640 10 RBCs, 7.7ms\n",
            "image 20/69 /kaggle/working/bccd_yolo/images/test/BloodImage_00077.jpeg: 480x640 12 RBCs, 6.9ms\n",
            "image 21/69 /kaggle/working/bccd_yolo/images/test/BloodImage_00088.jpeg: 480x640 11 RBCs, 7.0ms\n",
            "image 22/69 /kaggle/working/bccd_yolo/images/test/BloodImage_00093.jpeg: 480x640 13 RBCs, 7.1ms\n",
            "image 23/69 /kaggle/working/bccd_yolo/images/test/BloodImage_00098.jpeg: 480x640 20 RBCs, 7.5ms\n",
            "image 24/69 /kaggle/working/bccd_yolo/images/test/BloodImage_00103.jpeg: 480x640 16 RBCs, 6.7ms\n",
            "image 25/69 /kaggle/working/bccd_yolo/images/test/BloodImage_00132.jpeg: 480x640 12 RBCs, 6.7ms\n",
            "image 26/69 /kaggle/working/bccd_yolo/images/test/BloodImage_00135.jpeg: 480x640 16 RBCs, 6.7ms\n",
            "image 27/69 /kaggle/working/bccd_yolo/images/test/BloodImage_00136.jpeg: 480x640 10 RBCs, 6.7ms\n",
            "image 28/69 /kaggle/working/bccd_yolo/images/test/BloodImage_00137.jpeg: 480x640 13 RBCs, 8.5ms\n",
            "image 29/69 /kaggle/working/bccd_yolo/images/test/BloodImage_00149.jpeg: 480x640 14 RBCs, 6.8ms\n",
            "image 30/69 /kaggle/working/bccd_yolo/images/test/BloodImage_00157.jpeg: 480x640 10 RBCs, 6.9ms\n",
            "image 31/69 /kaggle/working/bccd_yolo/images/test/BloodImage_00161.jpeg: 480x640 18 RBCs, 8.1ms\n",
            "image 32/69 /kaggle/working/bccd_yolo/images/test/BloodImage_00167.jpeg: 480x640 18 RBCs, 6.9ms\n",
            "image 33/69 /kaggle/working/bccd_yolo/images/test/BloodImage_00169.jpeg: 480x640 23 RBCs, 7.1ms\n",
            "image 34/69 /kaggle/working/bccd_yolo/images/test/BloodImage_00171.jpeg: 480x640 18 RBCs, 6.8ms\n",
            "image 35/69 /kaggle/working/bccd_yolo/images/test/BloodImage_00172.jpeg: 480x640 21 RBCs, 8.5ms\n",
            "image 36/69 /kaggle/working/bccd_yolo/images/test/BloodImage_00178.jpeg: 480x640 16 RBCs, 6.8ms\n",
            "image 37/69 /kaggle/working/bccd_yolo/images/test/BloodImage_00180.jpeg: 480x640 24 RBCs, 6.9ms\n",
            "image 38/69 /kaggle/working/bccd_yolo/images/test/BloodImage_00184.jpeg: 480x640 13 RBCs, 6.9ms\n",
            "image 39/69 /kaggle/working/bccd_yolo/images/test/BloodImage_00205.jpeg: 480x640 20 RBCs, 6.9ms\n",
            "image 40/69 /kaggle/working/bccd_yolo/images/test/BloodImage_00208.jpeg: 480x640 20 RBCs, 7.0ms\n",
            "image 41/69 /kaggle/working/bccd_yolo/images/test/BloodImage_00220.jpeg: 480x640 14 RBCs, 6.8ms\n",
            "image 42/69 /kaggle/working/bccd_yolo/images/test/BloodImage_00225.jpeg: 480x640 18 RBCs, 10.2ms\n",
            "image 43/69 /kaggle/working/bccd_yolo/images/test/BloodImage_00226.jpeg: 480x640 19 RBCs, 6.8ms\n",
            "image 44/69 /kaggle/working/bccd_yolo/images/test/BloodImage_00227.jpeg: 480x640 15 RBCs, 6.7ms\n",
            "image 45/69 /kaggle/working/bccd_yolo/images/test/BloodImage_00229.jpeg: 480x640 16 RBCs, 8.1ms\n",
            "image 46/69 /kaggle/working/bccd_yolo/images/test/BloodImage_00233.jpeg: 480x640 14 RBCs, 7.0ms\n",
            "image 47/69 /kaggle/working/bccd_yolo/images/test/BloodImage_00234.jpeg: 480x640 18 RBCs, 6.9ms\n",
            "image 48/69 /kaggle/working/bccd_yolo/images/test/BloodImage_00253.jpeg: 480x640 17 RBCs, 6.8ms\n",
            "image 49/69 /kaggle/working/bccd_yolo/images/test/BloodImage_00271.jpeg: 480x640 21 RBCs, 9.5ms\n",
            "image 50/69 /kaggle/working/bccd_yolo/images/test/BloodImage_00282.jpeg: 480x640 19 RBCs, 7.4ms\n",
            "image 51/69 /kaggle/working/bccd_yolo/images/test/BloodImage_00284.jpeg: 480x640 17 RBCs, 6.6ms\n",
            "image 52/69 /kaggle/working/bccd_yolo/images/test/BloodImage_00287.jpeg: 480x640 24 RBCs, 6.8ms\n",
            "image 53/69 /kaggle/working/bccd_yolo/images/test/BloodImage_00290.jpeg: 480x640 20 RBCs, 7.0ms\n",
            "image 54/69 /kaggle/working/bccd_yolo/images/test/BloodImage_00293.jpeg: 480x640 18 RBCs, 11.9ms\n",
            "image 55/69 /kaggle/working/bccd_yolo/images/test/BloodImage_00296.jpeg: 480x640 19 RBCs, 11.0ms\n",
            "image 56/69 /kaggle/working/bccd_yolo/images/test/BloodImage_00319.jpeg: 480x640 17 RBCs, 12.3ms\n",
            "image 57/69 /kaggle/working/bccd_yolo/images/test/BloodImage_00320.jpeg: 480x640 17 RBCs, 9.2ms\n",
            "image 58/69 /kaggle/working/bccd_yolo/images/test/BloodImage_00323.jpeg: 480x640 18 RBCs, 7.4ms\n",
            "image 59/69 /kaggle/working/bccd_yolo/images/test/BloodImage_00333.jpeg: 480x640 23 RBCs, 7.8ms\n",
            "image 60/69 /kaggle/working/bccd_yolo/images/test/BloodImage_00341.jpeg: 480x640 18 RBCs, 7.4ms\n",
            "image 61/69 /kaggle/working/bccd_yolo/images/test/BloodImage_00346.jpeg: 480x640 20 RBCs, 8.0ms\n",
            "image 62/69 /kaggle/working/bccd_yolo/images/test/BloodImage_00360.jpeg: 480x640 21 RBCs, 8.1ms\n",
            "image 63/69 /kaggle/working/bccd_yolo/images/test/BloodImage_00365.jpeg: 480x640 21 RBCs, 7.1ms\n",
            "image 64/69 /kaggle/working/bccd_yolo/images/test/BloodImage_00366.jpeg: 480x640 18 RBCs, 7.1ms\n",
            "image 65/69 /kaggle/working/bccd_yolo/images/test/BloodImage_00375.jpeg: 480x640 16 RBCs, 8.2ms\n",
            "image 66/69 /kaggle/working/bccd_yolo/images/test/BloodImage_00385.jpeg: 480x640 18 RBCs, 7.1ms\n",
            "image 67/69 /kaggle/working/bccd_yolo/images/test/BloodImage_00390.jpeg: 480x640 13 RBCs, 7.2ms\n",
            "image 68/69 /kaggle/working/bccd_yolo/images/test/BloodImage_00391.jpeg: 480x640 18 RBCs, 6.7ms\n",
            "image 69/69 /kaggle/working/bccd_yolo/images/test/BloodImage_00407.jpeg: 480x640 20 RBCs, 8.7ms\n",
            "Speed: 2.1ms preprocess, 8.3ms inference, 1.6ms postprocess per image at shape (1, 3, 480, 640)\n",
            "Results saved to \u001b[1mruns/detect/predict\u001b[0m\n"
          ]
        }
      ]
    },
    {
      "cell_type": "code",
      "source": [],
      "metadata": {
        "id": "C8bLltjJTyjG"
      },
      "execution_count": null,
      "outputs": []
    },
    {
      "cell_type": "code",
      "source": [
        "# Validate on test set\n",
        "test_results = model.val(data='/kaggle/working/bccd_yolo/dataset.yaml', split='test')\n",
        "print(f\"Test mAP50: {test_results.box.map50:.3f}\")"
      ],
      "metadata": {
        "colab": {
          "base_uri": "https://localhost:8080/"
        },
        "id": "x6WsjjOpRwlB",
        "outputId": "8b856971-4c84-422d-8ada-6d7f275433bf"
      },
      "execution_count": null,
      "outputs": [
        {
          "output_type": "stream",
          "name": "stdout",
          "text": [
            "Ultralytics 8.3.170 🚀 Python-3.11.13 torch-2.6.0+cu124 CUDA:0 (Tesla T4, 15095MiB)\n",
            "\u001b[34m\u001b[1mval: \u001b[0mFast image access ✅ (ping: 0.0±0.0 ms, read: 816.9±232.3 MB/s, size: 19.9 KB)\n"
          ]
        },
        {
          "output_type": "stream",
          "name": "stderr",
          "text": [
            "\u001b[34m\u001b[1mval: \u001b[0mScanning /kaggle/working/bccd_yolo/labels/test... 69 images, 0 backgrounds, 0 corrupt: 100%|██████████| 69/69 [00:00<00:00, 2159.25it/s]"
          ]
        },
        {
          "output_type": "stream",
          "name": "stdout",
          "text": [
            "\u001b[34m\u001b[1mval: \u001b[0mNew cache created: /kaggle/working/bccd_yolo/labels/test.cache\n"
          ]
        },
        {
          "output_type": "stream",
          "name": "stderr",
          "text": [
            "\n",
            "                 Class     Images  Instances      Box(P          R      mAP50  mAP50-95): 100%|██████████| 5/5 [00:03<00:00,  1.43it/s]\n"
          ]
        },
        {
          "output_type": "stream",
          "name": "stdout",
          "text": [
            "                   all         69        805      0.786      0.821       0.89      0.638\n",
            "Speed: 8.3ms preprocess, 10.5ms inference, 0.0ms loss, 7.9ms postprocess per image\n",
            "Results saved to \u001b[1mruns/detect/val\u001b[0m\n",
            "Test mAP50: 0.890\n"
          ]
        }
      ]
    },
    {
      "cell_type": "code",
      "source": [
        "import os\n",
        "import matplotlib.pyplot as plt\n",
        "from IPython.display import Image, display\n",
        "\n",
        "# View prediction results\n",
        "pred_dir = 'runs/detect/predict'\n",
        "if os.path.exists(pred_dir):\n",
        "    print(\"🖼️ Prediction images saved:\")\n",
        "    for file in os.listdir(pred_dir):\n",
        "        if file.endswith(('.jpg', '.png', '.jpeg')):\n",
        "            print(f\"   - {file}\")\n",
        "            # Display first few\n",
        "            display(Image(os.path.join(pred_dir, file)))\n",
        "            break  # Show just one example\n",
        "\n",
        "# View validation charts\n",
        "val_dir = 'runs/detect/val'\n",
        "if os.path.exists(val_dir):\n",
        "    print(\"📊 Validation results saved:\")\n",
        "    for file in os.listdir(val_dir):\n",
        "        print(f\"   - {file}\")\n"
      ],
      "metadata": {
        "colab": {
          "base_uri": "https://localhost:8080/",
          "height": 757
        },
        "id": "4Qr_nkv_W8Ps",
        "outputId": "74ef1ba7-b2b5-4852-835c-606d8cb9e237"
      },
      "execution_count": null,
      "outputs": [
        {
          "output_type": "stream",
          "name": "stdout",
          "text": [
            "🖼️ Prediction images saved:\n",
            "   - BloodImage_00075.jpg\n"
          ]
        },
        {
          "output_type": "display_data",
          "data": {
            "image/jpeg": "[encoded data removed]",
            "text/plain": [
              "<IPython.core.display.Image object>"
            ]
          },
          "metadata": {}
        },
        {
          "output_type": "stream",
          "name": "stdout",
          "text": [
            "📊 Validation results saved:\n",
            "   - BoxPR_curve.png\n",
            "   - confusion_matrix_normalized.png\n",
            "   - BoxR_curve.png\n",
            "   - BoxP_curve.png\n",
            "   - val_batch0_pred.jpg\n",
            "   - val_batch1_pred.jpg\n",
            "   - BoxF1_curve.png\n",
            "   - val_batch2_labels.jpg\n",
            "   - confusion_matrix.png\n",
            "   - val_batch2_pred.jpg\n",
            "   - val_batch1_labels.jpg\n",
            "   - val_batch0_labels.jpg\n"
          ]
        }
      ]
    },
    {
      "cell_type": "code",
      "source": [
        "# Malaria Classification with EfficientNet\n",
        "# This should work smoothly - no complex parsing like BCCD!\n",
        "\n",
        "import os\n",
        "import numpy as np\n",
        "import matplotlib.pyplot as plt\n",
        "import tensorflow as tf\n",
        "from tensorflow import keras\n",
        "from tensorflow.keras import layers\n",
        "import cv2\n",
        "from sklearn.metrics import classification_report, confusion_matrix\n",
        "import seaborn as sns\n",
        "\n",
        "# Set up GPU if available\n",
        "gpu_available = tf.config.list_physical_devices('GPU')\n",
        "print(\"GPU Available: \", gpu_available)\n",
        "\n",
        "if not gpu_available:\n",
        "    print(\"Warning: No GPU available. Training will be very slow on CPU.\")\n",
        "    print(\"Please ensure you have selected a GPU runtime (Runtime -> Change runtime type).\")\n",
        "\n",
        "\n",
        "# Dataset paths - UPDATE THESE!\n",
        "DATASET_PATH = \"/kaggle/input/disease-prediction-based-on-blood-test/Deep learning-cells/Malaria Dataset/Dataset\"  # Main dataset folder\n",
        "TRAIN_PATH = os.path.join(DATASET_PATH, \"Train\")\n",
        "TEST_PATH = os.path.join(DATASET_PATH, \"Test\")\n",
        "\n",
        "# Model parameters\n",
        "IMG_SIZE = 224\n",
        "BATCH_SIZE = 32\n",
        "EPOCHS = 20\n",
        "LEARNING_RATE = 0.001\n",
        "\n",
        "def check_dataset_structure(dataset_path):\n",
        "    \"\"\"Quick check of malaria dataset - should be simple!\"\"\"\n",
        "    print(\"🔍 Checking dataset structure...\")\n",
        "\n",
        "    for split in ['Train', 'Test']:\n",
        "        split_path = os.path.join(dataset_path, split)\n",
        "        if os.path.exists(split_path):\n",
        "            print(f\"\\n📊 {split.upper()} SET:\")\n",
        "            for class_name in os.listdir(split_path):\n",
        "                class_path = os.path.join(split_path, class_name)\n",
        "                if os.path.isdir(class_path):\n",
        "                    count = len([f for f in os.listdir(class_path)\n",
        "                               if f.lower().endswith(('.png', '.jpg', '.jpeg'))])\n",
        "                    print(f\"   {class_name}: {count} images\")\n",
        "\n",
        "def create_data_generators(train_path, test_path):\n",
        "    \"\"\"Create data generators with augmentation\"\"\"\n",
        "\n",
        "    # Data augmentation for training\n",
        "    train_datagen = tf.keras.preprocessing.image.ImageDataGenerator(\n",
        "        rescale=1./255,\n",
        "        rotation_range=20,\n",
        "        width_shift_range=0.2,\n",
        "        height_shift_range=0.2,\n",
        "        horizontal_flip=True,\n",
        "        zoom_range=0.2,\n",
        "        validation_split=0.2  # 20% for validation\n",
        "    )\n",
        "\n",
        "    # Only rescaling for test data\n",
        "    test_datagen = tf.keras.preprocessing.image.ImageDataGenerator(rescale=1./255)\n",
        "\n",
        "    # Training generator\n",
        "    train_generator = train_datagen.flow_from_directory(\n",
        "        train_path,\n",
        "        target_size=(IMG_SIZE, IMG_SIZE),\n",
        "        batch_size=BATCH_SIZE,\n",
        "        class_mode='binary',  # Parasite=1, Uninfected=0\n",
        "        subset='training'\n",
        "    )\n",
        "\n",
        "    # Validation generator\n",
        "    val_generator = train_datagen.flow_from_directory(\n",
        "        train_path,\n",
        "        target_size=(IMG_SIZE, IMG_SIZE),\n",
        "        batch_size=BATCH_SIZE,\n",
        "        class_mode='binary',\n",
        "        subset='validation'\n",
        "    )\n",
        "\n",
        "    # Test generator\n",
        "    test_generator = test_datagen.flow_from_directory(\n",
        "        test_path,\n",
        "        target_size=(IMG_SIZE, IMG_SIZE),\n",
        "        batch_size=BATCH_SIZE,\n",
        "        class_mode='binary',\n",
        "        shuffle=False  # Keep order for evaluation\n",
        "    )\n",
        "\n",
        "    print(f\"✅ Data generators created!\")\n",
        "    print(f\"Training samples: {train_generator.samples}\")\n",
        "    print(f\"Validation samples: {val_generator.samples}\")\n",
        "    print(f\"Test samples: {test_generator.samples}\")\n",
        "    print(f\"Classes: {train_generator.class_indices}\")\n",
        "\n",
        "    return train_generator, val_generator, test_generator\n",
        "\n",
        "def create_efficientnet_model():\n",
        "    \"\"\"Create EfficientNet-B2 model for malaria classification\"\"\"\n",
        "\n",
        "    # Load pre-trained EfficientNet-B2\n",
        "    base_model = tf.keras.applications.EfficientNetB2(\n",
        "        weights='imagenet',\n",
        "        include_top=False,\n",
        "        input_shape=(IMG_SIZE, IMG_SIZE, 3)\n",
        "    )\n",
        "\n",
        "    # Freeze base model initially\n",
        "    base_model.trainable = False\n",
        "\n",
        "    # Add custom classification head\n",
        "    model = keras.Sequential([\n",
        "        base_model,\n",
        "        layers.GlobalAveragePooling2D(),\n",
        "        layers.Dropout(0.3),\n",
        "        layers.Dense(128, activation='relu'),\n",
        "        layers.Dropout(0.2),\n",
        "        layers.Dense(1, activation='sigmoid', name='predictions')\n",
        "    ])\n",
        "\n",
        "    # Compile model\n",
        "    model.compile(\n",
        "        optimizer=keras.optimizers.Adam(learning_rate=LEARNING_RATE),\n",
        "        loss='binary_crossentropy',\n",
        "        metrics=['accuracy', 'precision', 'recall']\n",
        "    )\n",
        "\n",
        "    print(\"✅ EfficientNet-B2 model created!\")\n",
        "    print(f\"Total parameters: {model.count_params():,}\")\n",
        "\n",
        "    return model\n",
        "\n",
        "def train_malaria_classifier():\n",
        "    \"\"\"Complete training pipeline\"\"\"\n",
        "\n",
        "    print(\"🚀 Starting Malaria Classification Training...\")\n",
        "\n",
        "    # 1. Check dataset\n",
        "    check_dataset_structure(DATASET_PATH)\n",
        "\n",
        "    # 2. Create data generators\n",
        "    train_gen, val_gen, test_gen = create_data_generators(TRAIN_PATH, TEST_PATH)\n",
        "\n",
        "    # 3. Create model\n",
        "    model = create_efficientnet_model()\n",
        "\n",
        "    # 4. Callbacks\n",
        "    callbacks = [\n",
        "        keras.callbacks.EarlyStopping(\n",
        "            monitor='val_accuracy',\n",
        "            patience=5,\n",
        "            restore_best_weights=True\n",
        "        ),\n",
        "        keras.callbacks.ReduceLROnPlateau(\n",
        "            monitor='val_accuracy',\n",
        "            factor=0.5,\n",
        "            patience=3,\n",
        "            min_lr=1e-7\n",
        "        ),\n",
        "        keras.callbacks.ModelCheckpoint(\n",
        "            'best_malaria_model.h5',\n",
        "            monitor='val_accuracy',\n",
        "            save_best_only=True\n",
        "        )\n",
        "    ]\n",
        "\n",
        "    # 5. Train model\n",
        "    print(\"\\n🔥 Training Phase 1: Transfer Learning...\")\n",
        "    history = model.fit(\n",
        "        train_gen,\n",
        "        epochs=EPOCHS,\n",
        "        validation_data=val_gen,\n",
        "        callbacks=callbacks,\n",
        "        verbose=1\n",
        "    )\n",
        "\n",
        "    # 6. Fine-tuning (unfreeze some layers)\n",
        "    print(\"\\n🔥 Training Phase 2: Fine-tuning...\")\n",
        "    model.layers[0].trainable = True\n",
        "\n",
        "    # Freeze early layers, unfreeze later ones\n",
        "    for layer in model.layers[0].layers[:-20]:\n",
        "        layer.trainable = False\n",
        "\n",
        "    # Lower learning rate for fine-tuning\n",
        "    model.compile(\n",
        "        optimizer=keras.optimizers.Adam(learning_rate=LEARNING_RATE/10),\n",
        "        loss='binary_crossentropy',\n",
        "        metrics=['accuracy', 'precision', 'recall']\n",
        "    )\n",
        "\n",
        "    # Continue training\n",
        "    history_fine = model.fit(\n",
        "        train_gen,\n",
        "        epochs=10, # Reduced fine-tuning epochs\n",
        "        validation_data=val_gen,\n",
        "        callbacks=callbacks,\n",
        "        verbose=1\n",
        "    )\n",
        "\n",
        "    # 7. Evaluate on test set\n",
        "    print(\"\\n📊 Evaluating on test set...\")\n",
        "    test_loss, test_accuracy, test_precision, test_recall = model.evaluate(test_gen)\n",
        "\n",
        "    print(f\"\\n🎯 Final Test Results:\")\n",
        "    print(f\"Accuracy: {test_accuracy:.4f}\")\n",
        "    print(f\"Precision: {test_precision:.4f}\")\n",
        "    print(f\"Recall: {test_recall:.4f}\")\n",
        "    if (test_precision + test_recall) > 0:\n",
        "        print(f\"F1-Score: {2 * (test_precision * test_recall) / (test_precision + test_recall):.4f}\")\n",
        "    else:\n",
        "        print(\"F1-Score: N/A (Precision + Recall = 0)\")\n",
        "\n",
        "\n",
        "    # 8. Plot training history\n",
        "    plot_training_history(history, history_fine)\n",
        "\n",
        "    # 9. Save final model\n",
        "    model.save('malaria_classifier_final.h5')\n",
        "    print(\"✅ Model saved as 'malaria_classifier_final.h5'\")\n",
        "\n",
        "    return model, history\n",
        "\n",
        "def plot_training_history(history1, history2):\n",
        "    \"\"\"Plot training curves\"\"\"\n",
        "\n",
        "    # Combine histories\n",
        "    acc = history1.history['accuracy'] + history2.history['accuracy']\n",
        "    val_acc = history1.history['val_accuracy'] + history2.history['val_accuracy']\n",
        "    loss = history1.history['loss'] + history2.history['loss']\n",
        "    val_loss = history1.history['val_loss'] + history2.history['val_loss']\n",
        "\n",
        "    epochs = range(1, len(acc) + 1)\n",
        "\n",
        "    plt.figure(figsize=(12, 4))\n",
        "\n",
        "    # Accuracy plot\n",
        "    plt.subplot(1, 2, 1)\n",
        "    plt.plot(epochs, acc, 'b-', label='Training Accuracy')\n",
        "    plt.plot(epochs, val_acc, 'r-', label='Validation Accuracy')\n",
        "    plt.title('Training and Validation Accuracy')\n",
        "    plt.xlabel('Epochs')\n",
        "    plt.ylabel('Accuracy')\n",
        "    plt.legend()\n",
        "    plt.grid(True)\n",
        "\n",
        "    # Loss plot\n",
        "    plt.subplot(1, 2, 2)\n",
        "    plt.plot(epochs, loss, 'b-', label='Training Loss')\n",
        "    plt.plot(epochs, val_loss, 'r-', label='Validation Loss')\n",
        "    plt.title('Training and Validation Loss')\n",
        "    plt.xlabel('Epochs')\n",
        "    plt.ylabel('Loss')\n",
        "    plt.legend()\n",
        "    plt.grid(True)\n",
        "\n",
        "    plt.tight_layout()\n",
        "    plt.show()\n",
        "\n",
        "def test_single_prediction(model_path, image_path):\n",
        "    \"\"\"Test model on a single image\"\"\"\n",
        "\n",
        "    model = keras.models.load_model(model_path)\n",
        "\n",
        "    # Load and preprocess image\n",
        "    img = cv2.imread(image_path)\n",
        "    img_rgb = cv2.cvtColor(img, cv2.COLOR_BGR2RGB)\n",
        "    img_resized = cv2.resize(img_rgb, (IMG_SIZE, IMG_SIZE))\n",
        "    img_normalized = img_resized / 255.0\n",
        "    img_batch = np.expand_dims(img_normalized, axis=0)\n",
        "\n",
        "    # Predict\n",
        "    prediction = model.predict(img_batch)[0][0]\n",
        "\n",
        "    # Interpret result\n",
        "    if prediction > 0.5:\n",
        "        result = f\"PARASITE (Infected) - Confidence: {prediction:.3f}\"\n",
        "        color = 'red'\n",
        "    else:\n",
        "        result = f\"UNINFECTED (Normal) - Confidence: {1-prediction:.3f}\"\n",
        "        color = 'green'\n",
        "\n",
        "    # Display result\n",
        "    plt.figure(figsize=(8, 6))\n",
        "    plt.imshow(img_rgb)\n",
        "    plt.title(result, color=color, fontsize=14, weight='bold')\n",
        "    plt.axis('off')\n",
        "    plt.show()\n",
        "\n",
        "    return prediction\n",
        "\n",
        "# Usage:\n",
        "if __name__ == \"__main__\":\n",
        "    # Train the model\n",
        "    model, history = train_malaria_classifier()\n",
        "\n",
        "    # Test on a single image (optional)\n",
        "    # test_single_prediction('malaria_classifier_final.h5', 'path_to_test_image.png')"
      ],
      "metadata": {
        "colab": {
          "base_uri": "https://localhost:8080/",
          "height": 1000
        },
        "id": "H8KZSGuLRwog",
        "outputId": "48f5cb38-9ea9-4d6c-9f00-5b5e3e90b2f3"
      },
      "execution_count": null,
      "outputs": [
        {
          "output_type": "stream",
          "name": "stdout",
          "text": [
            "GPU Available:  [PhysicalDevice(name='/physical_device:GPU:0', device_type='GPU')]\n",
            "🚀 Starting Malaria Classification Training...\n",
            "🔍 Checking dataset structure...\n",
            "\n",
            "📊 TRAIN SET:\n",
            "   Uninfected: 196 images\n",
            "   Parasite: 220 images\n",
            "\n",
            "📊 TEST SET:\n",
            "   Uninfected: 43 images\n",
            "   Parasite: 91 images\n",
            "Found 333 images belonging to 2 classes.\n",
            "Found 83 images belonging to 2 classes.\n",
            "Found 134 images belonging to 2 classes.\n",
            "✅ Data generators created!\n",
            "Training samples: 333\n",
            "Validation samples: 83\n",
            "Test samples: 134\n",
            "Classes: {'Parasite': 0, 'Uninfected': 1}\n",
            "✅ EfficientNet-B2 model created!\n",
            "Total parameters: 7,949,050\n",
            "\n",
            "🔥 Training Phase 1: Transfer Learning...\n"
          ]
        },
        {
          "output_type": "stream",
          "name": "stderr",
          "text": [
            "/usr/local/lib/python3.11/dist-packages/keras/src/trainers/data_adapters/py_dataset_adapter.py:121: UserWarning: Your `PyDataset` class should call `super().__init__(**kwargs)` in its constructor. `**kwargs` can include `workers`, `use_multiprocessing`, `max_queue_size`. Do not pass these arguments to `fit()`, as they will be ignored.\n",
            "  self._warn_if_super_not_called()\n"
          ]
        },
        {
          "output_type": "stream",
          "name": "stdout",
          "text": [
            "Epoch 1/20\n"
          ]
        },
        {
          "output_type": "error",
          "ename": "FailedPreconditionError",
          "evalue": "Graph execution error:\n\nDetected at node StatefulPartitionedCall defined at (most recent call last):\n  File \"<frozen runpy>\", line 198, in _run_module_as_main\n\n  File \"<frozen runpy>\", line 88, in _run_code\n\n  File \"/usr/local/lib/python3.11/dist-packages/colab_kernel_launcher.py\", line 37, in <module>\n\n  File \"/usr/local/lib/python3.11/dist-packages/traitlets/config/application.py\", line 992, in launch_instance\n\n  File \"/usr/local/lib/python3.11/dist-packages/ipykernel/kernelapp.py\", line 712, in start\n\n  File \"/usr/local/lib/python3.11/dist-packages/tornado/platform/asyncio.py\", line 205, in start\n\n  File \"/usr/lib/python3.11/asyncio/base_events.py\", line 608, in run_forever\n\n  File \"/usr/lib/python3.11/asyncio/base_events.py\", line 1936, in _run_once\n\n  File \"/usr/lib/python3.11/asyncio/events.py\", line 84, in _run\n\n  File \"/usr/local/lib/python3.11/dist-packages/ipykernel/kernelbase.py\", line 510, in dispatch_queue\n\n  File \"/usr/local/lib/python3.11/dist-packages/ipykernel/kernelbase.py\", line 499, in process_one\n\n  File \"/usr/local/lib/python3.11/dist-packages/ipykernel/kernelbase.py\", line 406, in dispatch_shell\n\n  File \"/usr/local/lib/python3.11/dist-packages/ipykernel/kernelbase.py\", line 730, in execute_request\n\n  File \"/usr/local/lib/python3.11/dist-packages/ipykernel/ipkernel.py\", line 383, in do_execute\n\n  File \"/usr/local/lib/python3.11/dist-packages/ipykernel/zmqshell.py\", line 528, in run_cell\n\n  File \"/usr/local/lib/python3.11/dist-packages/IPython/core/interactiveshell.py\", line 2975, in run_cell\n\n  File \"/usr/local/lib/python3.11/dist-packages/IPython/core/interactiveshell.py\", line 3030, in _run_cell\n\n  File \"/usr/local/lib/python3.11/dist-packages/IPython/core/async_helpers.py\", line 78, in _pseudo_sync_runner\n\n  File \"/usr/local/lib/python3.11/dist-packages/IPython/core/interactiveshell.py\", line 3257, in run_cell_async\n\n  File \"/usr/local/lib/python3.11/dist-packages/IPython/core/interactiveshell.py\", line 3473, in run_ast_nodes\n\n  File \"/usr/local/lib/python3.11/dist-packages/IPython/core/interactiveshell.py\", line 3553, in run_code\n\n  File \"/tmp/ipython-input-69-1600019016.py\", line 298, in <cell line: 0>\n\n  File \"/tmp/ipython-input-69-1600019016.py\", line 172, in train_malaria_classifier\n\n  File \"/usr/local/lib/python3.11/dist-packages/keras/src/utils/traceback_utils.py\", line 117, in error_handler\n\n  File \"/usr/local/lib/python3.11/dist-packages/keras/src/backend/tensorflow/trainer.py\", line 371, in fit\n\n  File \"/usr/local/lib/python3.11/dist-packages/keras/src/backend/tensorflow/trainer.py\", line 219, in function\n\n  File \"/usr/local/lib/python3.11/dist-packages/keras/src/backend/tensorflow/trainer.py\", line 132, in multi_step_on_iterator\n\nDNN library initialization failed. Look at the errors above for more details.\n\t [[{{node StatefulPartitionedCall}}]] [Op:__inference_multi_step_on_iterator_48418]",
          "traceback": [
            "\u001b[0;31m---------------------------------------------------------------------------\u001b[0m",
            "\u001b[0;31mFailedPreconditionError\u001b[0m                   Traceback (most recent call last)",
            "\u001b[0;32m/tmp/ipython-input-69-1600019016.py\u001b[0m in \u001b[0;36m<cell line: 0>\u001b[0;34m()\u001b[0m\n\u001b[1;32m    296\u001b[0m \u001b[0;32mif\u001b[0m \u001b[0m__name__\u001b[0m \u001b[0;34m==\u001b[0m \u001b[0;34m\"__main__\"\u001b[0m\u001b[0;34m:\u001b[0m\u001b[0;34m\u001b[0m\u001b[0;34m\u001b[0m\u001b[0m\n\u001b[1;32m    297\u001b[0m     \u001b[0;31m# Train the model\u001b[0m\u001b[0;34m\u001b[0m\u001b[0;34m\u001b[0m\u001b[0m\n\u001b[0;32m--> 298\u001b[0;31m     \u001b[0mmodel\u001b[0m\u001b[0;34m,\u001b[0m \u001b[0mhistory\u001b[0m \u001b[0;34m=\u001b[0m \u001b[0mtrain_malaria_classifier\u001b[0m\u001b[0;34m(\u001b[0m\u001b[0;34m)\u001b[0m\u001b[0;34m\u001b[0m\u001b[0;34m\u001b[0m\u001b[0m\n\u001b[0m\u001b[1;32m    299\u001b[0m \u001b[0;34m\u001b[0m\u001b[0m\n\u001b[1;32m    300\u001b[0m     \u001b[0;31m# Test on a single image (optional)\u001b[0m\u001b[0;34m\u001b[0m\u001b[0;34m\u001b[0m\u001b[0m\n",
            "\u001b[0;32m/tmp/ipython-input-69-1600019016.py\u001b[0m in \u001b[0;36mtrain_malaria_classifier\u001b[0;34m()\u001b[0m\n\u001b[1;32m    170\u001b[0m     \u001b[0;31m# 5. Train model\u001b[0m\u001b[0;34m\u001b[0m\u001b[0;34m\u001b[0m\u001b[0m\n\u001b[1;32m    171\u001b[0m     \u001b[0mprint\u001b[0m\u001b[0;34m(\u001b[0m\u001b[0;34m\"\\n🔥 Training Phase 1: Transfer Learning...\"\u001b[0m\u001b[0;34m)\u001b[0m\u001b[0;34m\u001b[0m\u001b[0;34m\u001b[0m\u001b[0m\n\u001b[0;32m--> 172\u001b[0;31m     history = model.fit(\n\u001b[0m\u001b[1;32m    173\u001b[0m         \u001b[0mtrain_gen\u001b[0m\u001b[0;34m,\u001b[0m\u001b[0;34m\u001b[0m\u001b[0;34m\u001b[0m\u001b[0m\n\u001b[1;32m    174\u001b[0m         \u001b[0mepochs\u001b[0m\u001b[0;34m=\u001b[0m\u001b[0mEPOCHS\u001b[0m\u001b[0;34m,\u001b[0m\u001b[0;34m\u001b[0m\u001b[0;34m\u001b[0m\u001b[0m\n",
            "\u001b[0;32m/usr/local/lib/python3.11/dist-packages/keras/src/utils/traceback_utils.py\u001b[0m in \u001b[0;36merror_handler\u001b[0;34m(*args, **kwargs)\u001b[0m\n\u001b[1;32m    120\u001b[0m             \u001b[0;31m# To get the full stack trace, call:\u001b[0m\u001b[0;34m\u001b[0m\u001b[0;34m\u001b[0m\u001b[0m\n\u001b[1;32m    121\u001b[0m             \u001b[0;31m# `keras.config.disable_traceback_filtering()`\u001b[0m\u001b[0;34m\u001b[0m\u001b[0;34m\u001b[0m\u001b[0m\n\u001b[0;32m--> 122\u001b[0;31m             \u001b[0;32mraise\u001b[0m \u001b[0me\u001b[0m\u001b[0;34m.\u001b[0m\u001b[0mwith_traceback\u001b[0m\u001b[0;34m(\u001b[0m\u001b[0mfiltered_tb\u001b[0m\u001b[0;34m)\u001b[0m \u001b[0;32mfrom\u001b[0m \u001b[0;32mNone\u001b[0m\u001b[0;34m\u001b[0m\u001b[0;34m\u001b[0m\u001b[0m\n\u001b[0m\u001b[1;32m    123\u001b[0m         \u001b[0;32mfinally\u001b[0m\u001b[0;34m:\u001b[0m\u001b[0;34m\u001b[0m\u001b[0;34m\u001b[0m\u001b[0m\n\u001b[1;32m    124\u001b[0m             \u001b[0;32mdel\u001b[0m \u001b[0mfiltered_tb\u001b[0m\u001b[0;34m\u001b[0m\u001b[0;34m\u001b[0m\u001b[0m\n",
            "\u001b[0;32m/usr/local/lib/python3.11/dist-packages/tensorflow/python/eager/execute.py\u001b[0m in \u001b[0;36mquick_execute\u001b[0;34m(op_name, num_outputs, inputs, attrs, ctx, name)\u001b[0m\n\u001b[1;32m     57\u001b[0m       \u001b[0me\u001b[0m\u001b[0;34m.\u001b[0m\u001b[0mmessage\u001b[0m \u001b[0;34m+=\u001b[0m \u001b[0;34m\" name: \"\u001b[0m \u001b[0;34m+\u001b[0m \u001b[0mname\u001b[0m\u001b[0;34m\u001b[0m\u001b[0;34m\u001b[0m\u001b[0m\n\u001b[1;32m     58\u001b[0m     \u001b[0;32mraise\u001b[0m \u001b[0mcore\u001b[0m\u001b[0;34m.\u001b[0m\u001b[0m_status_to_exception\u001b[0m\u001b[0;34m(\u001b[0m\u001b[0me\u001b[0m\u001b[0;34m)\u001b[0m \u001b[0;32mfrom\u001b[0m \u001b[0;32mNone\u001b[0m\u001b[0;34m\u001b[0m\u001b[0;34m\u001b[0m\u001b[0m\n\u001b[0;32m---> 59\u001b[0;31m   \u001b[0;32mexcept\u001b[0m \u001b[0mTypeError\u001b[0m \u001b[0;32mas\u001b[0m \u001b[0me\u001b[0m\u001b[0;34m:\u001b[0m\u001b[0;34m\u001b[0m\u001b[0;34m\u001b[0m\u001b[0m\n\u001b[0m\u001b[1;32m     60\u001b[0m     \u001b[0mkeras_symbolic_tensors\u001b[0m \u001b[0;34m=\u001b[0m \u001b[0;34m[\u001b[0m\u001b[0mx\u001b[0m \u001b[0;32mfor\u001b[0m \u001b[0mx\u001b[0m \u001b[0;32min\u001b[0m \u001b[0minputs\u001b[0m \u001b[0;32mif\u001b[0m \u001b[0m_is_keras_symbolic_tensor\u001b[0m\u001b[0;34m(\u001b[0m\u001b[0mx\u001b[0m\u001b[0;34m)\u001b[0m\u001b[0;34m]\u001b[0m\u001b[0;34m\u001b[0m\u001b[0;34m\u001b[0m\u001b[0m\n\u001b[1;32m     61\u001b[0m     \u001b[0;32mif\u001b[0m \u001b[0mkeras_symbolic_tensors\u001b[0m\u001b[0;34m:\u001b[0m\u001b[0;34m\u001b[0m\u001b[0;34m\u001b[0m\u001b[0m\n",
            "\u001b[0;31mFailedPreconditionError\u001b[0m: Graph execution error:\n\nDetected at node StatefulPartitionedCall defined at (most recent call last):\n  File \"<frozen runpy>\", line 198, in _run_module_as_main\n\n  File \"<frozen runpy>\", line 88, in _run_code\n\n  File \"/usr/local/lib/python3.11/dist-packages/colab_kernel_launcher.py\", line 37, in <module>\n\n  File \"/usr/local/lib/python3.11/dist-packages/traitlets/config/application.py\", line 992, in launch_instance\n\n  File \"/usr/local/lib/python3.11/dist-packages/ipykernel/kernelapp.py\", line 712, in start\n\n  File \"/usr/local/lib/python3.11/dist-packages/tornado/platform/asyncio.py\", line 205, in start\n\n  File \"/usr/lib/python3.11/asyncio/base_events.py\", line 608, in run_forever\n\n  File \"/usr/lib/python3.11/asyncio/base_events.py\", line 1936, in _run_once\n\n  File \"/usr/lib/python3.11/asyncio/events.py\", line 84, in _run\n\n  File \"/usr/local/lib/python3.11/dist-packages/ipykernel/kernelbase.py\", line 510, in dispatch_queue\n\n  File \"/usr/local/lib/python3.11/dist-packages/ipykernel/kernelbase.py\", line 499, in process_one\n\n  File \"/usr/local/lib/python3.11/dist-packages/ipykernel/kernelbase.py\", line 406, in dispatch_shell\n\n  File \"/usr/local/lib/python3.11/dist-packages/ipykernel/kernelbase.py\", line 730, in execute_request\n\n  File \"/usr/local/lib/python3.11/dist-packages/ipykernel/ipkernel.py\", line 383, in do_execute\n\n  File \"/usr/local/lib/python3.11/dist-packages/ipykernel/zmqshell.py\", line 528, in run_cell\n\n  File \"/usr/local/lib/python3.11/dist-packages/IPython/core/interactiveshell.py\", line 2975, in run_cell\n\n  File \"/usr/local/lib/python3.11/dist-packages/IPython/core/interactiveshell.py\", line 3030, in _run_cell\n\n  File \"/usr/local/lib/python3.11/dist-packages/IPython/core/async_helpers.py\", line 78, in _pseudo_sync_runner\n\n  File \"/usr/local/lib/python3.11/dist-packages/IPython/core/interactiveshell.py\", line 3257, in run_cell_async\n\n  File \"/usr/local/lib/python3.11/dist-packages/IPython/core/interactiveshell.py\", line 3473, in run_ast_nodes\n\n  File \"/usr/local/lib/python3.11/dist-packages/IPython/core/interactiveshell.py\", line 3553, in run_code\n\n  File \"/tmp/ipython-input-69-1600019016.py\", line 298, in <cell line: 0>\n\n  File \"/tmp/ipython-input-69-1600019016.py\", line 172, in train_malaria_classifier\n\n  File \"/usr/local/lib/python3.11/dist-packages/keras/src/utils/traceback_utils.py\", line 117, in error_handler\n\n  File \"/usr/local/lib/python3.11/dist-packages/keras/src/backend/tensorflow/trainer.py\", line 371, in fit\n\n  File \"/usr/local/lib/python3.11/dist-packages/keras/src/backend/tensorflow/trainer.py\", line 219, in function\n\n  File \"/usr/local/lib/python3.11/dist-packages/keras/src/backend/tensorflow/trainer.py\", line 132, in multi_step_on_iterator\n\nDNN library initialization failed. Look at the errors above for more details.\n\t [[{{node StatefulPartitionedCall}}]] [Op:__inference_multi_step_on_iterator_48418]"
          ]
        }
      ]
    },
    {
      "cell_type": "code",
      "source": [
        "bccd_root = \"/kaggle/input/disease-prediction-based-on-blood-test/Deep learning-cells/BCCD\"\n",
        "output_root = \"/content/BCCD_YOLO\"\n",
        "\n",
        "img_stats, label_stats = convert_bccd_to_yolo(bccd_root, output_root)\n"
      ],
      "metadata": {
        "colab": {
          "base_uri": "https://localhost:8080/"
        },
        "id": "BiTRC55MIy8N",
        "outputId": "2e02818a-0a2a-4660-a1b8-ba2e2c4543e8"
      },
      "execution_count": null,
      "outputs": [
        {
          "output_type": "stream",
          "name": "stderr",
          "text": [
            "Converting train set: 100%|██████████| 205/205 [00:00<00:00, 892.94it/s]\n",
            "Converting val set: 100%|██████████| 87/87 [00:00<00:00, 757.06it/s]\n",
            "Converting test set: 100%|██████████| 72/72 [00:00<00:00, 878.73it/s]"
          ]
        },
        {
          "output_type": "stream",
          "name": "stdout",
          "text": [
            "\n",
            "✅ Conversion complete!\n",
            "Train: 205 images processed, 0 annotated\n",
            "Val: 87 images processed, 0 annotated\n",
            "Test: 72 images processed, 0 annotated\n"
          ]
        },
        {
          "output_type": "stream",
          "name": "stderr",
          "text": [
            "\n"
          ]
        }
      ]
    },
    {
      "cell_type": "code",
      "source": [
        "def create_yolo_config(output_root):\n",
        "    config = {\n",
        "        'path': output_root,\n",
        "        'train': os.path.join(output_root, 'images/train'),\n",
        "        'val': os.path.join(output_root, 'images/val'),\n",
        "        'test': os.path.join(output_root, 'images/test'),\n",
        "        'nc': 1,\n",
        "        'names': ['RBC']\n",
        "    }\n",
        "\n",
        "    config_path = os.path.join(output_root, 'rbc_config.yaml')\n",
        "    with open(config_path, 'w') as f:\n",
        "        yaml.dump(config, f)\n",
        "\n",
        "    print(f\"✅ Config file created: {config_path}\")\n",
        "    return config_path\n"
      ],
      "metadata": {
        "id": "EGkidMK9JCjC"
      },
      "execution_count": null,
      "outputs": []
    },
    {
      "cell_type": "code",
      "source": [
        "config_path = create_yolo_config(output_root)\n"
      ],
      "metadata": {
        "colab": {
          "base_uri": "https://localhost:8080/"
        },
        "id": "rATFvrU8JF1W",
        "outputId": "12df53d1-b0b1-4c9b-d149-267e7378f8fc"
      },
      "execution_count": null,
      "outputs": [
        {
          "output_type": "stream",
          "name": "stdout",
          "text": [
            "✅ Config file created: /content/BCCD_YOLO/rbc_config.yaml\n"
          ]
        }
      ]
    },
    {
      "cell_type": "code",
      "source": [
        "from ultralytics import YOLO\n",
        "\n",
        "model = YOLO(\"yolov8s.pt\")  # or yolov8n.pt for smaller, faster model\n",
        "\n",
        "results = model.train(\n",
        "    data=config_path,\n",
        "    epochs=50,\n",
        "    imgsz=640,\n",
        "    batch=8,\n",
        "    name=\"yolov8_rbc\",\n",
        "    project=\"/content/rbc_detection\"\n",
        ")\n"
      ],
      "metadata": {
        "colab": {
          "base_uri": "https://localhost:8080/",
          "height": 1000
        },
        "id": "iCkQrB8IJLF2",
        "outputId": "cd460506-8eed-47c0-90be-cf82bddf4360"
      },
      "execution_count": null,
      "outputs": [
        {
          "output_type": "stream",
          "name": "stdout",
          "text": [
            "Ultralytics 8.3.170 🚀 Python-3.11.13 torch-2.6.0+cu124 CUDA:0 (Tesla T4, 15095MiB)\n",
            "\u001b[34m\u001b[1mengine/trainer: \u001b[0magnostic_nms=False, amp=True, augment=False, auto_augment=randaugment, batch=8, bgr=0.0, box=7.5, cache=False, cfg=None, classes=None, close_mosaic=10, cls=0.5, conf=None, copy_paste=0.0, copy_paste_mode=flip, cos_lr=False, cutmix=0.0, data=/content/BCCD_YOLO/rbc_config.yaml, degrees=0.0, deterministic=True, device=0, dfl=1.5, dnn=False, dropout=0.0, dynamic=False, embed=None, epochs=50, erasing=0.4, exist_ok=False, fliplr=0.5, flipud=0.0, format=torchscript, fraction=1.0, freeze=None, half=False, hsv_h=0.015, hsv_s=0.7, hsv_v=0.4, imgsz=640, int8=False, iou=0.7, keras=False, kobj=1.0, line_width=None, lr0=0.01, lrf=0.01, mask_ratio=4, max_det=300, mixup=0.0, mode=train, model=yolov8s.pt, momentum=0.937, mosaic=1.0, multi_scale=False, name=yolov8_rbc5, nbs=64, nms=False, opset=None, optimize=False, optimizer=auto, overlap_mask=True, patience=100, perspective=0.0, plots=True, pose=12.0, pretrained=True, profile=False, project=/content/rbc_detection, rect=False, resume=False, retina_masks=False, save=True, save_conf=False, save_crop=False, save_dir=/content/rbc_detection/yolov8_rbc5, save_frames=False, save_json=False, save_period=-1, save_txt=False, scale=0.5, seed=0, shear=0.0, show=False, show_boxes=True, show_conf=True, show_labels=True, simplify=True, single_cls=False, source=None, split=val, stream_buffer=False, task=detect, time=None, tracker=botsort.yaml, translate=0.1, val=True, verbose=True, vid_stride=1, visualize=False, warmup_bias_lr=0.1, warmup_epochs=3.0, warmup_momentum=0.8, weight_decay=0.0005, workers=8, workspace=None\n",
            "Overriding model.yaml nc=80 with nc=1\n",
            "\n",
            "                   from  n    params  module                                       arguments                     \n",
            "  0                  -1  1       928  ultralytics.nn.modules.conv.Conv             [3, 32, 3, 2]                 \n",
            "  1                  -1  1     18560  ultralytics.nn.modules.conv.Conv             [32, 64, 3, 2]                \n",
            "  2                  -1  1     29056  ultralytics.nn.modules.block.C2f             [64, 64, 1, True]             \n",
            "  3                  -1  1     73984  ultralytics.nn.modules.conv.Conv             [64, 128, 3, 2]               \n",
            "  4                  -1  2    197632  ultralytics.nn.modules.block.C2f             [128, 128, 2, True]           \n",
            "  5                  -1  1    295424  ultralytics.nn.modules.conv.Conv             [128, 256, 3, 2]              \n",
            "  6                  -1  2    788480  ultralytics.nn.modules.block.C2f             [256, 256, 2, True]           \n",
            "  7                  -1  1   1180672  ultralytics.nn.modules.conv.Conv             [256, 512, 3, 2]              \n",
            "  8                  -1  1   1838080  ultralytics.nn.modules.block.C2f             [512, 512, 1, True]           \n",
            "  9                  -1  1    656896  ultralytics.nn.modules.block.SPPF            [512, 512, 5]                 \n",
            " 10                  -1  1         0  torch.nn.modules.upsampling.Upsample         [None, 2, 'nearest']          \n",
            " 11             [-1, 6]  1         0  ultralytics.nn.modules.conv.Concat           [1]                           \n",
            " 12                  -1  1    591360  ultralytics.nn.modules.block.C2f             [768, 256, 1]                 \n",
            " 13                  -1  1         0  torch.nn.modules.upsampling.Upsample         [None, 2, 'nearest']          \n",
            " 14             [-1, 4]  1         0  ultralytics.nn.modules.conv.Concat           [1]                           \n",
            " 15                  -1  1    148224  ultralytics.nn.modules.block.C2f             [384, 128, 1]                 \n",
            " 16                  -1  1    147712  ultralytics.nn.modules.conv.Conv             [128, 128, 3, 2]              \n",
            " 17            [-1, 12]  1         0  ultralytics.nn.modules.conv.Concat           [1]                           \n",
            " 18                  -1  1    493056  ultralytics.nn.modules.block.C2f             [384, 256, 1]                 \n",
            " 19                  -1  1    590336  ultralytics.nn.modules.conv.Conv             [256, 256, 3, 2]              \n",
            " 20             [-1, 9]  1         0  ultralytics.nn.modules.conv.Concat           [1]                           \n",
            " 21                  -1  1   1969152  ultralytics.nn.modules.block.C2f             [768, 512, 1]                 \n",
            " 22        [15, 18, 21]  1   2116435  ultralytics.nn.modules.head.Detect           [1, [128, 256, 512]]          \n",
            "Model summary: 129 layers, 11,135,987 parameters, 11,135,971 gradients, 28.6 GFLOPs\n",
            "\n",
            "Transferred 349/355 items from pretrained weights\n",
            "Freezing layer 'model.22.dfl.conv.weight'\n",
            "\u001b[34m\u001b[1mAMP: \u001b[0mrunning Automatic Mixed Precision (AMP) checks...\n",
            "\u001b[34m\u001b[1mAMP: \u001b[0mchecks passed ✅\n",
            "\u001b[34m\u001b[1mtrain: \u001b[0mFast image access ✅ (ping: 0.0±0.0 ms, read: 678.7±261.0 MB/s, size: 20.8 KB)\n"
          ]
        },
        {
          "output_type": "stream",
          "name": "stderr",
          "text": [
            "\u001b[34m\u001b[1mtrain: \u001b[0mScanning /content/BCCD_YOLO/labels/train... 205 images, 205 backgrounds, 0 corrupt: 100%|██████████| 205/205 [00:00<00:00, 4092.18it/s]"
          ]
        },
        {
          "output_type": "stream",
          "name": "stdout",
          "text": [
            "\u001b[34m\u001b[1mtrain: \u001b[0mNew cache created: /content/BCCD_YOLO/labels/train.cache\n",
            "WARNING ⚠️ Labels are missing or empty in /content/BCCD_YOLO/labels/train.cache, training may not work correctly. See https://docs.ultralytics.com/datasets for dataset formatting guidance.\n"
          ]
        },
        {
          "output_type": "stream",
          "name": "stderr",
          "text": [
            "\n"
          ]
        },
        {
          "output_type": "stream",
          "name": "stdout",
          "text": [
            "\u001b[34m\u001b[1malbumentations: \u001b[0mBlur(p=0.01, blur_limit=(3, 7)), MedianBlur(p=0.01, blur_limit=(3, 7)), ToGray(p=0.01, method='weighted_average', num_output_channels=3), CLAHE(p=0.01, clip_limit=(1.0, 4.0), tile_grid_size=(8, 8))\n",
            "\u001b[34m\u001b[1mval: \u001b[0mFast image access ✅ (ping: 0.0±0.0 ms, read: 548.4±278.6 MB/s, size: 20.8 KB)\n"
          ]
        },
        {
          "output_type": "stream",
          "name": "stderr",
          "text": [
            "\u001b[34m\u001b[1mval: \u001b[0mScanning /content/BCCD_YOLO/labels/val... 87 images, 87 backgrounds, 0 corrupt: 100%|██████████| 87/87 [00:00<00:00, 2455.96it/s]"
          ]
        },
        {
          "output_type": "stream",
          "name": "stdout",
          "text": [
            "\u001b[34m\u001b[1mval: \u001b[0mNew cache created: /content/BCCD_YOLO/labels/val.cache\n",
            "WARNING ⚠️ Labels are missing or empty in /content/BCCD_YOLO/labels/val.cache, training may not work correctly. See https://docs.ultralytics.com/datasets for dataset formatting guidance.\n"
          ]
        },
        {
          "output_type": "stream",
          "name": "stderr",
          "text": [
            "\n"
          ]
        },
        {
          "output_type": "stream",
          "name": "stdout",
          "text": [
            "Plotting labels to /content/rbc_detection/yolov8_rbc5/labels.jpg... \n",
            "WARNING ⚠️ zero-size array to reduction operation maximum which has no identity\n",
            "\u001b[34m\u001b[1moptimizer:\u001b[0m 'optimizer=auto' found, ignoring 'lr0=0.01' and 'momentum=0.937' and determining best 'optimizer', 'lr0' and 'momentum' automatically... \n",
            "\u001b[34m\u001b[1moptimizer:\u001b[0m AdamW(lr=0.002, momentum=0.9) with parameter groups 57 weight(decay=0.0), 64 weight(decay=0.0005), 63 bias(decay=0.0)\n",
            "Image sizes 640 train, 640 val\n",
            "Using 2 dataloader workers\n",
            "Logging results to \u001b[1m/content/rbc_detection/yolov8_rbc5\u001b[0m\n",
            "Starting training for 50 epochs...\n",
            "\n",
            "      Epoch    GPU_mem   box_loss   cls_loss   dfl_loss  Instances       Size\n"
          ]
        },
        {
          "output_type": "stream",
          "name": "stderr",
          "text": [
            "       1/50      2.12G          0      256.7          0          0        640: 100%|██████████| 26/26 [00:05<00:00,  4.45it/s]\n",
            "                 Class     Images  Instances      Box(P          R      mAP50  mAP50-95): 100%|██████████| 6/6 [00:00<00:00,  6.20it/s]"
          ]
        },
        {
          "output_type": "stream",
          "name": "stdout",
          "text": [
            "                   all         87          0          0          0          0          0\n",
            "WARNING ⚠️ no labels found in detect set, can not compute metrics without labels\n"
          ]
        },
        {
          "output_type": "stream",
          "name": "stderr",
          "text": [
            "\n",
            "/usr/local/lib/python3.11/dist-packages/ultralytics/utils/metrics.py:850: RuntimeWarning: Mean of empty slice.\n",
            "  i = smooth(f1_curve.mean(0), 0.1).argmax()  # max F1 index\n",
            "/usr/local/lib/python3.11/dist-packages/numpy/_core/_methods.py:130: RuntimeWarning: invalid value encountered in divide\n",
            "  ret = um.true_divide(\n"
          ]
        },
        {
          "output_type": "stream",
          "name": "stdout",
          "text": [
            "\n",
            "      Epoch    GPU_mem   box_loss   cls_loss   dfl_loss  Instances       Size\n"
          ]
        },
        {
          "output_type": "stream",
          "name": "stderr",
          "text": [
            "       2/50      2.46G          0      67.58          0          0        640: 100%|██████████| 26/26 [00:04<00:00,  6.04it/s]\n",
            "                 Class     Images  Instances      Box(P          R      mAP50  mAP50-95): 100%|██████████| 6/6 [00:00<00:00, 11.62it/s]"
          ]
        },
        {
          "output_type": "stream",
          "name": "stdout",
          "text": [
            "                   all         87          0          0          0          0          0\n",
            "WARNING ⚠️ no labels found in detect set, can not compute metrics without labels\n"
          ]
        },
        {
          "output_type": "stream",
          "name": "stderr",
          "text": [
            "\n",
            "/usr/local/lib/python3.11/dist-packages/ultralytics/utils/metrics.py:850: RuntimeWarning: Mean of empty slice.\n",
            "  i = smooth(f1_curve.mean(0), 0.1).argmax()  # max F1 index\n",
            "/usr/local/lib/python3.11/dist-packages/numpy/_core/_methods.py:130: RuntimeWarning: invalid value encountered in divide\n",
            "  ret = um.true_divide(\n"
          ]
        },
        {
          "output_type": "stream",
          "name": "stdout",
          "text": [
            "\n",
            "      Epoch    GPU_mem   box_loss   cls_loss   dfl_loss  Instances       Size\n"
          ]
        },
        {
          "output_type": "stream",
          "name": "stderr",
          "text": [
            "       3/50      2.48G          0      11.92          0          0        640: 100%|██████████| 26/26 [00:03<00:00,  7.08it/s]\n",
            "                 Class     Images  Instances      Box(P          R      mAP50  mAP50-95): 100%|██████████| 6/6 [00:00<00:00, 12.53it/s]"
          ]
        },
        {
          "output_type": "stream",
          "name": "stdout",
          "text": [
            "                   all         87          0          0          0          0          0\n",
            "WARNING ⚠️ no labels found in detect set, can not compute metrics without labels\n"
          ]
        },
        {
          "output_type": "stream",
          "name": "stderr",
          "text": [
            "\n",
            "/usr/local/lib/python3.11/dist-packages/ultralytics/utils/metrics.py:850: RuntimeWarning: Mean of empty slice.\n",
            "  i = smooth(f1_curve.mean(0), 0.1).argmax()  # max F1 index\n",
            "/usr/local/lib/python3.11/dist-packages/numpy/_core/_methods.py:130: RuntimeWarning: invalid value encountered in divide\n",
            "  ret = um.true_divide(\n"
          ]
        },
        {
          "output_type": "stream",
          "name": "stdout",
          "text": [
            "\n",
            "      Epoch    GPU_mem   box_loss   cls_loss   dfl_loss  Instances       Size\n"
          ]
        },
        {
          "output_type": "stream",
          "name": "stderr",
          "text": [
            "       4/50      2.53G          0      3.919          0          0        640: 100%|██████████| 26/26 [00:04<00:00,  5.63it/s]\n",
            "                 Class     Images  Instances      Box(P          R      mAP50  mAP50-95): 100%|██████████| 6/6 [00:00<00:00, 11.49it/s]"
          ]
        },
        {
          "output_type": "stream",
          "name": "stdout",
          "text": [
            "                   all         87          0          0          0          0          0\n",
            "WARNING ⚠️ no labels found in detect set, can not compute metrics without labels\n"
          ]
        },
        {
          "output_type": "stream",
          "name": "stderr",
          "text": [
            "\n",
            "/usr/local/lib/python3.11/dist-packages/ultralytics/utils/metrics.py:850: RuntimeWarning: Mean of empty slice.\n",
            "  i = smooth(f1_curve.mean(0), 0.1).argmax()  # max F1 index\n",
            "/usr/local/lib/python3.11/dist-packages/numpy/_core/_methods.py:130: RuntimeWarning: invalid value encountered in divide\n",
            "  ret = um.true_divide(\n"
          ]
        },
        {
          "output_type": "stream",
          "name": "stdout",
          "text": [
            "\n",
            "      Epoch    GPU_mem   box_loss   cls_loss   dfl_loss  Instances       Size\n"
          ]
        },
        {
          "output_type": "stream",
          "name": "stderr",
          "text": [
            "       5/50      2.56G          0      1.499          0          0        640: 100%|██████████| 26/26 [00:03<00:00,  7.17it/s]\n",
            "                 Class     Images  Instances      Box(P          R      mAP50  mAP50-95): 100%|██████████| 6/6 [00:00<00:00, 10.53it/s]\n"
          ]
        },
        {
          "output_type": "stream",
          "name": "stdout",
          "text": [
            "                   all         87          0          0          0          0          0\n",
            "WARNING ⚠️ no labels found in detect set, can not compute metrics without labels\n"
          ]
        },
        {
          "output_type": "stream",
          "name": "stderr",
          "text": [
            "/usr/local/lib/python3.11/dist-packages/ultralytics/utils/metrics.py:850: RuntimeWarning: Mean of empty slice.\n",
            "  i = smooth(f1_curve.mean(0), 0.1).argmax()  # max F1 index\n",
            "/usr/local/lib/python3.11/dist-packages/numpy/_core/_methods.py:130: RuntimeWarning: invalid value encountered in divide\n",
            "  ret = um.true_divide(\n"
          ]
        },
        {
          "output_type": "stream",
          "name": "stdout",
          "text": [
            "\n",
            "      Epoch    GPU_mem   box_loss   cls_loss   dfl_loss  Instances       Size\n"
          ]
        },
        {
          "output_type": "stream",
          "name": "stderr",
          "text": [
            "       6/50      2.59G          0     0.4093          0          0        640: 100%|██████████| 26/26 [00:03<00:00,  6.97it/s]\n",
            "                 Class     Images  Instances      Box(P          R      mAP50  mAP50-95): 100%|██████████| 6/6 [00:00<00:00, 14.19it/s]"
          ]
        },
        {
          "output_type": "stream",
          "name": "stdout",
          "text": [
            "                   all         87          0          0          0          0          0\n",
            "WARNING ⚠️ no labels found in detect set, can not compute metrics without labels\n"
          ]
        },
        {
          "output_type": "stream",
          "name": "stderr",
          "text": [
            "\n",
            "/usr/local/lib/python3.11/dist-packages/ultralytics/utils/metrics.py:850: RuntimeWarning: Mean of empty slice.\n",
            "  i = smooth(f1_curve.mean(0), 0.1).argmax()  # max F1 index\n",
            "/usr/local/lib/python3.11/dist-packages/numpy/_core/_methods.py:130: RuntimeWarning: invalid value encountered in divide\n",
            "  ret = um.true_divide(\n"
          ]
        },
        {
          "output_type": "stream",
          "name": "stdout",
          "text": [
            "\n",
            "      Epoch    GPU_mem   box_loss   cls_loss   dfl_loss  Instances       Size\n"
          ]
        },
        {
          "output_type": "stream",
          "name": "stderr",
          "text": [
            "       7/50      2.64G          0     0.1051          0          0        640: 100%|██████████| 26/26 [00:04<00:00,  5.39it/s]\n",
            "                 Class     Images  Instances      Box(P          R      mAP50  mAP50-95): 100%|██████████| 6/6 [00:00<00:00, 13.74it/s]"
          ]
        },
        {
          "output_type": "stream",
          "name": "stdout",
          "text": [
            "                   all         87          0          0          0          0          0\n",
            "WARNING ⚠️ no labels found in detect set, can not compute metrics without labels\n"
          ]
        },
        {
          "output_type": "stream",
          "name": "stderr",
          "text": [
            "\n",
            "/usr/local/lib/python3.11/dist-packages/ultralytics/utils/metrics.py:850: RuntimeWarning: Mean of empty slice.\n",
            "  i = smooth(f1_curve.mean(0), 0.1).argmax()  # max F1 index\n",
            "/usr/local/lib/python3.11/dist-packages/numpy/_core/_methods.py:130: RuntimeWarning: invalid value encountered in divide\n",
            "  ret = um.true_divide(\n"
          ]
        },
        {
          "output_type": "stream",
          "name": "stdout",
          "text": [
            "\n",
            "      Epoch    GPU_mem   box_loss   cls_loss   dfl_loss  Instances       Size\n"
          ]
        },
        {
          "output_type": "stream",
          "name": "stderr",
          "text": [
            "       8/50      2.67G          0     0.0323          0          0        640: 100%|██████████| 26/26 [00:03<00:00,  7.37it/s]\n",
            "                 Class     Images  Instances      Box(P          R      mAP50  mAP50-95): 100%|██████████| 6/6 [00:00<00:00, 14.59it/s]"
          ]
        },
        {
          "output_type": "stream",
          "name": "stdout",
          "text": [
            "                   all         87          0          0          0          0          0\n",
            "WARNING ⚠️ no labels found in detect set, can not compute metrics without labels\n"
          ]
        },
        {
          "output_type": "stream",
          "name": "stderr",
          "text": [
            "\n",
            "/usr/local/lib/python3.11/dist-packages/ultralytics/utils/metrics.py:850: RuntimeWarning: Mean of empty slice.\n",
            "  i = smooth(f1_curve.mean(0), 0.1).argmax()  # max F1 index\n",
            "/usr/local/lib/python3.11/dist-packages/numpy/_core/_methods.py:130: RuntimeWarning: invalid value encountered in divide\n",
            "  ret = um.true_divide(\n"
          ]
        },
        {
          "output_type": "stream",
          "name": "stdout",
          "text": [
            "\n",
            "      Epoch    GPU_mem   box_loss   cls_loss   dfl_loss  Instances       Size\n"
          ]
        },
        {
          "output_type": "stream",
          "name": "stderr",
          "text": [
            "       9/50      2.71G          0    0.01062          0          0        640: 100%|██████████| 26/26 [00:04<00:00,  6.44it/s]\n",
            "                 Class     Images  Instances      Box(P          R      mAP50  mAP50-95): 100%|██████████| 6/6 [00:00<00:00, 10.11it/s]"
          ]
        },
        {
          "output_type": "stream",
          "name": "stdout",
          "text": [
            "                   all         87          0          0          0          0          0\n",
            "WARNING ⚠️ no labels found in detect set, can not compute metrics without labels\n"
          ]
        },
        {
          "output_type": "stream",
          "name": "stderr",
          "text": [
            "\n",
            "/usr/local/lib/python3.11/dist-packages/ultralytics/utils/metrics.py:850: RuntimeWarning: Mean of empty slice.\n",
            "  i = smooth(f1_curve.mean(0), 0.1).argmax()  # max F1 index\n",
            "/usr/local/lib/python3.11/dist-packages/numpy/_core/_methods.py:130: RuntimeWarning: invalid value encountered in divide\n",
            "  ret = um.true_divide(\n"
          ]
        },
        {
          "output_type": "stream",
          "name": "stdout",
          "text": [
            "\n",
            "      Epoch    GPU_mem   box_loss   cls_loss   dfl_loss  Instances       Size\n"
          ]
        },
        {
          "output_type": "stream",
          "name": "stderr",
          "text": [
            "      10/50      2.73G          0   0.002072          0          0        640: 100%|██████████| 26/26 [00:03<00:00,  7.13it/s]\n",
            "                 Class     Images  Instances      Box(P          R      mAP50  mAP50-95): 100%|██████████| 6/6 [00:00<00:00, 14.42it/s]"
          ]
        },
        {
          "output_type": "stream",
          "name": "stdout",
          "text": [
            "                   all         87          0          0          0          0          0\n",
            "WARNING ⚠️ no labels found in detect set, can not compute metrics without labels\n"
          ]
        },
        {
          "output_type": "stream",
          "name": "stderr",
          "text": [
            "\n",
            "/usr/local/lib/python3.11/dist-packages/ultralytics/utils/metrics.py:850: RuntimeWarning: Mean of empty slice.\n",
            "  i = smooth(f1_curve.mean(0), 0.1).argmax()  # max F1 index\n",
            "/usr/local/lib/python3.11/dist-packages/numpy/_core/_methods.py:130: RuntimeWarning: invalid value encountered in divide\n",
            "  ret = um.true_divide(\n"
          ]
        },
        {
          "output_type": "stream",
          "name": "stdout",
          "text": [
            "\n",
            "      Epoch    GPU_mem   box_loss   cls_loss   dfl_loss  Instances       Size\n"
          ]
        },
        {
          "output_type": "stream",
          "name": "stderr",
          "text": [
            "      11/50      2.76G          0  0.0007567          0          0        640:  42%|████▏     | 11/26 [00:02<00:02,  5.36it/s]\n"
          ]
        },
        {
          "output_type": "error",
          "ename": "KeyboardInterrupt",
          "evalue": "",
          "traceback": [
            "\u001b[0;31m---------------------------------------------------------------------------\u001b[0m",
            "\u001b[0;31mKeyboardInterrupt\u001b[0m                         Traceback (most recent call last)",
            "\u001b[0;32m/tmp/ipython-input-37-1773993869.py\u001b[0m in \u001b[0;36m<cell line: 0>\u001b[0;34m()\u001b[0m\n\u001b[1;32m      3\u001b[0m \u001b[0mmodel\u001b[0m \u001b[0;34m=\u001b[0m \u001b[0mYOLO\u001b[0m\u001b[0;34m(\u001b[0m\u001b[0;34m\"yolov8s.pt\"\u001b[0m\u001b[0;34m)\u001b[0m  \u001b[0;31m# or yolov8n.pt for smaller, faster model\u001b[0m\u001b[0;34m\u001b[0m\u001b[0;34m\u001b[0m\u001b[0m\n\u001b[1;32m      4\u001b[0m \u001b[0;34m\u001b[0m\u001b[0m\n\u001b[0;32m----> 5\u001b[0;31m results = model.train(\n\u001b[0m\u001b[1;32m      6\u001b[0m     \u001b[0mdata\u001b[0m\u001b[0;34m=\u001b[0m\u001b[0mconfig_path\u001b[0m\u001b[0;34m,\u001b[0m\u001b[0;34m\u001b[0m\u001b[0;34m\u001b[0m\u001b[0m\n\u001b[1;32m      7\u001b[0m     \u001b[0mepochs\u001b[0m\u001b[0;34m=\u001b[0m\u001b[0;36m50\u001b[0m\u001b[0;34m,\u001b[0m\u001b[0;34m\u001b[0m\u001b[0;34m\u001b[0m\u001b[0m\n",
            "\u001b[0;32m/usr/local/lib/python3.11/dist-packages/ultralytics/engine/model.py\u001b[0m in \u001b[0;36mtrain\u001b[0;34m(self, trainer, **kwargs)\u001b[0m\n\u001b[1;32m    797\u001b[0m \u001b[0;34m\u001b[0m\u001b[0m\n\u001b[1;32m    798\u001b[0m         \u001b[0mself\u001b[0m\u001b[0;34m.\u001b[0m\u001b[0mtrainer\u001b[0m\u001b[0;34m.\u001b[0m\u001b[0mhub_session\u001b[0m \u001b[0;34m=\u001b[0m \u001b[0mself\u001b[0m\u001b[0;34m.\u001b[0m\u001b[0msession\u001b[0m  \u001b[0;31m# attach optional HUB session\u001b[0m\u001b[0;34m\u001b[0m\u001b[0;34m\u001b[0m\u001b[0m\n\u001b[0;32m--> 799\u001b[0;31m         \u001b[0mself\u001b[0m\u001b[0;34m.\u001b[0m\u001b[0mtrainer\u001b[0m\u001b[0;34m.\u001b[0m\u001b[0mtrain\u001b[0m\u001b[0;34m(\u001b[0m\u001b[0;34m)\u001b[0m\u001b[0;34m\u001b[0m\u001b[0;34m\u001b[0m\u001b[0m\n\u001b[0m\u001b[1;32m    800\u001b[0m         \u001b[0;31m# Update model and cfg after training\u001b[0m\u001b[0;34m\u001b[0m\u001b[0;34m\u001b[0m\u001b[0m\n\u001b[1;32m    801\u001b[0m         \u001b[0;32mif\u001b[0m \u001b[0mRANK\u001b[0m \u001b[0;32min\u001b[0m \u001b[0;34m{\u001b[0m\u001b[0;34m-\u001b[0m\u001b[0;36m1\u001b[0m\u001b[0;34m,\u001b[0m \u001b[0;36m0\u001b[0m\u001b[0;34m}\u001b[0m\u001b[0;34m:\u001b[0m\u001b[0;34m\u001b[0m\u001b[0;34m\u001b[0m\u001b[0m\n",
            "\u001b[0;32m/usr/local/lib/python3.11/dist-packages/ultralytics/engine/trainer.py\u001b[0m in \u001b[0;36mtrain\u001b[0;34m(self)\u001b[0m\n\u001b[1;32m    225\u001b[0m \u001b[0;34m\u001b[0m\u001b[0m\n\u001b[1;32m    226\u001b[0m         \u001b[0;32melse\u001b[0m\u001b[0;34m:\u001b[0m\u001b[0;34m\u001b[0m\u001b[0;34m\u001b[0m\u001b[0m\n\u001b[0;32m--> 227\u001b[0;31m             \u001b[0mself\u001b[0m\u001b[0;34m.\u001b[0m\u001b[0m_do_train\u001b[0m\u001b[0;34m(\u001b[0m\u001b[0mworld_size\u001b[0m\u001b[0;34m)\u001b[0m\u001b[0;34m\u001b[0m\u001b[0;34m\u001b[0m\u001b[0m\n\u001b[0m\u001b[1;32m    228\u001b[0m \u001b[0;34m\u001b[0m\u001b[0m\n\u001b[1;32m    229\u001b[0m     \u001b[0;32mdef\u001b[0m \u001b[0m_setup_scheduler\u001b[0m\u001b[0;34m(\u001b[0m\u001b[0mself\u001b[0m\u001b[0;34m)\u001b[0m\u001b[0;34m:\u001b[0m\u001b[0;34m\u001b[0m\u001b[0;34m\u001b[0m\u001b[0m\n",
            "\u001b[0;32m/usr/local/lib/python3.11/dist-packages/ultralytics/engine/trainer.py\u001b[0m in \u001b[0;36m_do_train\u001b[0;34m(self, world_size)\u001b[0m\n\u001b[1;32m    413\u001b[0m \u001b[0;34m\u001b[0m\u001b[0m\n\u001b[1;32m    414\u001b[0m                 \u001b[0;31m# Backward\u001b[0m\u001b[0;34m\u001b[0m\u001b[0;34m\u001b[0m\u001b[0m\n\u001b[0;32m--> 415\u001b[0;31m                 \u001b[0mself\u001b[0m\u001b[0;34m.\u001b[0m\u001b[0mscaler\u001b[0m\u001b[0;34m.\u001b[0m\u001b[0mscale\u001b[0m\u001b[0;34m(\u001b[0m\u001b[0mself\u001b[0m\u001b[0;34m.\u001b[0m\u001b[0mloss\u001b[0m\u001b[0;34m)\u001b[0m\u001b[0;34m.\u001b[0m\u001b[0mbackward\u001b[0m\u001b[0;34m(\u001b[0m\u001b[0;34m)\u001b[0m\u001b[0;34m\u001b[0m\u001b[0;34m\u001b[0m\u001b[0m\n\u001b[0m\u001b[1;32m    416\u001b[0m \u001b[0;34m\u001b[0m\u001b[0m\n\u001b[1;32m    417\u001b[0m                 \u001b[0;31m# Optimize - https://pytorch.org/docs/master/notes/amp_examples.html\u001b[0m\u001b[0;34m\u001b[0m\u001b[0;34m\u001b[0m\u001b[0m\n",
            "\u001b[0;32m/usr/local/lib/python3.11/dist-packages/torch/_tensor.py\u001b[0m in \u001b[0;36mbackward\u001b[0;34m(self, gradient, retain_graph, create_graph, inputs)\u001b[0m\n\u001b[1;32m    624\u001b[0m                 \u001b[0minputs\u001b[0m\u001b[0;34m=\u001b[0m\u001b[0minputs\u001b[0m\u001b[0;34m,\u001b[0m\u001b[0;34m\u001b[0m\u001b[0;34m\u001b[0m\u001b[0m\n\u001b[1;32m    625\u001b[0m             )\n\u001b[0;32m--> 626\u001b[0;31m         torch.autograd.backward(\n\u001b[0m\u001b[1;32m    627\u001b[0m             \u001b[0mself\u001b[0m\u001b[0;34m,\u001b[0m \u001b[0mgradient\u001b[0m\u001b[0;34m,\u001b[0m \u001b[0mretain_graph\u001b[0m\u001b[0;34m,\u001b[0m \u001b[0mcreate_graph\u001b[0m\u001b[0;34m,\u001b[0m \u001b[0minputs\u001b[0m\u001b[0;34m=\u001b[0m\u001b[0minputs\u001b[0m\u001b[0;34m\u001b[0m\u001b[0;34m\u001b[0m\u001b[0m\n\u001b[1;32m    628\u001b[0m         )\n",
            "\u001b[0;32m/usr/local/lib/python3.11/dist-packages/torch/autograd/__init__.py\u001b[0m in \u001b[0;36mbackward\u001b[0;34m(tensors, grad_tensors, retain_graph, create_graph, grad_variables, inputs)\u001b[0m\n\u001b[1;32m    345\u001b[0m     \u001b[0;31m# some Python versions print out the first line of a multi-line function\u001b[0m\u001b[0;34m\u001b[0m\u001b[0;34m\u001b[0m\u001b[0m\n\u001b[1;32m    346\u001b[0m     \u001b[0;31m# calls in the traceback and some print out the last line\u001b[0m\u001b[0;34m\u001b[0m\u001b[0;34m\u001b[0m\u001b[0m\n\u001b[0;32m--> 347\u001b[0;31m     _engine_run_backward(\n\u001b[0m\u001b[1;32m    348\u001b[0m         \u001b[0mtensors\u001b[0m\u001b[0;34m,\u001b[0m\u001b[0;34m\u001b[0m\u001b[0;34m\u001b[0m\u001b[0m\n\u001b[1;32m    349\u001b[0m         \u001b[0mgrad_tensors_\u001b[0m\u001b[0;34m,\u001b[0m\u001b[0;34m\u001b[0m\u001b[0;34m\u001b[0m\u001b[0m\n",
            "\u001b[0;32m/usr/local/lib/python3.11/dist-packages/torch/autograd/graph.py\u001b[0m in \u001b[0;36m_engine_run_backward\u001b[0;34m(t_outputs, *args, **kwargs)\u001b[0m\n\u001b[1;32m    821\u001b[0m         \u001b[0munregister_hooks\u001b[0m \u001b[0;34m=\u001b[0m \u001b[0m_register_logging_hooks_on_whole_graph\u001b[0m\u001b[0;34m(\u001b[0m\u001b[0mt_outputs\u001b[0m\u001b[0;34m)\u001b[0m\u001b[0;34m\u001b[0m\u001b[0;34m\u001b[0m\u001b[0m\n\u001b[1;32m    822\u001b[0m     \u001b[0;32mtry\u001b[0m\u001b[0;34m:\u001b[0m\u001b[0;34m\u001b[0m\u001b[0;34m\u001b[0m\u001b[0m\n\u001b[0;32m--> 823\u001b[0;31m         return Variable._execution_engine.run_backward(  # Calls into the C++ engine to run the backward pass\n\u001b[0m\u001b[1;32m    824\u001b[0m             \u001b[0mt_outputs\u001b[0m\u001b[0;34m,\u001b[0m \u001b[0;34m*\u001b[0m\u001b[0margs\u001b[0m\u001b[0;34m,\u001b[0m \u001b[0;34m**\u001b[0m\u001b[0mkwargs\u001b[0m\u001b[0;34m\u001b[0m\u001b[0;34m\u001b[0m\u001b[0m\n\u001b[1;32m    825\u001b[0m         )  # Calls into the C++ engine to run the backward pass\n",
            "\u001b[0;31mKeyboardInterrupt\u001b[0m: "
          ]
        }
      ]
    },
    {
      "cell_type": "code",
      "source": [
        "import os\n",
        "import yaml\n",
        "\n",
        "def create_yolo_config(output_root):\n",
        "    \"\"\"Create YOLO configuration file\"\"\"\n",
        "\n",
        "    config = {\n",
        "        'path': output_root,\n",
        "        'train': os.path.join(output_root, 'images/train'),\n",
        "        'val': os.path.join(output_root, 'images/val'),\n",
        "        'test': os.path.join(output_root, 'images/test'),\n",
        "        'nc': 1,  # number of classes (only RBC for now)\n",
        "        'names': ['RBC']\n",
        "    }\n",
        "\n",
        "    config_path = os.path.join(output_root, 'rbc_config.yaml')\n",
        "    with open(config_path, 'w') as f:\n",
        "        yaml.dump(config, f, default_flow_style=False)\n",
        "\n",
        "    print(f\"✅ Config file created: {config_path}\")\n",
        "    return config_path\n"
      ],
      "metadata": {
        "id": "kpgEoEekEvvj"
      },
      "execution_count": null,
      "outputs": []
    },
    {
      "cell_type": "code",
      "source": [
        "def create_yolo_config(output_root, stats):\n",
        "    \"\"\"Create YOLO configuration file\"\"\"\n",
        "\n",
        "    config = {\n",
        "        'path': output_root,\n",
        "        'train': 'images/train',\n",
        "        'val': 'images/val',\n",
        "        'test': 'images/test',\n",
        "        'nc': 1,  # number of classes (only RBC)\n",
        "        'names': ['RBC']\n",
        "    }\n",
        "\n",
        "    config_path = os.path.join(output_root, 'rbc_config.yaml')\n",
        "    with open(config_path, 'w') as f:\n",
        "        yaml.dump(config, f, default_flow_style=False)\n",
        "\n",
        "    print(f\"Config file created: {config_path}\")\n",
        "    return config_path\n",
        "\n",
        "def train_yolo_rbc(config_path, model_size='s'):\n",
        "    \"\"\"Train YOLO model for RBC detection\"\"\"\n",
        "\n",
        "    # Choose model size: n(nano), s(small), m(medium), l(large), x(xlarge)\n",
        "    model = YOLO(f'yolov8{model_size}.pt')\n",
        "\n",
        "    print(f\"Starting training with YOLOv8{model_size}...\")\n",
        "\n",
        "    # Train the model - COLAB OPTIMIZED SETTINGS\n",
        "    results = model.train(\n",
        "        data=config_path,\n",
        "        epochs=50,  # Reduced for Colab time limits\n",
        "        batch=4,    # Smaller batch for Colab GPU memory\n",
        "        imgsz=640,\n",
        "        lr0=0.01,\n",
        "        patience=15,\n",
        "        save=True,\n",
        "        device=0 if torch.cuda.is_available() else 'cpu',\n",
        "        project='/content/rbc_detection',  # Colab path\n",
        "        name='yolov8_rbc',\n",
        "        verbose=True\n",
        "    )\n",
        "\n",
        "    return model, results"
      ],
      "metadata": {
        "id": "60MuPUiHFE_A"
      },
      "execution_count": null,
      "outputs": []
    },
    {
      "cell_type": "code",
      "source": [
        "def evaluate_model(model, test_images_path):\n",
        "    \"\"\"Evaluate the trained model\"\"\"\n",
        "\n",
        "    print(\"Evaluating model...\")\n",
        "\n",
        "    # Run inference on test set\n",
        "    results = model.predict(\n",
        "        source=test_images_path,\n",
        "        save=True,\n",
        "        conf=0.25,  # Confidence threshold\n",
        "        project='/content/rbc_detection',  # Colab path\n",
        "        name='predictions'\n",
        "    )\n",
        "\n",
        "    # Print some statistics\n",
        "    total_images = len(results)\n",
        "    total_detections = sum(len(r.boxes) if r.boxes is not None else 0 for r in results)\n",
        "\n",
        "    print(f\"Processed {total_images} test images\")\n",
        "    print(f\"Total RBC detections: {total_detections}\")\n",
        "    if total_images > 0:\n",
        "        print(f\"Average detections per image: {total_detections/total_images:.2f}\")\n",
        "\n",
        "    return results"
      ],
      "metadata": {
        "id": "Ab_EDzTVFS_P"
      },
      "execution_count": null,
      "outputs": []
    },
    {
      "cell_type": "code",
      "source": [
        "BCCD_ROOT = \"/kaggle/input/disease-prediction-based-on-blood-test/Deep learning-cells/BCCD\"\n",
        "BCCD_ROOT"
      ],
      "metadata": {
        "colab": {
          "base_uri": "https://localhost:8080/",
          "height": 36
        },
        "id": "-sX1_KOpGm5h",
        "outputId": "fc19f528-695a-4557-a522-e29338f99f98"
      },
      "execution_count": null,
      "outputs": [
        {
          "output_type": "execute_result",
          "data": {
            "text/plain": [
              "'/kaggle/input/disease-prediction-based-on-blood-test/Deep learning-cells/BCCD'"
            ],
            "application/vnd.google.colaboratory.intrinsic+json": {
              "type": "string"
            }
          },
          "metadata": {},
          "execution_count": 20
        }
      ]
    },
    {
      "cell_type": "code",
      "source": [
        "\n",
        "\n",
        "# Option 2: If data is in Google Drive (uncomment these lines)\n",
        "# BCCD_ROOT = \"/content/drive/MyDrive/BCCD\"\n",
        "\n",
        "# Output will be saved in Colab\n",
        "YOLO_OUTPUT = \"/content/BCCD_YOLO\"\n",
        "\n",
        "# Check if BCCD folder exists\n",
        "if not os.path.exists(BCCD_ROOT):\n",
        "    print(f\"❌ BCCD folder not found at: {BCCD_ROOT}\")\n",
        "    print(\"Please upload your BCCD dataset or check the path!\")\n",
        "    print(\"\\nTo upload to Colab:\")\n",
        "    print(\"1. Click the folder icon on the left\")\n",
        "    print(\"2. Upload your BCCD folder\")\n",
        "    print(\"3. Make sure it has train/, test/, val/ folders\")\n",
        "else:\n",
        "    print(f\"✅ Found BCCD dataset at: {BCCD_ROOT}\")\n",
        "\n",
        "    # List contents to verify structure\n",
        "    contents = os.listdir(BCCD_ROOT)\n",
        "    print(f\"Contents: {contents}\")\n",
        "\n",
        "    # Start the pipeline\n",
        "    print(\"\\n🚀 Step 1: Converting BCCD to YOLO format...\")\n",
        "    stats = convert_bccd_to_yolo(BCCD_ROOT, YOLO_OUTPUT)\n",
        "\n",
        "    print(\"\\n📝 Step 2: Creating YOLO config...\")\n",
        "    config_path = create_yolo_config(YOLO_OUTPUT, stats)\n",
        "\n",
        "    print(\"\\n🎯 Step 3: Starting YOLO training...\")\n",
        "    print(\"This will take 15-30 minutes depending on your data size...\")\n",
        "    model, training_results = train_yolo_rbc(config_path, model_size='s')\n",
        "\n",
        "    print(\"\\n📊 Step 4: Evaluating on test set...\")\n",
        "    test_results = evaluate_model(model, os.path.join(YOLO_OUTPUT, \"images/test\"))\n",
        "\n",
        "    print(\"\\n✅ Training completed!\")\n",
        "    print(\"Results saved in: /content/rbc_detection/\")\n",
        "\n",
        "    # Show some predictions\n",
        "    print(\"\\n🔍 Sample predictions:\")\n",
        "    for i, result in enumerate(test_results[:3]):  # Show first 3 results\n",
        "        if result.boxes is not None and len(result.boxes) > 0:\n",
        "            print(f\"Image {i+1}: {len(result.boxes)} RBCs detected\")\n",
        "            confidences = result.boxes.conf.cpu().numpy()\n",
        "            print(f\"  Confidence range: {confidences.min():.3f} - {confidences.max():.3f}\")\n",
        "        else:\n",
        "            print(f\"Image {i+1}: No RBCs detected\")\n",
        "\n",
        "    print(\"\\n📁 Check these folders for results:\")\n",
        "    print(\"- /content/rbc_detection/yolov8_rbc/ (training results)\")\n",
        "    print(\"- /content/rbc_detection/predictions/ (test predictions)\")"
      ],
      "metadata": {
        "colab": {
          "base_uri": "https://localhost:8080/",
          "height": 1000
        },
        "id": "c_nHRNHUFXx5",
        "outputId": "ffd860f1-14d5-4990-a677-c507b702c674"
      },
      "execution_count": null,
      "outputs": [
        {
          "output_type": "stream",
          "name": "stdout",
          "text": [
            "✅ Found BCCD dataset at: /kaggle/input/disease-prediction-based-on-blood-test/Deep learning-cells/BCCD\n",
            "Contents: ['LICENSE.md', 'README.md', 'val', 'meta.json', 'test', 'train']\n",
            "\n",
            "🚀 Step 1: Converting BCCD to YOLO format...\n",
            "Converting train set...\n",
            "Warning: No annotation file found for BloodImage_00198.jpeg at /kaggle/input/disease-prediction-based-on-blood-test/Deep learning-cells/BCCD/train/ann/BloodImage_00198.json\n",
            "Warning: No annotation file found for BloodImage_00100.jpeg at /kaggle/input/disease-prediction-based-on-blood-test/Deep learning-cells/BCCD/train/ann/BloodImage_00100.json\n",
            "Warning: No annotation file found for BloodImage_00039.jpeg at /kaggle/input/disease-prediction-based-on-blood-test/Deep learning-cells/BCCD/train/ann/BloodImage_00039.json\n",
            "Warning: No annotation file found for BloodImage_00267.jpeg at /kaggle/input/disease-prediction-based-on-blood-test/Deep learning-cells/BCCD/train/ann/BloodImage_00267.json\n",
            "Warning: No annotation file found for BloodImage_00069.jpeg at /kaggle/input/disease-prediction-based-on-blood-test/Deep learning-cells/BCCD/train/ann/BloodImage_00069.json\n",
            "Warning: No annotation file found for BloodImage_00117.jpeg at /kaggle/input/disease-prediction-based-on-blood-test/Deep learning-cells/BCCD/train/ann/BloodImage_00117.json\n",
            "Warning: No annotation file found for BloodImage_00150.jpeg at /kaggle/input/disease-prediction-based-on-blood-test/Deep learning-cells/BCCD/train/ann/BloodImage_00150.json\n",
            "Warning: No annotation file found for BloodImage_00108.jpeg at /kaggle/input/disease-prediction-based-on-blood-test/Deep learning-cells/BCCD/train/ann/BloodImage_00108.json\n",
            "Warning: No annotation file found for BloodImage_00335.jpeg at /kaggle/input/disease-prediction-based-on-blood-test/Deep learning-cells/BCCD/train/ann/BloodImage_00335.json\n",
            "Warning: No annotation file found for BloodImage_00095.jpeg at /kaggle/input/disease-prediction-based-on-blood-test/Deep learning-cells/BCCD/train/ann/BloodImage_00095.json\n",
            "Warning: No annotation file found for BloodImage_00395.jpeg at /kaggle/input/disease-prediction-based-on-blood-test/Deep learning-cells/BCCD/train/ann/BloodImage_00395.json\n",
            "Warning: No annotation file found for BloodImage_00384.jpeg at /kaggle/input/disease-prediction-based-on-blood-test/Deep learning-cells/BCCD/train/ann/BloodImage_00384.json\n",
            "Warning: No annotation file found for BloodImage_00006.jpeg at /kaggle/input/disease-prediction-based-on-blood-test/Deep learning-cells/BCCD/train/ann/BloodImage_00006.json\n",
            "Warning: No annotation file found for BloodImage_00256.jpeg at /kaggle/input/disease-prediction-based-on-blood-test/Deep learning-cells/BCCD/train/ann/BloodImage_00256.json\n",
            "Warning: No annotation file found for BloodImage_00163.jpeg at /kaggle/input/disease-prediction-based-on-blood-test/Deep learning-cells/BCCD/train/ann/BloodImage_00163.json\n",
            "Warning: No annotation file found for BloodImage_00355.jpeg at /kaggle/input/disease-prediction-based-on-blood-test/Deep learning-cells/BCCD/train/ann/BloodImage_00355.json\n",
            "Warning: No annotation file found for BloodImage_00374.jpeg at /kaggle/input/disease-prediction-based-on-blood-test/Deep learning-cells/BCCD/train/ann/BloodImage_00374.json\n",
            "Warning: No annotation file found for BloodImage_00141.jpeg at /kaggle/input/disease-prediction-based-on-blood-test/Deep learning-cells/BCCD/train/ann/BloodImage_00141.json\n",
            "Warning: No annotation file found for BloodImage_00043.jpeg at /kaggle/input/disease-prediction-based-on-blood-test/Deep learning-cells/BCCD/train/ann/BloodImage_00043.json\n",
            "Warning: No annotation file found for BloodImage_00263.jpeg at /kaggle/input/disease-prediction-based-on-blood-test/Deep learning-cells/BCCD/train/ann/BloodImage_00263.json\n",
            "Warning: No annotation file found for BloodImage_00165.jpeg at /kaggle/input/disease-prediction-based-on-blood-test/Deep learning-cells/BCCD/train/ann/BloodImage_00165.json\n",
            "Warning: No annotation file found for BloodImage_00247.jpeg at /kaggle/input/disease-prediction-based-on-blood-test/Deep learning-cells/BCCD/train/ann/BloodImage_00247.json\n",
            "Warning: No annotation file found for BloodImage_00376.jpeg at /kaggle/input/disease-prediction-based-on-blood-test/Deep learning-cells/BCCD/train/ann/BloodImage_00376.json\n",
            "Warning: No annotation file found for BloodImage_00001.jpeg at /kaggle/input/disease-prediction-based-on-blood-test/Deep learning-cells/BCCD/train/ann/BloodImage_00001.json\n",
            "Warning: No annotation file found for BloodImage_00357.jpeg at /kaggle/input/disease-prediction-based-on-blood-test/Deep learning-cells/BCCD/train/ann/BloodImage_00357.json\n",
            "Warning: No annotation file found for BloodImage_00317.jpeg at /kaggle/input/disease-prediction-based-on-blood-test/Deep learning-cells/BCCD/train/ann/BloodImage_00317.json\n",
            "Warning: No annotation file found for BloodImage_00292.jpeg at /kaggle/input/disease-prediction-based-on-blood-test/Deep learning-cells/BCCD/train/ann/BloodImage_00292.json\n",
            "Warning: No annotation file found for BloodImage_00295.jpeg at /kaggle/input/disease-prediction-based-on-blood-test/Deep learning-cells/BCCD/train/ann/BloodImage_00295.json\n",
            "Warning: No annotation file found for BloodImage_00082.jpeg at /kaggle/input/disease-prediction-based-on-blood-test/Deep learning-cells/BCCD/train/ann/BloodImage_00082.json\n",
            "Warning: No annotation file found for BloodImage_00270.jpeg at /kaggle/input/disease-prediction-based-on-blood-test/Deep learning-cells/BCCD/train/ann/BloodImage_00270.json\n",
            "Warning: No annotation file found for BloodImage_00070.jpeg at /kaggle/input/disease-prediction-based-on-blood-test/Deep learning-cells/BCCD/train/ann/BloodImage_00070.json\n",
            "Warning: No annotation file found for BloodImage_00042.jpeg at /kaggle/input/disease-prediction-based-on-blood-test/Deep learning-cells/BCCD/train/ann/BloodImage_00042.json\n",
            "Warning: No annotation file found for BloodImage_00034.jpeg at /kaggle/input/disease-prediction-based-on-blood-test/Deep learning-cells/BCCD/train/ann/BloodImage_00034.json\n",
            "Warning: No annotation file found for BloodImage_00240.jpeg at /kaggle/input/disease-prediction-based-on-blood-test/Deep learning-cells/BCCD/train/ann/BloodImage_00240.json\n",
            "Warning: No annotation file found for BloodImage_00174.jpeg at /kaggle/input/disease-prediction-based-on-blood-test/Deep learning-cells/BCCD/train/ann/BloodImage_00174.json\n",
            "Warning: No annotation file found for BloodImage_00364.jpeg at /kaggle/input/disease-prediction-based-on-blood-test/Deep learning-cells/BCCD/train/ann/BloodImage_00364.json\n",
            "Warning: No annotation file found for BloodImage_00393.jpeg at /kaggle/input/disease-prediction-based-on-blood-test/Deep learning-cells/BCCD/train/ann/BloodImage_00393.json\n",
            "Warning: No annotation file found for BloodImage_00005.jpeg at /kaggle/input/disease-prediction-based-on-blood-test/Deep learning-cells/BCCD/train/ann/BloodImage_00005.json\n",
            "Warning: No annotation file found for BloodImage_00038.jpeg at /kaggle/input/disease-prediction-based-on-blood-test/Deep learning-cells/BCCD/train/ann/BloodImage_00038.json\n",
            "Warning: No annotation file found for BloodImage_00048.jpeg at /kaggle/input/disease-prediction-based-on-blood-test/Deep learning-cells/BCCD/train/ann/BloodImage_00048.json\n",
            "Warning: No annotation file found for BloodImage_00214.jpeg at /kaggle/input/disease-prediction-based-on-blood-test/Deep learning-cells/BCCD/train/ann/BloodImage_00214.json\n",
            "Warning: No annotation file found for BloodImage_00090.jpeg at /kaggle/input/disease-prediction-based-on-blood-test/Deep learning-cells/BCCD/train/ann/BloodImage_00090.json\n",
            "Warning: No annotation file found for BloodImage_00201.jpeg at /kaggle/input/disease-prediction-based-on-blood-test/Deep learning-cells/BCCD/train/ann/BloodImage_00201.json\n",
            "Warning: No annotation file found for BloodImage_00076.jpeg at /kaggle/input/disease-prediction-based-on-blood-test/Deep learning-cells/BCCD/train/ann/BloodImage_00076.json\n",
            "Warning: No annotation file found for BloodImage_00250.jpeg at /kaggle/input/disease-prediction-based-on-blood-test/Deep learning-cells/BCCD/train/ann/BloodImage_00250.json\n",
            "Warning: No annotation file found for BloodImage_00004.jpeg at /kaggle/input/disease-prediction-based-on-blood-test/Deep learning-cells/BCCD/train/ann/BloodImage_00004.json\n",
            "Warning: No annotation file found for BloodImage_00251.jpeg at /kaggle/input/disease-prediction-based-on-blood-test/Deep learning-cells/BCCD/train/ann/BloodImage_00251.json\n",
            "Warning: No annotation file found for BloodImage_00164.jpeg at /kaggle/input/disease-prediction-based-on-blood-test/Deep learning-cells/BCCD/train/ann/BloodImage_00164.json\n",
            "Warning: No annotation file found for BloodImage_00123.jpeg at /kaggle/input/disease-prediction-based-on-blood-test/Deep learning-cells/BCCD/train/ann/BloodImage_00123.json\n",
            "Warning: No annotation file found for BloodImage_00071.jpeg at /kaggle/input/disease-prediction-based-on-blood-test/Deep learning-cells/BCCD/train/ann/BloodImage_00071.json\n",
            "Warning: No annotation file found for BloodImage_00231.jpeg at /kaggle/input/disease-prediction-based-on-blood-test/Deep learning-cells/BCCD/train/ann/BloodImage_00231.json\n",
            "Warning: No annotation file found for BloodImage_00197.jpeg at /kaggle/input/disease-prediction-based-on-blood-test/Deep learning-cells/BCCD/train/ann/BloodImage_00197.json\n",
            "Warning: No annotation file found for BloodImage_00314.jpeg at /kaggle/input/disease-prediction-based-on-blood-test/Deep learning-cells/BCCD/train/ann/BloodImage_00314.json\n",
            "Warning: No annotation file found for BloodImage_00353.jpeg at /kaggle/input/disease-prediction-based-on-blood-test/Deep learning-cells/BCCD/train/ann/BloodImage_00353.json\n",
            "Warning: No annotation file found for BloodImage_00232.jpeg at /kaggle/input/disease-prediction-based-on-blood-test/Deep learning-cells/BCCD/train/ann/BloodImage_00232.json\n",
            "Warning: No annotation file found for BloodImage_00369.jpeg at /kaggle/input/disease-prediction-based-on-blood-test/Deep learning-cells/BCCD/train/ann/BloodImage_00369.json\n",
            "Warning: No annotation file found for BloodImage_00275.jpeg at /kaggle/input/disease-prediction-based-on-blood-test/Deep learning-cells/BCCD/train/ann/BloodImage_00275.json\n",
            "Warning: No annotation file found for BloodImage_00176.jpeg at /kaggle/input/disease-prediction-based-on-blood-test/Deep learning-cells/BCCD/train/ann/BloodImage_00176.json\n",
            "Warning: No annotation file found for BloodImage_00156.jpeg at /kaggle/input/disease-prediction-based-on-blood-test/Deep learning-cells/BCCD/train/ann/BloodImage_00156.json\n",
            "Warning: No annotation file found for BloodImage_00237.jpeg at /kaggle/input/disease-prediction-based-on-blood-test/Deep learning-cells/BCCD/train/ann/BloodImage_00237.json\n",
            "Warning: No annotation file found for BloodImage_00288.jpeg at /kaggle/input/disease-prediction-based-on-blood-test/Deep learning-cells/BCCD/train/ann/BloodImage_00288.json\n",
            "Warning: No annotation file found for BloodImage_00054.jpeg at /kaggle/input/disease-prediction-based-on-blood-test/Deep learning-cells/BCCD/train/ann/BloodImage_00054.json\n",
            "Warning: No annotation file found for BloodImage_00139.jpeg at /kaggle/input/disease-prediction-based-on-blood-test/Deep learning-cells/BCCD/train/ann/BloodImage_00139.json\n",
            "Warning: No annotation file found for BloodImage_00124.jpeg at /kaggle/input/disease-prediction-based-on-blood-test/Deep learning-cells/BCCD/train/ann/BloodImage_00124.json\n",
            "Warning: No annotation file found for BloodImage_00344.jpeg at /kaggle/input/disease-prediction-based-on-blood-test/Deep learning-cells/BCCD/train/ann/BloodImage_00344.json\n",
            "Warning: No annotation file found for BloodImage_00266.jpeg at /kaggle/input/disease-prediction-based-on-blood-test/Deep learning-cells/BCCD/train/ann/BloodImage_00266.json\n",
            "Warning: No annotation file found for BloodImage_00112.jpeg at /kaggle/input/disease-prediction-based-on-blood-test/Deep learning-cells/BCCD/train/ann/BloodImage_00112.json\n",
            "Warning: No annotation file found for BloodImage_00134.jpeg at /kaggle/input/disease-prediction-based-on-blood-test/Deep learning-cells/BCCD/train/ann/BloodImage_00134.json\n",
            "Warning: No annotation file found for BloodImage_00307.jpeg at /kaggle/input/disease-prediction-based-on-blood-test/Deep learning-cells/BCCD/train/ann/BloodImage_00307.json\n",
            "Warning: No annotation file found for BloodImage_00092.jpeg at /kaggle/input/disease-prediction-based-on-blood-test/Deep learning-cells/BCCD/train/ann/BloodImage_00092.json\n",
            "Warning: No annotation file found for BloodImage_00200.jpeg at /kaggle/input/disease-prediction-based-on-blood-test/Deep learning-cells/BCCD/train/ann/BloodImage_00200.json\n",
            "Warning: No annotation file found for BloodImage_00324.jpeg at /kaggle/input/disease-prediction-based-on-blood-test/Deep learning-cells/BCCD/train/ann/BloodImage_00324.json\n",
            "Warning: No annotation file found for BloodImage_00113.jpeg at /kaggle/input/disease-prediction-based-on-blood-test/Deep learning-cells/BCCD/train/ann/BloodImage_00113.json\n",
            "Warning: No annotation file found for BloodImage_00083.jpeg at /kaggle/input/disease-prediction-based-on-blood-test/Deep learning-cells/BCCD/train/ann/BloodImage_00083.json\n",
            "Warning: No annotation file found for BloodImage_00265.jpeg at /kaggle/input/disease-prediction-based-on-blood-test/Deep learning-cells/BCCD/train/ann/BloodImage_00265.json\n",
            "Warning: No annotation file found for BloodImage_00046.jpeg at /kaggle/input/disease-prediction-based-on-blood-test/Deep learning-cells/BCCD/train/ann/BloodImage_00046.json\n",
            "Warning: No annotation file found for BloodImage_00003.jpeg at /kaggle/input/disease-prediction-based-on-blood-test/Deep learning-cells/BCCD/train/ann/BloodImage_00003.json\n",
            "Warning: No annotation file found for BloodImage_00044.jpeg at /kaggle/input/disease-prediction-based-on-blood-test/Deep learning-cells/BCCD/train/ann/BloodImage_00044.json\n",
            "Warning: No annotation file found for BloodImage_00159.jpeg at /kaggle/input/disease-prediction-based-on-blood-test/Deep learning-cells/BCCD/train/ann/BloodImage_00159.json\n",
            "Warning: No annotation file found for BloodImage_00026.jpeg at /kaggle/input/disease-prediction-based-on-blood-test/Deep learning-cells/BCCD/train/ann/BloodImage_00026.json\n",
            "Warning: No annotation file found for BloodImage_00264.jpeg at /kaggle/input/disease-prediction-based-on-blood-test/Deep learning-cells/BCCD/train/ann/BloodImage_00264.json\n",
            "Warning: No annotation file found for BloodImage_00059.jpeg at /kaggle/input/disease-prediction-based-on-blood-test/Deep learning-cells/BCCD/train/ann/BloodImage_00059.json\n",
            "Warning: No annotation file found for BloodImage_00160.jpeg at /kaggle/input/disease-prediction-based-on-blood-test/Deep learning-cells/BCCD/train/ann/BloodImage_00160.json\n",
            "Warning: No annotation file found for BloodImage_00372.jpeg at /kaggle/input/disease-prediction-based-on-blood-test/Deep learning-cells/BCCD/train/ann/BloodImage_00372.json\n",
            "Warning: No annotation file found for BloodImage_00289.jpeg at /kaggle/input/disease-prediction-based-on-blood-test/Deep learning-cells/BCCD/train/ann/BloodImage_00289.json\n",
            "Warning: No annotation file found for BloodImage_00127.jpeg at /kaggle/input/disease-prediction-based-on-blood-test/Deep learning-cells/BCCD/train/ann/BloodImage_00127.json\n",
            "Warning: No annotation file found for BloodImage_00362.jpeg at /kaggle/input/disease-prediction-based-on-blood-test/Deep learning-cells/BCCD/train/ann/BloodImage_00362.json\n",
            "Warning: No annotation file found for BloodImage_00297.jpeg at /kaggle/input/disease-prediction-based-on-blood-test/Deep learning-cells/BCCD/train/ann/BloodImage_00297.json\n",
            "Warning: No annotation file found for BloodImage_00086.jpeg at /kaggle/input/disease-prediction-based-on-blood-test/Deep learning-cells/BCCD/train/ann/BloodImage_00086.json\n",
            "Warning: No annotation file found for BloodImage_00309.jpeg at /kaggle/input/disease-prediction-based-on-blood-test/Deep learning-cells/BCCD/train/ann/BloodImage_00309.json\n",
            "Warning: No annotation file found for BloodImage_00318.jpeg at /kaggle/input/disease-prediction-based-on-blood-test/Deep learning-cells/BCCD/train/ann/BloodImage_00318.json\n",
            "Warning: No annotation file found for BloodImage_00168.jpeg at /kaggle/input/disease-prediction-based-on-blood-test/Deep learning-cells/BCCD/train/ann/BloodImage_00168.json\n",
            "Warning: No annotation file found for BloodImage_00268.jpeg at /kaggle/input/disease-prediction-based-on-blood-test/Deep learning-cells/BCCD/train/ann/BloodImage_00268.json\n",
            "Warning: No annotation file found for BloodImage_00106.jpeg at /kaggle/input/disease-prediction-based-on-blood-test/Deep learning-cells/BCCD/train/ann/BloodImage_00106.json\n",
            "Warning: No annotation file found for BloodImage_00158.jpeg at /kaggle/input/disease-prediction-based-on-blood-test/Deep learning-cells/BCCD/train/ann/BloodImage_00158.json\n",
            "Warning: No annotation file found for BloodImage_00012.jpeg at /kaggle/input/disease-prediction-based-on-blood-test/Deep learning-cells/BCCD/train/ann/BloodImage_00012.json\n",
            "Warning: No annotation file found for BloodImage_00114.jpeg at /kaggle/input/disease-prediction-based-on-blood-test/Deep learning-cells/BCCD/train/ann/BloodImage_00114.json\n",
            "Warning: No annotation file found for BloodImage_00294.jpeg at /kaggle/input/disease-prediction-based-on-blood-test/Deep learning-cells/BCCD/train/ann/BloodImage_00294.json\n",
            "Warning: No annotation file found for BloodImage_00047.jpeg at /kaggle/input/disease-prediction-based-on-blood-test/Deep learning-cells/BCCD/train/ann/BloodImage_00047.json\n",
            "Warning: No annotation file found for BloodImage_00291.jpeg at /kaggle/input/disease-prediction-based-on-blood-test/Deep learning-cells/BCCD/train/ann/BloodImage_00291.json\n",
            "Warning: No annotation file found for BloodImage_00379.jpeg at /kaggle/input/disease-prediction-based-on-blood-test/Deep learning-cells/BCCD/train/ann/BloodImage_00379.json\n",
            "Warning: No annotation file found for BloodImage_00091.jpeg at /kaggle/input/disease-prediction-based-on-blood-test/Deep learning-cells/BCCD/train/ann/BloodImage_00091.json\n",
            "Warning: No annotation file found for BloodImage_00361.jpeg at /kaggle/input/disease-prediction-based-on-blood-test/Deep learning-cells/BCCD/train/ann/BloodImage_00361.json\n",
            "Warning: No annotation file found for BloodImage_00356.jpeg at /kaggle/input/disease-prediction-based-on-blood-test/Deep learning-cells/BCCD/train/ann/BloodImage_00356.json\n",
            "Warning: No annotation file found for BloodImage_00032.jpeg at /kaggle/input/disease-prediction-based-on-blood-test/Deep learning-cells/BCCD/train/ann/BloodImage_00032.json\n",
            "Warning: No annotation file found for BloodImage_00206.jpeg at /kaggle/input/disease-prediction-based-on-blood-test/Deep learning-cells/BCCD/train/ann/BloodImage_00206.json\n",
            "Warning: No annotation file found for BloodImage_00175.jpeg at /kaggle/input/disease-prediction-based-on-blood-test/Deep learning-cells/BCCD/train/ann/BloodImage_00175.json\n",
            "Warning: No annotation file found for BloodImage_00166.jpeg at /kaggle/input/disease-prediction-based-on-blood-test/Deep learning-cells/BCCD/train/ann/BloodImage_00166.json\n",
            "Warning: No annotation file found for BloodImage_00120.jpeg at /kaggle/input/disease-prediction-based-on-blood-test/Deep learning-cells/BCCD/train/ann/BloodImage_00120.json\n",
            "Warning: No annotation file found for BloodImage_00182.jpeg at /kaggle/input/disease-prediction-based-on-blood-test/Deep learning-cells/BCCD/train/ann/BloodImage_00182.json\n",
            "Warning: No annotation file found for BloodImage_00101.jpeg at /kaggle/input/disease-prediction-based-on-blood-test/Deep learning-cells/BCCD/train/ann/BloodImage_00101.json\n",
            "Warning: No annotation file found for BloodImage_00377.jpeg at /kaggle/input/disease-prediction-based-on-blood-test/Deep learning-cells/BCCD/train/ann/BloodImage_00377.json\n",
            "Warning: No annotation file found for BloodImage_00211.jpeg at /kaggle/input/disease-prediction-based-on-blood-test/Deep learning-cells/BCCD/train/ann/BloodImage_00211.json\n",
            "Warning: No annotation file found for BloodImage_00204.jpeg at /kaggle/input/disease-prediction-based-on-blood-test/Deep learning-cells/BCCD/train/ann/BloodImage_00204.json\n",
            "Warning: No annotation file found for BloodImage_00408.jpeg at /kaggle/input/disease-prediction-based-on-blood-test/Deep learning-cells/BCCD/train/ann/BloodImage_00408.json\n",
            "Warning: No annotation file found for BloodImage_00133.jpeg at /kaggle/input/disease-prediction-based-on-blood-test/Deep learning-cells/BCCD/train/ann/BloodImage_00133.json\n",
            "Warning: No annotation file found for BloodImage_00009.jpeg at /kaggle/input/disease-prediction-based-on-blood-test/Deep learning-cells/BCCD/train/ann/BloodImage_00009.json\n",
            "Warning: No annotation file found for BloodImage_00257.jpeg at /kaggle/input/disease-prediction-based-on-blood-test/Deep learning-cells/BCCD/train/ann/BloodImage_00257.json\n",
            "Warning: No annotation file found for BloodImage_00199.jpeg at /kaggle/input/disease-prediction-based-on-blood-test/Deep learning-cells/BCCD/train/ann/BloodImage_00199.json\n",
            "Warning: No annotation file found for BloodImage_00354.jpeg at /kaggle/input/disease-prediction-based-on-blood-test/Deep learning-cells/BCCD/train/ann/BloodImage_00354.json\n",
            "Warning: No annotation file found for BloodImage_00347.jpeg at /kaggle/input/disease-prediction-based-on-blood-test/Deep learning-cells/BCCD/train/ann/BloodImage_00347.json\n",
            "Warning: No annotation file found for BloodImage_00278.jpeg at /kaggle/input/disease-prediction-based-on-blood-test/Deep learning-cells/BCCD/train/ann/BloodImage_00278.json\n",
            "Warning: No annotation file found for BloodImage_00107.jpeg at /kaggle/input/disease-prediction-based-on-blood-test/Deep learning-cells/BCCD/train/ann/BloodImage_00107.json\n",
            "Warning: No annotation file found for BloodImage_00276.jpeg at /kaggle/input/disease-prediction-based-on-blood-test/Deep learning-cells/BCCD/train/ann/BloodImage_00276.json\n",
            "Warning: No annotation file found for BloodImage_00187.jpeg at /kaggle/input/disease-prediction-based-on-blood-test/Deep learning-cells/BCCD/train/ann/BloodImage_00187.json\n",
            "Warning: No annotation file found for BloodImage_00179.jpeg at /kaggle/input/disease-prediction-based-on-blood-test/Deep learning-cells/BCCD/train/ann/BloodImage_00179.json\n",
            "Warning: No annotation file found for BloodImage_00036.jpeg at /kaggle/input/disease-prediction-based-on-blood-test/Deep learning-cells/BCCD/train/ann/BloodImage_00036.json\n",
            "Warning: No annotation file found for BloodImage_00348.jpeg at /kaggle/input/disease-prediction-based-on-blood-test/Deep learning-cells/BCCD/train/ann/BloodImage_00348.json\n",
            "Warning: No annotation file found for BloodImage_00301.jpeg at /kaggle/input/disease-prediction-based-on-blood-test/Deep learning-cells/BCCD/train/ann/BloodImage_00301.json\n",
            "Warning: No annotation file found for BloodImage_00299.jpeg at /kaggle/input/disease-prediction-based-on-blood-test/Deep learning-cells/BCCD/train/ann/BloodImage_00299.json\n",
            "Warning: No annotation file found for BloodImage_00388.jpeg at /kaggle/input/disease-prediction-based-on-blood-test/Deep learning-cells/BCCD/train/ann/BloodImage_00388.json\n",
            "Warning: No annotation file found for BloodImage_00235.jpeg at /kaggle/input/disease-prediction-based-on-blood-test/Deep learning-cells/BCCD/train/ann/BloodImage_00235.json\n",
            "Warning: No annotation file found for BloodImage_00154.jpeg at /kaggle/input/disease-prediction-based-on-blood-test/Deep learning-cells/BCCD/train/ann/BloodImage_00154.json\n",
            "Warning: No annotation file found for BloodImage_00248.jpeg at /kaggle/input/disease-prediction-based-on-blood-test/Deep learning-cells/BCCD/train/ann/BloodImage_00248.json\n",
            "Warning: No annotation file found for BloodImage_00279.jpeg at /kaggle/input/disease-prediction-based-on-blood-test/Deep learning-cells/BCCD/train/ann/BloodImage_00279.json\n",
            "Warning: No annotation file found for BloodImage_00191.jpeg at /kaggle/input/disease-prediction-based-on-blood-test/Deep learning-cells/BCCD/train/ann/BloodImage_00191.json\n",
            "Warning: No annotation file found for BloodImage_00023.jpeg at /kaggle/input/disease-prediction-based-on-blood-test/Deep learning-cells/BCCD/train/ann/BloodImage_00023.json\n",
            "Warning: No annotation file found for BloodImage_00087.jpeg at /kaggle/input/disease-prediction-based-on-blood-test/Deep learning-cells/BCCD/train/ann/BloodImage_00087.json\n",
            "Warning: No annotation file found for BloodImage_00013.jpeg at /kaggle/input/disease-prediction-based-on-blood-test/Deep learning-cells/BCCD/train/ann/BloodImage_00013.json\n",
            "Warning: No annotation file found for BloodImage_00308.jpeg at /kaggle/input/disease-prediction-based-on-blood-test/Deep learning-cells/BCCD/train/ann/BloodImage_00308.json\n",
            "Warning: No annotation file found for BloodImage_00024.jpeg at /kaggle/input/disease-prediction-based-on-blood-test/Deep learning-cells/BCCD/train/ann/BloodImage_00024.json\n",
            "Warning: No annotation file found for BloodImage_00008.jpeg at /kaggle/input/disease-prediction-based-on-blood-test/Deep learning-cells/BCCD/train/ann/BloodImage_00008.json\n",
            "Warning: No annotation file found for BloodImage_00020.jpeg at /kaggle/input/disease-prediction-based-on-blood-test/Deep learning-cells/BCCD/train/ann/BloodImage_00020.json\n",
            "Warning: No annotation file found for BloodImage_00010.jpeg at /kaggle/input/disease-prediction-based-on-blood-test/Deep learning-cells/BCCD/train/ann/BloodImage_00010.json\n",
            "Warning: No annotation file found for BloodImage_00050.jpeg at /kaggle/input/disease-prediction-based-on-blood-test/Deep learning-cells/BCCD/train/ann/BloodImage_00050.json\n",
            "Warning: No annotation file found for BloodImage_00022.jpeg at /kaggle/input/disease-prediction-based-on-blood-test/Deep learning-cells/BCCD/train/ann/BloodImage_00022.json\n",
            "Warning: No annotation file found for BloodImage_00097.jpeg at /kaggle/input/disease-prediction-based-on-blood-test/Deep learning-cells/BCCD/train/ann/BloodImage_00097.json\n",
            "Warning: No annotation file found for BloodImage_00300.jpeg at /kaggle/input/disease-prediction-based-on-blood-test/Deep learning-cells/BCCD/train/ann/BloodImage_00300.json\n",
            "Warning: No annotation file found for BloodImage_00040.jpeg at /kaggle/input/disease-prediction-based-on-blood-test/Deep learning-cells/BCCD/train/ann/BloodImage_00040.json\n",
            "Warning: No annotation file found for BloodImage_00081.jpeg at /kaggle/input/disease-prediction-based-on-blood-test/Deep learning-cells/BCCD/train/ann/BloodImage_00081.json\n",
            "Warning: No annotation file found for BloodImage_00239.jpeg at /kaggle/input/disease-prediction-based-on-blood-test/Deep learning-cells/BCCD/train/ann/BloodImage_00239.json\n",
            "Warning: No annotation file found for BloodImage_00078.jpeg at /kaggle/input/disease-prediction-based-on-blood-test/Deep learning-cells/BCCD/train/ann/BloodImage_00078.json\n",
            "Warning: No annotation file found for BloodImage_00126.jpeg at /kaggle/input/disease-prediction-based-on-blood-test/Deep learning-cells/BCCD/train/ann/BloodImage_00126.json\n",
            "Warning: No annotation file found for BloodImage_00351.jpeg at /kaggle/input/disease-prediction-based-on-blood-test/Deep learning-cells/BCCD/train/ann/BloodImage_00351.json\n",
            "Warning: No annotation file found for BloodImage_00215.jpeg at /kaggle/input/disease-prediction-based-on-blood-test/Deep learning-cells/BCCD/train/ann/BloodImage_00215.json\n",
            "Warning: No annotation file found for BloodImage_00142.jpeg at /kaggle/input/disease-prediction-based-on-blood-test/Deep learning-cells/BCCD/train/ann/BloodImage_00142.json\n",
            "Warning: No annotation file found for BloodImage_00378.jpeg at /kaggle/input/disease-prediction-based-on-blood-test/Deep learning-cells/BCCD/train/ann/BloodImage_00378.json\n",
            "Warning: No annotation file found for BloodImage_00170.jpeg at /kaggle/input/disease-prediction-based-on-blood-test/Deep learning-cells/BCCD/train/ann/BloodImage_00170.json\n",
            "Warning: No annotation file found for BloodImage_00196.jpeg at /kaggle/input/disease-prediction-based-on-blood-test/Deep learning-cells/BCCD/train/ann/BloodImage_00196.json\n",
            "Warning: No annotation file found for BloodImage_00343.jpeg at /kaggle/input/disease-prediction-based-on-blood-test/Deep learning-cells/BCCD/train/ann/BloodImage_00343.json\n",
            "Warning: No annotation file found for BloodImage_00224.jpeg at /kaggle/input/disease-prediction-based-on-blood-test/Deep learning-cells/BCCD/train/ann/BloodImage_00224.json\n",
            "Warning: No annotation file found for BloodImage_00259.jpeg at /kaggle/input/disease-prediction-based-on-blood-test/Deep learning-cells/BCCD/train/ann/BloodImage_00259.json\n",
            "Warning: No annotation file found for BloodImage_00403.jpeg at /kaggle/input/disease-prediction-based-on-blood-test/Deep learning-cells/BCCD/train/ann/BloodImage_00403.json\n",
            "Warning: No annotation file found for BloodImage_00203.jpeg at /kaggle/input/disease-prediction-based-on-blood-test/Deep learning-cells/BCCD/train/ann/BloodImage_00203.json\n",
            "Warning: No annotation file found for BloodImage_00322.jpeg at /kaggle/input/disease-prediction-based-on-blood-test/Deep learning-cells/BCCD/train/ann/BloodImage_00322.json\n",
            "Warning: No annotation file found for BloodImage_00283.jpeg at /kaggle/input/disease-prediction-based-on-blood-test/Deep learning-cells/BCCD/train/ann/BloodImage_00283.json\n",
            "Warning: No annotation file found for BloodImage_00370.jpeg at /kaggle/input/disease-prediction-based-on-blood-test/Deep learning-cells/BCCD/train/ann/BloodImage_00370.json\n",
            "Warning: No annotation file found for BloodImage_00281.jpeg at /kaggle/input/disease-prediction-based-on-blood-test/Deep learning-cells/BCCD/train/ann/BloodImage_00281.json\n",
            "Warning: No annotation file found for BloodImage_00404.jpeg at /kaggle/input/disease-prediction-based-on-blood-test/Deep learning-cells/BCCD/train/ann/BloodImage_00404.json\n",
            "Warning: No annotation file found for BloodImage_00305.jpeg at /kaggle/input/disease-prediction-based-on-blood-test/Deep learning-cells/BCCD/train/ann/BloodImage_00305.json\n",
            "Warning: No annotation file found for BloodImage_00045.jpeg at /kaggle/input/disease-prediction-based-on-blood-test/Deep learning-cells/BCCD/train/ann/BloodImage_00045.json\n",
            "Warning: No annotation file found for BloodImage_00345.jpeg at /kaggle/input/disease-prediction-based-on-blood-test/Deep learning-cells/BCCD/train/ann/BloodImage_00345.json\n",
            "Warning: No annotation file found for BloodImage_00382.jpeg at /kaggle/input/disease-prediction-based-on-blood-test/Deep learning-cells/BCCD/train/ann/BloodImage_00382.json\n",
            "Warning: No annotation file found for BloodImage_00311.jpeg at /kaggle/input/disease-prediction-based-on-blood-test/Deep learning-cells/BCCD/train/ann/BloodImage_00311.json\n",
            "Warning: No annotation file found for BloodImage_00242.jpeg at /kaggle/input/disease-prediction-based-on-blood-test/Deep learning-cells/BCCD/train/ann/BloodImage_00242.json\n",
            "Warning: No annotation file found for BloodImage_00056.jpeg at /kaggle/input/disease-prediction-based-on-blood-test/Deep learning-cells/BCCD/train/ann/BloodImage_00056.json\n",
            "Warning: No annotation file found for BloodImage_00052.jpeg at /kaggle/input/disease-prediction-based-on-blood-test/Deep learning-cells/BCCD/train/ann/BloodImage_00052.json\n",
            "Warning: No annotation file found for BloodImage_00325.jpeg at /kaggle/input/disease-prediction-based-on-blood-test/Deep learning-cells/BCCD/train/ann/BloodImage_00325.json\n",
            "Warning: No annotation file found for BloodImage_00094.jpeg at /kaggle/input/disease-prediction-based-on-blood-test/Deep learning-cells/BCCD/train/ann/BloodImage_00094.json\n",
            "Warning: No annotation file found for BloodImage_00195.jpeg at /kaggle/input/disease-prediction-based-on-blood-test/Deep learning-cells/BCCD/train/ann/BloodImage_00195.json\n",
            "Warning: No annotation file found for BloodImage_00079.jpeg at /kaggle/input/disease-prediction-based-on-blood-test/Deep learning-cells/BCCD/train/ann/BloodImage_00079.json\n",
            "Warning: No annotation file found for BloodImage_00110.jpeg at /kaggle/input/disease-prediction-based-on-blood-test/Deep learning-cells/BCCD/train/ann/BloodImage_00110.json\n",
            "Warning: No annotation file found for BloodImage_00254.jpeg at /kaggle/input/disease-prediction-based-on-blood-test/Deep learning-cells/BCCD/train/ann/BloodImage_00254.json\n",
            "Warning: No annotation file found for BloodImage_00190.jpeg at /kaggle/input/disease-prediction-based-on-blood-test/Deep learning-cells/BCCD/train/ann/BloodImage_00190.json\n",
            "Warning: No annotation file found for BloodImage_00339.jpeg at /kaggle/input/disease-prediction-based-on-blood-test/Deep learning-cells/BCCD/train/ann/BloodImage_00339.json\n",
            "Warning: No annotation file found for BloodImage_00189.jpeg at /kaggle/input/disease-prediction-based-on-blood-test/Deep learning-cells/BCCD/train/ann/BloodImage_00189.json\n",
            "Warning: No annotation file found for BloodImage_00313.jpeg at /kaggle/input/disease-prediction-based-on-blood-test/Deep learning-cells/BCCD/train/ann/BloodImage_00313.json\n",
            "Warning: No annotation file found for BloodImage_00243.jpeg at /kaggle/input/disease-prediction-based-on-blood-test/Deep learning-cells/BCCD/train/ann/BloodImage_00243.json\n",
            "Warning: No annotation file found for BloodImage_00252.jpeg at /kaggle/input/disease-prediction-based-on-blood-test/Deep learning-cells/BCCD/train/ann/BloodImage_00252.json\n",
            "Warning: No annotation file found for BloodImage_00144.jpeg at /kaggle/input/disease-prediction-based-on-blood-test/Deep learning-cells/BCCD/train/ann/BloodImage_00144.json\n",
            "Warning: No annotation file found for BloodImage_00177.jpeg at /kaggle/input/disease-prediction-based-on-blood-test/Deep learning-cells/BCCD/train/ann/BloodImage_00177.json\n",
            "Warning: No annotation file found for BloodImage_00332.jpeg at /kaggle/input/disease-prediction-based-on-blood-test/Deep learning-cells/BCCD/train/ann/BloodImage_00332.json\n",
            "Warning: No annotation file found for BloodImage_00258.jpeg at /kaggle/input/disease-prediction-based-on-blood-test/Deep learning-cells/BCCD/train/ann/BloodImage_00258.json\n",
            "Warning: No annotation file found for BloodImage_00210.jpeg at /kaggle/input/disease-prediction-based-on-blood-test/Deep learning-cells/BCCD/train/ann/BloodImage_00210.json\n",
            "Warning: No annotation file found for BloodImage_00371.jpeg at /kaggle/input/disease-prediction-based-on-blood-test/Deep learning-cells/BCCD/train/ann/BloodImage_00371.json\n",
            "Warning: No annotation file found for BloodImage_00302.jpeg at /kaggle/input/disease-prediction-based-on-blood-test/Deep learning-cells/BCCD/train/ann/BloodImage_00302.json\n",
            "Warning: No annotation file found for BloodImage_00273.jpeg at /kaggle/input/disease-prediction-based-on-blood-test/Deep learning-cells/BCCD/train/ann/BloodImage_00273.json\n",
            "Warning: No annotation file found for BloodImage_00049.jpeg at /kaggle/input/disease-prediction-based-on-blood-test/Deep learning-cells/BCCD/train/ann/BloodImage_00049.json\n",
            "Warning: No annotation file found for BloodImage_00400.jpeg at /kaggle/input/disease-prediction-based-on-blood-test/Deep learning-cells/BCCD/train/ann/BloodImage_00400.json\n",
            "Warning: No annotation file found for BloodImage_00336.jpeg at /kaggle/input/disease-prediction-based-on-blood-test/Deep learning-cells/BCCD/train/ann/BloodImage_00336.json\n",
            "Warning: No annotation file found for BloodImage_00405.jpeg at /kaggle/input/disease-prediction-based-on-blood-test/Deep learning-cells/BCCD/train/ann/BloodImage_00405.json\n",
            "Warning: No annotation file found for BloodImage_00202.jpeg at /kaggle/input/disease-prediction-based-on-blood-test/Deep learning-cells/BCCD/train/ann/BloodImage_00202.json\n",
            "Warning: No annotation file found for BloodImage_00387.jpeg at /kaggle/input/disease-prediction-based-on-blood-test/Deep learning-cells/BCCD/train/ann/BloodImage_00387.json\n",
            "Warning: No annotation file found for BloodImage_00212.jpeg at /kaggle/input/disease-prediction-based-on-blood-test/Deep learning-cells/BCCD/train/ann/BloodImage_00212.json\n",
            "Warning: No annotation file found for BloodImage_00359.jpeg at /kaggle/input/disease-prediction-based-on-blood-test/Deep learning-cells/BCCD/train/ann/BloodImage_00359.json\n",
            "Converted 0 images for train set\n",
            "Converting val set...\n",
            "Warning: No annotation file found for BloodImage_00073.jpeg at /kaggle/input/disease-prediction-based-on-blood-test/Deep learning-cells/BCCD/val/ann/BloodImage_00073.json\n",
            "Warning: No annotation file found for BloodImage_00037.jpeg at /kaggle/input/disease-prediction-based-on-blood-test/Deep learning-cells/BCCD/val/ann/BloodImage_00037.json\n",
            "Warning: No annotation file found for BloodImage_00397.jpeg at /kaggle/input/disease-prediction-based-on-blood-test/Deep learning-cells/BCCD/val/ann/BloodImage_00397.json\n",
            "Warning: No annotation file found for BloodImage_00315.jpeg at /kaggle/input/disease-prediction-based-on-blood-test/Deep learning-cells/BCCD/val/ann/BloodImage_00315.json\n",
            "Warning: No annotation file found for BloodImage_00207.jpeg at /kaggle/input/disease-prediction-based-on-blood-test/Deep learning-cells/BCCD/val/ann/BloodImage_00207.json\n",
            "Warning: No annotation file found for BloodImage_00304.jpeg at /kaggle/input/disease-prediction-based-on-blood-test/Deep learning-cells/BCCD/val/ann/BloodImage_00304.json\n",
            "Warning: No annotation file found for BloodImage_00193.jpeg at /kaggle/input/disease-prediction-based-on-blood-test/Deep learning-cells/BCCD/val/ann/BloodImage_00193.json\n",
            "Warning: No annotation file found for BloodImage_00269.jpeg at /kaggle/input/disease-prediction-based-on-blood-test/Deep learning-cells/BCCD/val/ann/BloodImage_00269.json\n",
            "Warning: No annotation file found for BloodImage_00145.jpeg at /kaggle/input/disease-prediction-based-on-blood-test/Deep learning-cells/BCCD/val/ann/BloodImage_00145.json\n",
            "Warning: No annotation file found for BloodImage_00392.jpeg at /kaggle/input/disease-prediction-based-on-blood-test/Deep learning-cells/BCCD/val/ann/BloodImage_00392.json\n",
            "Warning: No annotation file found for BloodImage_00192.jpeg at /kaggle/input/disease-prediction-based-on-blood-test/Deep learning-cells/BCCD/val/ann/BloodImage_00192.json\n",
            "Warning: No annotation file found for BloodImage_00014.jpeg at /kaggle/input/disease-prediction-based-on-blood-test/Deep learning-cells/BCCD/val/ann/BloodImage_00014.json\n",
            "Warning: No annotation file found for BloodImage_00383.jpeg at /kaggle/input/disease-prediction-based-on-blood-test/Deep learning-cells/BCCD/val/ann/BloodImage_00383.json\n",
            "Warning: No annotation file found for BloodImage_00217.jpeg at /kaggle/input/disease-prediction-based-on-blood-test/Deep learning-cells/BCCD/val/ann/BloodImage_00217.json\n",
            "Warning: No annotation file found for BloodImage_00111.jpeg at /kaggle/input/disease-prediction-based-on-blood-test/Deep learning-cells/BCCD/val/ann/BloodImage_00111.json\n",
            "Warning: No annotation file found for BloodImage_00035.jpeg at /kaggle/input/disease-prediction-based-on-blood-test/Deep learning-cells/BCCD/val/ann/BloodImage_00035.json\n",
            "Warning: No annotation file found for BloodImage_00218.jpeg at /kaggle/input/disease-prediction-based-on-blood-test/Deep learning-cells/BCCD/val/ann/BloodImage_00218.json\n",
            "Warning: No annotation file found for BloodImage_00340.jpeg at /kaggle/input/disease-prediction-based-on-blood-test/Deep learning-cells/BCCD/val/ann/BloodImage_00340.json\n",
            "Warning: No annotation file found for BloodImage_00272.jpeg at /kaggle/input/disease-prediction-based-on-blood-test/Deep learning-cells/BCCD/val/ann/BloodImage_00272.json\n",
            "Warning: No annotation file found for BloodImage_00223.jpeg at /kaggle/input/disease-prediction-based-on-blood-test/Deep learning-cells/BCCD/val/ann/BloodImage_00223.json\n",
            "Warning: No annotation file found for BloodImage_00330.jpeg at /kaggle/input/disease-prediction-based-on-blood-test/Deep learning-cells/BCCD/val/ann/BloodImage_00330.json\n",
            "Warning: No annotation file found for BloodImage_00298.jpeg at /kaggle/input/disease-prediction-based-on-blood-test/Deep learning-cells/BCCD/val/ann/BloodImage_00298.json\n",
            "Warning: No annotation file found for BloodImage_00017.jpeg at /kaggle/input/disease-prediction-based-on-blood-test/Deep learning-cells/BCCD/val/ann/BloodImage_00017.json\n",
            "Warning: No annotation file found for BloodImage_00245.jpeg at /kaggle/input/disease-prediction-based-on-blood-test/Deep learning-cells/BCCD/val/ann/BloodImage_00245.json\n",
            "Warning: No annotation file found for BloodImage_00337.jpeg at /kaggle/input/disease-prediction-based-on-blood-test/Deep learning-cells/BCCD/val/ann/BloodImage_00337.json\n",
            "Warning: No annotation file found for BloodImage_00331.jpeg at /kaggle/input/disease-prediction-based-on-blood-test/Deep learning-cells/BCCD/val/ann/BloodImage_00331.json\n",
            "Warning: No annotation file found for BloodImage_00338.jpeg at /kaggle/input/disease-prediction-based-on-blood-test/Deep learning-cells/BCCD/val/ann/BloodImage_00338.json\n",
            "Warning: No annotation file found for BloodImage_00262.jpeg at /kaggle/input/disease-prediction-based-on-blood-test/Deep learning-cells/BCCD/val/ann/BloodImage_00262.json\n",
            "Warning: No annotation file found for BloodImage_00216.jpeg at /kaggle/input/disease-prediction-based-on-blood-test/Deep learning-cells/BCCD/val/ann/BloodImage_00216.json\n",
            "Warning: No annotation file found for BloodImage_00367.jpeg at /kaggle/input/disease-prediction-based-on-blood-test/Deep learning-cells/BCCD/val/ann/BloodImage_00367.json\n",
            "Warning: No annotation file found for BloodImage_00244.jpeg at /kaggle/input/disease-prediction-based-on-blood-test/Deep learning-cells/BCCD/val/ann/BloodImage_00244.json\n",
            "Warning: No annotation file found for BloodImage_00389.jpeg at /kaggle/input/disease-prediction-based-on-blood-test/Deep learning-cells/BCCD/val/ann/BloodImage_00389.json\n",
            "Warning: No annotation file found for BloodImage_00350.jpeg at /kaggle/input/disease-prediction-based-on-blood-test/Deep learning-cells/BCCD/val/ann/BloodImage_00350.json\n",
            "Warning: No annotation file found for BloodImage_00402.jpeg at /kaggle/input/disease-prediction-based-on-blood-test/Deep learning-cells/BCCD/val/ann/BloodImage_00402.json\n",
            "Warning: No annotation file found for BloodImage_00352.jpeg at /kaggle/input/disease-prediction-based-on-blood-test/Deep learning-cells/BCCD/val/ann/BloodImage_00352.json\n",
            "Warning: No annotation file found for BloodImage_00241.jpeg at /kaggle/input/disease-prediction-based-on-blood-test/Deep learning-cells/BCCD/val/ann/BloodImage_00241.json\n",
            "Warning: No annotation file found for BloodImage_00140.jpeg at /kaggle/input/disease-prediction-based-on-blood-test/Deep learning-cells/BCCD/val/ann/BloodImage_00140.json\n",
            "Warning: No annotation file found for BloodImage_00147.jpeg at /kaggle/input/disease-prediction-based-on-blood-test/Deep learning-cells/BCCD/val/ann/BloodImage_00147.json\n",
            "Warning: No annotation file found for BloodImage_00125.jpeg at /kaggle/input/disease-prediction-based-on-blood-test/Deep learning-cells/BCCD/val/ann/BloodImage_00125.json\n",
            "Warning: No annotation file found for BloodImage_00386.jpeg at /kaggle/input/disease-prediction-based-on-blood-test/Deep learning-cells/BCCD/val/ann/BloodImage_00386.json\n",
            "Warning: No annotation file found for BloodImage_00326.jpeg at /kaggle/input/disease-prediction-based-on-blood-test/Deep learning-cells/BCCD/val/ann/BloodImage_00326.json\n",
            "Warning: No annotation file found for BloodImage_00285.jpeg at /kaggle/input/disease-prediction-based-on-blood-test/Deep learning-cells/BCCD/val/ann/BloodImage_00285.json\n",
            "Warning: No annotation file found for BloodImage_00053.jpeg at /kaggle/input/disease-prediction-based-on-blood-test/Deep learning-cells/BCCD/val/ann/BloodImage_00053.json\n",
            "Warning: No annotation file found for BloodImage_00029.jpeg at /kaggle/input/disease-prediction-based-on-blood-test/Deep learning-cells/BCCD/val/ann/BloodImage_00029.json\n",
            "Warning: No annotation file found for BloodImage_00152.jpeg at /kaggle/input/disease-prediction-based-on-blood-test/Deep learning-cells/BCCD/val/ann/BloodImage_00152.json\n",
            "Warning: No annotation file found for BloodImage_00030.jpeg at /kaggle/input/disease-prediction-based-on-blood-test/Deep learning-cells/BCCD/val/ann/BloodImage_00030.json\n",
            "Warning: No annotation file found for BloodImage_00342.jpeg at /kaggle/input/disease-prediction-based-on-blood-test/Deep learning-cells/BCCD/val/ann/BloodImage_00342.json\n",
            "Warning: No annotation file found for BloodImage_00312.jpeg at /kaggle/input/disease-prediction-based-on-blood-test/Deep learning-cells/BCCD/val/ann/BloodImage_00312.json\n",
            "Warning: No annotation file found for BloodImage_00381.jpeg at /kaggle/input/disease-prediction-based-on-blood-test/Deep learning-cells/BCCD/val/ann/BloodImage_00381.json\n",
            "Warning: No annotation file found for BloodImage_00349.jpeg at /kaggle/input/disease-prediction-based-on-blood-test/Deep learning-cells/BCCD/val/ann/BloodImage_00349.json\n",
            "Warning: No annotation file found for BloodImage_00398.jpeg at /kaggle/input/disease-prediction-based-on-blood-test/Deep learning-cells/BCCD/val/ann/BloodImage_00398.json\n",
            "Warning: No annotation file found for BloodImage_00099.jpeg at /kaggle/input/disease-prediction-based-on-blood-test/Deep learning-cells/BCCD/val/ann/BloodImage_00099.json\n",
            "Warning: No annotation file found for BloodImage_00130.jpeg at /kaggle/input/disease-prediction-based-on-blood-test/Deep learning-cells/BCCD/val/ann/BloodImage_00130.json\n",
            "Warning: No annotation file found for BloodImage_00064.jpeg at /kaggle/input/disease-prediction-based-on-blood-test/Deep learning-cells/BCCD/val/ann/BloodImage_00064.json\n",
            "Warning: No annotation file found for BloodImage_00066.jpeg at /kaggle/input/disease-prediction-based-on-blood-test/Deep learning-cells/BCCD/val/ann/BloodImage_00066.json\n",
            "Warning: No annotation file found for BloodImage_00368.jpeg at /kaggle/input/disease-prediction-based-on-blood-test/Deep learning-cells/BCCD/val/ann/BloodImage_00368.json\n",
            "Warning: No annotation file found for BloodImage_00162.jpeg at /kaggle/input/disease-prediction-based-on-blood-test/Deep learning-cells/BCCD/val/ann/BloodImage_00162.json\n",
            "Warning: No annotation file found for BloodImage_00236.jpeg at /kaggle/input/disease-prediction-based-on-blood-test/Deep learning-cells/BCCD/val/ann/BloodImage_00236.json\n",
            "Warning: No annotation file found for BloodImage_00260.jpeg at /kaggle/input/disease-prediction-based-on-blood-test/Deep learning-cells/BCCD/val/ann/BloodImage_00260.json\n",
            "Warning: No annotation file found for BloodImage_00219.jpeg at /kaggle/input/disease-prediction-based-on-blood-test/Deep learning-cells/BCCD/val/ann/BloodImage_00219.json\n",
            "Warning: No annotation file found for BloodImage_00055.jpeg at /kaggle/input/disease-prediction-based-on-blood-test/Deep learning-cells/BCCD/val/ann/BloodImage_00055.json\n",
            "Warning: No annotation file found for BloodImage_00261.jpeg at /kaggle/input/disease-prediction-based-on-blood-test/Deep learning-cells/BCCD/val/ann/BloodImage_00261.json\n",
            "Warning: No annotation file found for BloodImage_00255.jpeg at /kaggle/input/disease-prediction-based-on-blood-test/Deep learning-cells/BCCD/val/ann/BloodImage_00255.json\n",
            "Warning: No annotation file found for BloodImage_00028.jpeg at /kaggle/input/disease-prediction-based-on-blood-test/Deep learning-cells/BCCD/val/ann/BloodImage_00028.json\n",
            "Warning: No annotation file found for BloodImage_00072.jpeg at /kaggle/input/disease-prediction-based-on-blood-test/Deep learning-cells/BCCD/val/ann/BloodImage_00072.json\n",
            "Warning: No annotation file found for BloodImage_00246.jpeg at /kaggle/input/disease-prediction-based-on-blood-test/Deep learning-cells/BCCD/val/ann/BloodImage_00246.json\n",
            "Warning: No annotation file found for BloodImage_00310.jpeg at /kaggle/input/disease-prediction-based-on-blood-test/Deep learning-cells/BCCD/val/ann/BloodImage_00310.json\n",
            "Warning: No annotation file found for BloodImage_00409.jpeg at /kaggle/input/disease-prediction-based-on-blood-test/Deep learning-cells/BCCD/val/ann/BloodImage_00409.json\n",
            "Warning: No annotation file found for BloodImage_00104.jpeg at /kaggle/input/disease-prediction-based-on-blood-test/Deep learning-cells/BCCD/val/ann/BloodImage_00104.json\n",
            "Warning: No annotation file found for BloodImage_00230.jpeg at /kaggle/input/disease-prediction-based-on-blood-test/Deep learning-cells/BCCD/val/ann/BloodImage_00230.json\n",
            "Warning: No annotation file found for BloodImage_00183.jpeg at /kaggle/input/disease-prediction-based-on-blood-test/Deep learning-cells/BCCD/val/ann/BloodImage_00183.json\n",
            "Warning: No annotation file found for BloodImage_00115.jpeg at /kaggle/input/disease-prediction-based-on-blood-test/Deep learning-cells/BCCD/val/ann/BloodImage_00115.json\n",
            "Warning: No annotation file found for BloodImage_00148.jpeg at /kaggle/input/disease-prediction-based-on-blood-test/Deep learning-cells/BCCD/val/ann/BloodImage_00148.json\n",
            "Warning: No annotation file found for BloodImage_00228.jpeg at /kaggle/input/disease-prediction-based-on-blood-test/Deep learning-cells/BCCD/val/ann/BloodImage_00228.json\n",
            "Warning: No annotation file found for BloodImage_00089.jpeg at /kaggle/input/disease-prediction-based-on-blood-test/Deep learning-cells/BCCD/val/ann/BloodImage_00089.json\n",
            "Warning: No annotation file found for BloodImage_00277.jpeg at /kaggle/input/disease-prediction-based-on-blood-test/Deep learning-cells/BCCD/val/ann/BloodImage_00277.json\n",
            "Warning: No annotation file found for BloodImage_00109.jpeg at /kaggle/input/disease-prediction-based-on-blood-test/Deep learning-cells/BCCD/val/ann/BloodImage_00109.json\n",
            "Warning: No annotation file found for BloodImage_00143.jpeg at /kaggle/input/disease-prediction-based-on-blood-test/Deep learning-cells/BCCD/val/ann/BloodImage_00143.json\n",
            "Warning: No annotation file found for BloodImage_00334.jpeg at /kaggle/input/disease-prediction-based-on-blood-test/Deep learning-cells/BCCD/val/ann/BloodImage_00334.json\n",
            "Warning: No annotation file found for BloodImage_00410.jpeg at /kaggle/input/disease-prediction-based-on-blood-test/Deep learning-cells/BCCD/val/ann/BloodImage_00410.json\n",
            "Warning: No annotation file found for BloodImage_00002.jpeg at /kaggle/input/disease-prediction-based-on-blood-test/Deep learning-cells/BCCD/val/ann/BloodImage_00002.json\n",
            "Warning: No annotation file found for BloodImage_00000.jpeg at /kaggle/input/disease-prediction-based-on-blood-test/Deep learning-cells/BCCD/val/ann/BloodImage_00000.json\n",
            "Warning: No annotation file found for BloodImage_00396.jpeg at /kaggle/input/disease-prediction-based-on-blood-test/Deep learning-cells/BCCD/val/ann/BloodImage_00396.json\n",
            "Warning: No annotation file found for BloodImage_00274.jpeg at /kaggle/input/disease-prediction-based-on-blood-test/Deep learning-cells/BCCD/val/ann/BloodImage_00274.json\n",
            "Warning: No annotation file found for BloodImage_00221.jpeg at /kaggle/input/disease-prediction-based-on-blood-test/Deep learning-cells/BCCD/val/ann/BloodImage_00221.json\n",
            "Warning: No annotation file found for BloodImage_00222.jpeg at /kaggle/input/disease-prediction-based-on-blood-test/Deep learning-cells/BCCD/val/ann/BloodImage_00222.json\n",
            "Warning: No annotation file found for BloodImage_00209.jpeg at /kaggle/input/disease-prediction-based-on-blood-test/Deep learning-cells/BCCD/val/ann/BloodImage_00209.json\n",
            "Converted 0 images for val set\n",
            "Converting test set...\n",
            "Warning: No annotation file found for BloodImage_00088.jpeg at /kaggle/input/disease-prediction-based-on-blood-test/Deep learning-cells/BCCD/test/ann/BloodImage_00088.json\n",
            "Warning: No annotation file found for BloodImage_00172.jpeg at /kaggle/input/disease-prediction-based-on-blood-test/Deep learning-cells/BCCD/test/ann/BloodImage_00172.json\n",
            "Warning: No annotation file found for BloodImage_00063.jpeg at /kaggle/input/disease-prediction-based-on-blood-test/Deep learning-cells/BCCD/test/ann/BloodImage_00063.json\n",
            "Warning: No annotation file found for BloodImage_00287.jpeg at /kaggle/input/disease-prediction-based-on-blood-test/Deep learning-cells/BCCD/test/ann/BloodImage_00287.json\n",
            "Warning: No annotation file found for BloodImage_00225.jpeg at /kaggle/input/disease-prediction-based-on-blood-test/Deep learning-cells/BCCD/test/ann/BloodImage_00225.json\n",
            "Warning: No annotation file found for BloodImage_00093.jpeg at /kaggle/input/disease-prediction-based-on-blood-test/Deep learning-cells/BCCD/test/ann/BloodImage_00093.json\n",
            "Warning: No annotation file found for BloodImage_00296.jpeg at /kaggle/input/disease-prediction-based-on-blood-test/Deep learning-cells/BCCD/test/ann/BloodImage_00296.json\n",
            "Warning: No annotation file found for BloodImage_00098.jpeg at /kaggle/input/disease-prediction-based-on-blood-test/Deep learning-cells/BCCD/test/ann/BloodImage_00098.json\n",
            "Warning: No annotation file found for BloodImage_00385.jpeg at /kaggle/input/disease-prediction-based-on-blood-test/Deep learning-cells/BCCD/test/ann/BloodImage_00385.json\n",
            "Warning: No annotation file found for BloodImage_00041.jpeg at /kaggle/input/disease-prediction-based-on-blood-test/Deep learning-cells/BCCD/test/ann/BloodImage_00041.json\n",
            "Warning: No annotation file found for BloodImage_00033.jpeg at /kaggle/input/disease-prediction-based-on-blood-test/Deep learning-cells/BCCD/test/ann/BloodImage_00033.json\n",
            "Warning: No annotation file found for BloodImage_00391.jpeg at /kaggle/input/disease-prediction-based-on-blood-test/Deep learning-cells/BCCD/test/ann/BloodImage_00391.json\n",
            "Warning: No annotation file found for BloodImage_00157.jpeg at /kaggle/input/disease-prediction-based-on-blood-test/Deep learning-cells/BCCD/test/ann/BloodImage_00157.json\n",
            "Warning: No annotation file found for BloodImage_00137.jpeg at /kaggle/input/disease-prediction-based-on-blood-test/Deep learning-cells/BCCD/test/ann/BloodImage_00137.json\n",
            "Warning: No annotation file found for BloodImage_00233.jpeg at /kaggle/input/disease-prediction-based-on-blood-test/Deep learning-cells/BCCD/test/ann/BloodImage_00233.json\n",
            "Warning: No annotation file found for BloodImage_00290.jpeg at /kaggle/input/disease-prediction-based-on-blood-test/Deep learning-cells/BCCD/test/ann/BloodImage_00290.json\n",
            "Warning: No annotation file found for BloodImage_00149.jpeg at /kaggle/input/disease-prediction-based-on-blood-test/Deep learning-cells/BCCD/test/ann/BloodImage_00149.json\n",
            "Warning: No annotation file found for BloodImage_00346.jpeg at /kaggle/input/disease-prediction-based-on-blood-test/Deep learning-cells/BCCD/test/ann/BloodImage_00346.json\n",
            "Warning: No annotation file found for BloodImage_00229.jpeg at /kaggle/input/disease-prediction-based-on-blood-test/Deep learning-cells/BCCD/test/ann/BloodImage_00229.json\n",
            "Warning: No annotation file found for BloodImage_00323.jpeg at /kaggle/input/disease-prediction-based-on-blood-test/Deep learning-cells/BCCD/test/ann/BloodImage_00323.json\n",
            "Warning: No annotation file found for BloodImage_00320.jpeg at /kaggle/input/disease-prediction-based-on-blood-test/Deep learning-cells/BCCD/test/ann/BloodImage_00320.json\n",
            "Warning: No annotation file found for BloodImage_00227.jpeg at /kaggle/input/disease-prediction-based-on-blood-test/Deep learning-cells/BCCD/test/ann/BloodImage_00227.json\n",
            "Warning: No annotation file found for BloodImage_00293.jpeg at /kaggle/input/disease-prediction-based-on-blood-test/Deep learning-cells/BCCD/test/ann/BloodImage_00293.json\n",
            "Warning: No annotation file found for BloodImage_00366.jpeg at /kaggle/input/disease-prediction-based-on-blood-test/Deep learning-cells/BCCD/test/ann/BloodImage_00366.json\n",
            "Warning: No annotation file found for BloodImage_00015.jpeg at /kaggle/input/disease-prediction-based-on-blood-test/Deep learning-cells/BCCD/test/ann/BloodImage_00015.json\n",
            "Warning: No annotation file found for BloodImage_00019.jpeg at /kaggle/input/disease-prediction-based-on-blood-test/Deep learning-cells/BCCD/test/ann/BloodImage_00019.json\n",
            "Warning: No annotation file found for BloodImage_00341.jpeg at /kaggle/input/disease-prediction-based-on-blood-test/Deep learning-cells/BCCD/test/ann/BloodImage_00341.json\n",
            "Warning: No annotation file found for BloodImage_00205.jpeg at /kaggle/input/disease-prediction-based-on-blood-test/Deep learning-cells/BCCD/test/ann/BloodImage_00205.json\n",
            "Warning: No annotation file found for BloodImage_00167.jpeg at /kaggle/input/disease-prediction-based-on-blood-test/Deep learning-cells/BCCD/test/ann/BloodImage_00167.json\n",
            "Warning: No annotation file found for BloodImage_00282.jpeg at /kaggle/input/disease-prediction-based-on-blood-test/Deep learning-cells/BCCD/test/ann/BloodImage_00282.json\n",
            "Warning: No annotation file found for BloodImage_00249.jpeg at /kaggle/input/disease-prediction-based-on-blood-test/Deep learning-cells/BCCD/test/ann/BloodImage_00249.json\n",
            "Warning: No annotation file found for BloodImage_00180.jpeg at /kaggle/input/disease-prediction-based-on-blood-test/Deep learning-cells/BCCD/test/ann/BloodImage_00180.json\n",
            "Warning: No annotation file found for BloodImage_00365.jpeg at /kaggle/input/disease-prediction-based-on-blood-test/Deep learning-cells/BCCD/test/ann/BloodImage_00365.json\n",
            "Warning: No annotation file found for BloodImage_00057.jpeg at /kaggle/input/disease-prediction-based-on-blood-test/Deep learning-cells/BCCD/test/ann/BloodImage_00057.json\n",
            "Warning: No annotation file found for BloodImage_00065.jpeg at /kaggle/input/disease-prediction-based-on-blood-test/Deep learning-cells/BCCD/test/ann/BloodImage_00065.json\n",
            "Warning: No annotation file found for BloodImage_00058.jpeg at /kaggle/input/disease-prediction-based-on-blood-test/Deep learning-cells/BCCD/test/ann/BloodImage_00058.json\n",
            "Warning: No annotation file found for BloodImage_00135.jpeg at /kaggle/input/disease-prediction-based-on-blood-test/Deep learning-cells/BCCD/test/ann/BloodImage_00135.json\n",
            "Warning: No annotation file found for BloodImage_00077.jpeg at /kaggle/input/disease-prediction-based-on-blood-test/Deep learning-cells/BCCD/test/ann/BloodImage_00077.json\n",
            "Warning: No annotation file found for BloodImage_00360.jpeg at /kaggle/input/disease-prediction-based-on-blood-test/Deep learning-cells/BCCD/test/ann/BloodImage_00360.json\n",
            "Warning: No annotation file found for BloodImage_00169.jpeg at /kaggle/input/disease-prediction-based-on-blood-test/Deep learning-cells/BCCD/test/ann/BloodImage_00169.json\n",
            "Warning: No annotation file found for BloodImage_00407.jpeg at /kaggle/input/disease-prediction-based-on-blood-test/Deep learning-cells/BCCD/test/ann/BloodImage_00407.json\n",
            "Warning: No annotation file found for BloodImage_00327.jpeg at /kaggle/input/disease-prediction-based-on-blood-test/Deep learning-cells/BCCD/test/ann/BloodImage_00327.json\n",
            "Warning: No annotation file found for BloodImage_00319.jpeg at /kaggle/input/disease-prediction-based-on-blood-test/Deep learning-cells/BCCD/test/ann/BloodImage_00319.json\n",
            "Warning: No annotation file found for BloodImage_00007.jpeg at /kaggle/input/disease-prediction-based-on-blood-test/Deep learning-cells/BCCD/test/ann/BloodImage_00007.json\n",
            "Warning: No annotation file found for BloodImage_00018.jpeg at /kaggle/input/disease-prediction-based-on-blood-test/Deep learning-cells/BCCD/test/ann/BloodImage_00018.json\n",
            "Warning: No annotation file found for BloodImage_00075.jpeg at /kaggle/input/disease-prediction-based-on-blood-test/Deep learning-cells/BCCD/test/ann/BloodImage_00075.json\n",
            "Warning: No annotation file found for BloodImage_00021.jpeg at /kaggle/input/disease-prediction-based-on-blood-test/Deep learning-cells/BCCD/test/ann/BloodImage_00021.json\n",
            "Warning: No annotation file found for BloodImage_00184.jpeg at /kaggle/input/disease-prediction-based-on-blood-test/Deep learning-cells/BCCD/test/ann/BloodImage_00184.json\n",
            "Warning: No annotation file found for BloodImage_00226.jpeg at /kaggle/input/disease-prediction-based-on-blood-test/Deep learning-cells/BCCD/test/ann/BloodImage_00226.json\n",
            "Warning: No annotation file found for BloodImage_00171.jpeg at /kaggle/input/disease-prediction-based-on-blood-test/Deep learning-cells/BCCD/test/ann/BloodImage_00171.json\n",
            "Warning: No annotation file found for BloodImage_00016.jpeg at /kaggle/input/disease-prediction-based-on-blood-test/Deep learning-cells/BCCD/test/ann/BloodImage_00016.json\n",
            "Warning: No annotation file found for BloodImage_00074.jpeg at /kaggle/input/disease-prediction-based-on-blood-test/Deep learning-cells/BCCD/test/ann/BloodImage_00074.json\n",
            "Warning: No annotation file found for BloodImage_00132.jpeg at /kaggle/input/disease-prediction-based-on-blood-test/Deep learning-cells/BCCD/test/ann/BloodImage_00132.json\n",
            "Warning: No annotation file found for BloodImage_00103.jpeg at /kaggle/input/disease-prediction-based-on-blood-test/Deep learning-cells/BCCD/test/ann/BloodImage_00103.json\n",
            "Warning: No annotation file found for BloodImage_00011.jpeg at /kaggle/input/disease-prediction-based-on-blood-test/Deep learning-cells/BCCD/test/ann/BloodImage_00011.json\n",
            "Warning: No annotation file found for BloodImage_00390.jpeg at /kaggle/input/disease-prediction-based-on-blood-test/Deep learning-cells/BCCD/test/ann/BloodImage_00390.json\n",
            "Warning: No annotation file found for BloodImage_00067.jpeg at /kaggle/input/disease-prediction-based-on-blood-test/Deep learning-cells/BCCD/test/ann/BloodImage_00067.json\n",
            "Warning: No annotation file found for BloodImage_00068.jpeg at /kaggle/input/disease-prediction-based-on-blood-test/Deep learning-cells/BCCD/test/ann/BloodImage_00068.json\n",
            "Warning: No annotation file found for BloodImage_00234.jpeg at /kaggle/input/disease-prediction-based-on-blood-test/Deep learning-cells/BCCD/test/ann/BloodImage_00234.json\n",
            "Warning: No annotation file found for BloodImage_00303.jpeg at /kaggle/input/disease-prediction-based-on-blood-test/Deep learning-cells/BCCD/test/ann/BloodImage_00303.json\n",
            "Warning: No annotation file found for BloodImage_00333.jpeg at /kaggle/input/disease-prediction-based-on-blood-test/Deep learning-cells/BCCD/test/ann/BloodImage_00333.json\n",
            "Warning: No annotation file found for BloodImage_00161.jpeg at /kaggle/input/disease-prediction-based-on-blood-test/Deep learning-cells/BCCD/test/ann/BloodImage_00161.json\n",
            "Warning: No annotation file found for BloodImage_00178.jpeg at /kaggle/input/disease-prediction-based-on-blood-test/Deep learning-cells/BCCD/test/ann/BloodImage_00178.json\n",
            "Warning: No annotation file found for BloodImage_00208.jpeg at /kaggle/input/disease-prediction-based-on-blood-test/Deep learning-cells/BCCD/test/ann/BloodImage_00208.json\n",
            "Warning: No annotation file found for BloodImage_00375.jpeg at /kaggle/input/disease-prediction-based-on-blood-test/Deep learning-cells/BCCD/test/ann/BloodImage_00375.json\n",
            "Warning: No annotation file found for BloodImage_00136.jpeg at /kaggle/input/disease-prediction-based-on-blood-test/Deep learning-cells/BCCD/test/ann/BloodImage_00136.json\n",
            "Warning: No annotation file found for BloodImage_00031.jpeg at /kaggle/input/disease-prediction-based-on-blood-test/Deep learning-cells/BCCD/test/ann/BloodImage_00031.json\n",
            "Warning: No annotation file found for BloodImage_00253.jpeg at /kaggle/input/disease-prediction-based-on-blood-test/Deep learning-cells/BCCD/test/ann/BloodImage_00253.json\n",
            "Warning: No annotation file found for BloodImage_00271.jpeg at /kaggle/input/disease-prediction-based-on-blood-test/Deep learning-cells/BCCD/test/ann/BloodImage_00271.json\n",
            "Warning: No annotation file found for BloodImage_00284.jpeg at /kaggle/input/disease-prediction-based-on-blood-test/Deep learning-cells/BCCD/test/ann/BloodImage_00284.json\n",
            "Warning: No annotation file found for BloodImage_00220.jpeg at /kaggle/input/disease-prediction-based-on-blood-test/Deep learning-cells/BCCD/test/ann/BloodImage_00220.json\n",
            "Warning: No annotation file found for BloodImage_00062.jpeg at /kaggle/input/disease-prediction-based-on-blood-test/Deep learning-cells/BCCD/test/ann/BloodImage_00062.json\n",
            "Converted 0 images for test set\n",
            "\n",
            "Conversion complete!\n",
            "Train: 0 images\n",
            "Val: 0 images\n",
            "Test: 0 images\n",
            "\n",
            "📝 Step 2: Creating YOLO config...\n",
            "Config file created: /content/BCCD_YOLO/rbc_config.yaml\n",
            "\n",
            "🎯 Step 3: Starting YOLO training...\n",
            "This will take 15-30 minutes depending on your data size...\n",
            "Starting training with YOLOv8s...\n",
            "Ultralytics 8.3.170 🚀 Python-3.11.13 torch-2.6.0+cu124 CUDA:0 (Tesla T4, 15095MiB)\n",
            "\u001b[34m\u001b[1mengine/trainer: \u001b[0magnostic_nms=False, amp=True, augment=False, auto_augment=randaugment, batch=4, bgr=0.0, box=7.5, cache=False, cfg=None, classes=None, close_mosaic=10, cls=0.5, conf=None, copy_paste=0.0, copy_paste_mode=flip, cos_lr=False, cutmix=0.0, data=/content/BCCD_YOLO/rbc_config.yaml, degrees=0.0, deterministic=True, device=0, dfl=1.5, dnn=False, dropout=0.0, dynamic=False, embed=None, epochs=50, erasing=0.4, exist_ok=False, fliplr=0.5, flipud=0.0, format=torchscript, fraction=1.0, freeze=None, half=False, hsv_h=0.015, hsv_s=0.7, hsv_v=0.4, imgsz=640, int8=False, iou=0.7, keras=False, kobj=1.0, line_width=None, lr0=0.01, lrf=0.01, mask_ratio=4, max_det=300, mixup=0.0, mode=train, model=yolov8s.pt, momentum=0.937, mosaic=1.0, multi_scale=False, name=yolov8_rbc3, nbs=64, nms=False, opset=None, optimize=False, optimizer=auto, overlap_mask=True, patience=15, perspective=0.0, plots=True, pose=12.0, pretrained=True, profile=False, project=/content/rbc_detection, rect=False, resume=False, retina_masks=False, save=True, save_conf=False, save_crop=False, save_dir=/content/rbc_detection/yolov8_rbc3, save_frames=False, save_json=False, save_period=-1, save_txt=False, scale=0.5, seed=0, shear=0.0, show=False, show_boxes=True, show_conf=True, show_labels=True, simplify=True, single_cls=False, source=None, split=val, stream_buffer=False, task=detect, time=None, tracker=botsort.yaml, translate=0.1, val=True, verbose=True, vid_stride=1, visualize=False, warmup_bias_lr=0.1, warmup_epochs=3.0, warmup_momentum=0.8, weight_decay=0.0005, workers=8, workspace=None\n",
            "Overriding model.yaml nc=80 with nc=1\n",
            "\n",
            "                   from  n    params  module                                       arguments                     \n",
            "  0                  -1  1       928  ultralytics.nn.modules.conv.Conv             [3, 32, 3, 2]                 \n",
            "  1                  -1  1     18560  ultralytics.nn.modules.conv.Conv             [32, 64, 3, 2]                \n",
            "  2                  -1  1     29056  ultralytics.nn.modules.block.C2f             [64, 64, 1, True]             \n",
            "  3                  -1  1     73984  ultralytics.nn.modules.conv.Conv             [64, 128, 3, 2]               \n",
            "  4                  -1  2    197632  ultralytics.nn.modules.block.C2f             [128, 128, 2, True]           \n",
            "  5                  -1  1    295424  ultralytics.nn.modules.conv.Conv             [128, 256, 3, 2]              \n",
            "  6                  -1  2    788480  ultralytics.nn.modules.block.C2f             [256, 256, 2, True]           \n",
            "  7                  -1  1   1180672  ultralytics.nn.modules.conv.Conv             [256, 512, 3, 2]              \n",
            "  8                  -1  1   1838080  ultralytics.nn.modules.block.C2f             [512, 512, 1, True]           \n",
            "  9                  -1  1    656896  ultralytics.nn.modules.block.SPPF            [512, 512, 5]                 \n",
            " 10                  -1  1         0  torch.nn.modules.upsampling.Upsample         [None, 2, 'nearest']          \n",
            " 11             [-1, 6]  1         0  ultralytics.nn.modules.conv.Concat           [1]                           \n",
            " 12                  -1  1    591360  ultralytics.nn.modules.block.C2f             [768, 256, 1]                 \n",
            " 13                  -1  1         0  torch.nn.modules.upsampling.Upsample         [None, 2, 'nearest']          \n",
            " 14             [-1, 4]  1         0  ultralytics.nn.modules.conv.Concat           [1]                           \n",
            " 15                  -1  1    148224  ultralytics.nn.modules.block.C2f             [384, 128, 1]                 \n",
            " 16                  -1  1    147712  ultralytics.nn.modules.conv.Conv             [128, 128, 3, 2]              \n",
            " 17            [-1, 12]  1         0  ultralytics.nn.modules.conv.Concat           [1]                           \n",
            " 18                  -1  1    493056  ultralytics.nn.modules.block.C2f             [384, 256, 1]                 \n",
            " 19                  -1  1    590336  ultralytics.nn.modules.conv.Conv             [256, 256, 3, 2]              \n",
            " 20             [-1, 9]  1         0  ultralytics.nn.modules.conv.Concat           [1]                           \n",
            " 21                  -1  1   1969152  ultralytics.nn.modules.block.C2f             [768, 512, 1]                 \n",
            " 22        [15, 18, 21]  1   2116435  ultralytics.nn.modules.head.Detect           [1, [128, 256, 512]]          \n",
            "Model summary: 129 layers, 11,135,987 parameters, 11,135,971 gradients, 28.6 GFLOPs\n",
            "\n",
            "Transferred 349/355 items from pretrained weights\n",
            "Freezing layer 'model.22.dfl.conv.weight'\n",
            "\u001b[34m\u001b[1mAMP: \u001b[0mrunning Automatic Mixed Precision (AMP) checks...\n",
            "\u001b[34m\u001b[1mAMP: \u001b[0mchecks passed ✅\n"
          ]
        },
        {
          "output_type": "error",
          "ename": "FileNotFoundError",
          "evalue": "\u001b[34m\u001b[1mtrain: \u001b[0mError loading data from /content/BCCD_YOLO/images/train\nSee https://docs.ultralytics.com/datasets for dataset formatting guidance.",
          "traceback": [
            "\u001b[0;31m---------------------------------------------------------------------------\u001b[0m",
            "\u001b[0;31mAssertionError\u001b[0m                            Traceback (most recent call last)",
            "\u001b[0;32m/usr/local/lib/python3.11/dist-packages/ultralytics/data/base.py\u001b[0m in \u001b[0;36mget_img_files\u001b[0;34m(self, img_path)\u001b[0m\n\u001b[1;32m    177\u001b[0m             \u001b[0;31m# self.img_files = sorted([x for x in f if x.suffix[1:].lower() in IMG_FORMATS])  # pathlib\u001b[0m\u001b[0;34m\u001b[0m\u001b[0;34m\u001b[0m\u001b[0m\n\u001b[0;32m--> 178\u001b[0;31m             \u001b[0;32massert\u001b[0m \u001b[0mim_files\u001b[0m\u001b[0;34m,\u001b[0m \u001b[0;34mf\"{self.prefix}No images found in {img_path}. {FORMATS_HELP_MSG}\"\u001b[0m\u001b[0;34m\u001b[0m\u001b[0;34m\u001b[0m\u001b[0m\n\u001b[0m\u001b[1;32m    179\u001b[0m         \u001b[0;32mexcept\u001b[0m \u001b[0mException\u001b[0m \u001b[0;32mas\u001b[0m \u001b[0me\u001b[0m\u001b[0;34m:\u001b[0m\u001b[0;34m\u001b[0m\u001b[0;34m\u001b[0m\u001b[0m\n",
            "\u001b[0;31mAssertionError\u001b[0m: \u001b[34m\u001b[1mtrain: \u001b[0mNo images found in /content/BCCD_YOLO/images/train. Supported formats are:\nimages: {'png', 'dng', 'jpeg', 'mpo', 'tif', 'bmp', 'pfm', 'jpg', 'heic', 'tiff', 'webp'}\nvideos: {'mov', 'asf', 'm4v', 'avi', 'mp4', 'mpg', 'wmv', 'mkv', 'mpeg', 'webm', 'gif', 'ts'}",
            "\nThe above exception was the direct cause of the following exception:\n",
            "\u001b[0;31mFileNotFoundError\u001b[0m                         Traceback (most recent call last)",
            "\u001b[0;32m/tmp/ipython-input-21-1314986608.py\u001b[0m in \u001b[0;36m<cell line: 0>\u001b[0;34m()\u001b[0m\n\u001b[1;32m     29\u001b[0m     \u001b[0mprint\u001b[0m\u001b[0;34m(\u001b[0m\u001b[0;34m\"\\n🎯 Step 3: Starting YOLO training...\"\u001b[0m\u001b[0;34m)\u001b[0m\u001b[0;34m\u001b[0m\u001b[0;34m\u001b[0m\u001b[0m\n\u001b[1;32m     30\u001b[0m     \u001b[0mprint\u001b[0m\u001b[0;34m(\u001b[0m\u001b[0;34m\"This will take 15-30 minutes depending on your data size...\"\u001b[0m\u001b[0;34m)\u001b[0m\u001b[0;34m\u001b[0m\u001b[0;34m\u001b[0m\u001b[0m\n\u001b[0;32m---> 31\u001b[0;31m     \u001b[0mmodel\u001b[0m\u001b[0;34m,\u001b[0m \u001b[0mtraining_results\u001b[0m \u001b[0;34m=\u001b[0m \u001b[0mtrain_yolo_rbc\u001b[0m\u001b[0;34m(\u001b[0m\u001b[0mconfig_path\u001b[0m\u001b[0;34m,\u001b[0m \u001b[0mmodel_size\u001b[0m\u001b[0;34m=\u001b[0m\u001b[0;34m's'\u001b[0m\u001b[0;34m)\u001b[0m\u001b[0;34m\u001b[0m\u001b[0;34m\u001b[0m\u001b[0m\n\u001b[0m\u001b[1;32m     32\u001b[0m \u001b[0;34m\u001b[0m\u001b[0m\n\u001b[1;32m     33\u001b[0m     \u001b[0mprint\u001b[0m\u001b[0;34m(\u001b[0m\u001b[0;34m\"\\n📊 Step 4: Evaluating on test set...\"\u001b[0m\u001b[0;34m)\u001b[0m\u001b[0;34m\u001b[0m\u001b[0;34m\u001b[0m\u001b[0m\n",
            "\u001b[0;32m/tmp/ipython-input-18-983097243.py\u001b[0m in \u001b[0;36mtrain_yolo_rbc\u001b[0;34m(config_path, model_size)\u001b[0m\n\u001b[1;32m     27\u001b[0m \u001b[0;34m\u001b[0m\u001b[0m\n\u001b[1;32m     28\u001b[0m     \u001b[0;31m# Train the model - COLAB OPTIMIZED SETTINGS\u001b[0m\u001b[0;34m\u001b[0m\u001b[0;34m\u001b[0m\u001b[0m\n\u001b[0;32m---> 29\u001b[0;31m     results = model.train(\n\u001b[0m\u001b[1;32m     30\u001b[0m         \u001b[0mdata\u001b[0m\u001b[0;34m=\u001b[0m\u001b[0mconfig_path\u001b[0m\u001b[0;34m,\u001b[0m\u001b[0;34m\u001b[0m\u001b[0;34m\u001b[0m\u001b[0m\n\u001b[1;32m     31\u001b[0m         \u001b[0mepochs\u001b[0m\u001b[0;34m=\u001b[0m\u001b[0;36m50\u001b[0m\u001b[0;34m,\u001b[0m  \u001b[0;31m# Reduced for Colab time limits\u001b[0m\u001b[0;34m\u001b[0m\u001b[0;34m\u001b[0m\u001b[0m\n",
            "\u001b[0;32m/usr/local/lib/python3.11/dist-packages/ultralytics/engine/model.py\u001b[0m in \u001b[0;36mtrain\u001b[0;34m(self, trainer, **kwargs)\u001b[0m\n\u001b[1;32m    797\u001b[0m \u001b[0;34m\u001b[0m\u001b[0m\n\u001b[1;32m    798\u001b[0m         \u001b[0mself\u001b[0m\u001b[0;34m.\u001b[0m\u001b[0mtrainer\u001b[0m\u001b[0;34m.\u001b[0m\u001b[0mhub_session\u001b[0m \u001b[0;34m=\u001b[0m \u001b[0mself\u001b[0m\u001b[0;34m.\u001b[0m\u001b[0msession\u001b[0m  \u001b[0;31m# attach optional HUB session\u001b[0m\u001b[0;34m\u001b[0m\u001b[0;34m\u001b[0m\u001b[0m\n\u001b[0;32m--> 799\u001b[0;31m         \u001b[0mself\u001b[0m\u001b[0;34m.\u001b[0m\u001b[0mtrainer\u001b[0m\u001b[0;34m.\u001b[0m\u001b[0mtrain\u001b[0m\u001b[0;34m(\u001b[0m\u001b[0;34m)\u001b[0m\u001b[0;34m\u001b[0m\u001b[0;34m\u001b[0m\u001b[0m\n\u001b[0m\u001b[1;32m    800\u001b[0m         \u001b[0;31m# Update model and cfg after training\u001b[0m\u001b[0;34m\u001b[0m\u001b[0;34m\u001b[0m\u001b[0m\n\u001b[1;32m    801\u001b[0m         \u001b[0;32mif\u001b[0m \u001b[0mRANK\u001b[0m \u001b[0;32min\u001b[0m \u001b[0;34m{\u001b[0m\u001b[0;34m-\u001b[0m\u001b[0;36m1\u001b[0m\u001b[0;34m,\u001b[0m \u001b[0;36m0\u001b[0m\u001b[0;34m}\u001b[0m\u001b[0;34m:\u001b[0m\u001b[0;34m\u001b[0m\u001b[0;34m\u001b[0m\u001b[0m\n",
            "\u001b[0;32m/usr/local/lib/python3.11/dist-packages/ultralytics/engine/trainer.py\u001b[0m in \u001b[0;36mtrain\u001b[0;34m(self)\u001b[0m\n\u001b[1;32m    225\u001b[0m \u001b[0;34m\u001b[0m\u001b[0m\n\u001b[1;32m    226\u001b[0m         \u001b[0;32melse\u001b[0m\u001b[0;34m:\u001b[0m\u001b[0;34m\u001b[0m\u001b[0;34m\u001b[0m\u001b[0m\n\u001b[0;32m--> 227\u001b[0;31m             \u001b[0mself\u001b[0m\u001b[0;34m.\u001b[0m\u001b[0m_do_train\u001b[0m\u001b[0;34m(\u001b[0m\u001b[0mworld_size\u001b[0m\u001b[0;34m)\u001b[0m\u001b[0;34m\u001b[0m\u001b[0;34m\u001b[0m\u001b[0m\n\u001b[0m\u001b[1;32m    228\u001b[0m \u001b[0;34m\u001b[0m\u001b[0m\n\u001b[1;32m    229\u001b[0m     \u001b[0;32mdef\u001b[0m \u001b[0m_setup_scheduler\u001b[0m\u001b[0;34m(\u001b[0m\u001b[0mself\u001b[0m\u001b[0;34m)\u001b[0m\u001b[0;34m:\u001b[0m\u001b[0;34m\u001b[0m\u001b[0;34m\u001b[0m\u001b[0m\n",
            "\u001b[0;32m/usr/local/lib/python3.11/dist-packages/ultralytics/engine/trainer.py\u001b[0m in \u001b[0;36m_do_train\u001b[0;34m(self, world_size)\u001b[0m\n\u001b[1;32m    346\u001b[0m         \u001b[0;32mif\u001b[0m \u001b[0mworld_size\u001b[0m \u001b[0;34m>\u001b[0m \u001b[0;36m1\u001b[0m\u001b[0;34m:\u001b[0m\u001b[0;34m\u001b[0m\u001b[0;34m\u001b[0m\u001b[0m\n\u001b[1;32m    347\u001b[0m             \u001b[0mself\u001b[0m\u001b[0;34m.\u001b[0m\u001b[0m_setup_ddp\u001b[0m\u001b[0;34m(\u001b[0m\u001b[0mworld_size\u001b[0m\u001b[0;34m)\u001b[0m\u001b[0;34m\u001b[0m\u001b[0;34m\u001b[0m\u001b[0m\n\u001b[0;32m--> 348\u001b[0;31m         \u001b[0mself\u001b[0m\u001b[0;34m.\u001b[0m\u001b[0m_setup_train\u001b[0m\u001b[0;34m(\u001b[0m\u001b[0mworld_size\u001b[0m\u001b[0;34m)\u001b[0m\u001b[0;34m\u001b[0m\u001b[0;34m\u001b[0m\u001b[0m\n\u001b[0m\u001b[1;32m    349\u001b[0m \u001b[0;34m\u001b[0m\u001b[0m\n\u001b[1;32m    350\u001b[0m         \u001b[0mnb\u001b[0m \u001b[0;34m=\u001b[0m \u001b[0mlen\u001b[0m\u001b[0;34m(\u001b[0m\u001b[0mself\u001b[0m\u001b[0;34m.\u001b[0m\u001b[0mtrain_loader\u001b[0m\u001b[0;34m)\u001b[0m  \u001b[0;31m# number of batches\u001b[0m\u001b[0;34m\u001b[0m\u001b[0;34m\u001b[0m\u001b[0m\n",
            "\u001b[0;32m/usr/local/lib/python3.11/dist-packages/ultralytics/engine/trainer.py\u001b[0m in \u001b[0;36m_setup_train\u001b[0;34m(self, world_size)\u001b[0m\n\u001b[1;32m    305\u001b[0m         \u001b[0;31m# Dataloaders\u001b[0m\u001b[0;34m\u001b[0m\u001b[0;34m\u001b[0m\u001b[0m\n\u001b[1;32m    306\u001b[0m         \u001b[0mbatch_size\u001b[0m \u001b[0;34m=\u001b[0m \u001b[0mself\u001b[0m\u001b[0;34m.\u001b[0m\u001b[0mbatch_size\u001b[0m \u001b[0;34m//\u001b[0m \u001b[0mmax\u001b[0m\u001b[0;34m(\u001b[0m\u001b[0mworld_size\u001b[0m\u001b[0;34m,\u001b[0m \u001b[0;36m1\u001b[0m\u001b[0;34m)\u001b[0m\u001b[0;34m\u001b[0m\u001b[0;34m\u001b[0m\u001b[0m\n\u001b[0;32m--> 307\u001b[0;31m         self.train_loader = self.get_dataloader(\n\u001b[0m\u001b[1;32m    308\u001b[0m             \u001b[0mself\u001b[0m\u001b[0;34m.\u001b[0m\u001b[0mdata\u001b[0m\u001b[0;34m[\u001b[0m\u001b[0;34m\"train\"\u001b[0m\u001b[0;34m]\u001b[0m\u001b[0;34m,\u001b[0m \u001b[0mbatch_size\u001b[0m\u001b[0;34m=\u001b[0m\u001b[0mbatch_size\u001b[0m\u001b[0;34m,\u001b[0m \u001b[0mrank\u001b[0m\u001b[0;34m=\u001b[0m\u001b[0mLOCAL_RANK\u001b[0m\u001b[0;34m,\u001b[0m \u001b[0mmode\u001b[0m\u001b[0;34m=\u001b[0m\u001b[0;34m\"train\"\u001b[0m\u001b[0;34m\u001b[0m\u001b[0;34m\u001b[0m\u001b[0m\n\u001b[1;32m    309\u001b[0m         )\n",
            "\u001b[0;32m/usr/local/lib/python3.11/dist-packages/ultralytics/models/yolo/detect/train.py\u001b[0m in \u001b[0;36mget_dataloader\u001b[0;34m(self, dataset_path, batch_size, rank, mode)\u001b[0m\n\u001b[1;32m     82\u001b[0m         \u001b[0;32massert\u001b[0m \u001b[0mmode\u001b[0m \u001b[0;32min\u001b[0m \u001b[0;34m{\u001b[0m\u001b[0;34m\"train\"\u001b[0m\u001b[0;34m,\u001b[0m \u001b[0;34m\"val\"\u001b[0m\u001b[0;34m}\u001b[0m\u001b[0;34m,\u001b[0m \u001b[0;34mf\"Mode must be 'train' or 'val', not {mode}.\"\u001b[0m\u001b[0;34m\u001b[0m\u001b[0;34m\u001b[0m\u001b[0m\n\u001b[1;32m     83\u001b[0m         \u001b[0;32mwith\u001b[0m \u001b[0mtorch_distributed_zero_first\u001b[0m\u001b[0;34m(\u001b[0m\u001b[0mrank\u001b[0m\u001b[0;34m)\u001b[0m\u001b[0;34m:\u001b[0m  \u001b[0;31m# init dataset *.cache only once if DDP\u001b[0m\u001b[0;34m\u001b[0m\u001b[0;34m\u001b[0m\u001b[0m\n\u001b[0;32m---> 84\u001b[0;31m             \u001b[0mdataset\u001b[0m \u001b[0;34m=\u001b[0m \u001b[0mself\u001b[0m\u001b[0;34m.\u001b[0m\u001b[0mbuild_dataset\u001b[0m\u001b[0;34m(\u001b[0m\u001b[0mdataset_path\u001b[0m\u001b[0;34m,\u001b[0m \u001b[0mmode\u001b[0m\u001b[0;34m,\u001b[0m \u001b[0mbatch_size\u001b[0m\u001b[0;34m)\u001b[0m\u001b[0;34m\u001b[0m\u001b[0;34m\u001b[0m\u001b[0m\n\u001b[0m\u001b[1;32m     85\u001b[0m         \u001b[0mshuffle\u001b[0m \u001b[0;34m=\u001b[0m \u001b[0mmode\u001b[0m \u001b[0;34m==\u001b[0m \u001b[0;34m\"train\"\u001b[0m\u001b[0;34m\u001b[0m\u001b[0;34m\u001b[0m\u001b[0m\n\u001b[1;32m     86\u001b[0m         \u001b[0;32mif\u001b[0m \u001b[0mgetattr\u001b[0m\u001b[0;34m(\u001b[0m\u001b[0mdataset\u001b[0m\u001b[0;34m,\u001b[0m \u001b[0;34m\"rect\"\u001b[0m\u001b[0;34m,\u001b[0m \u001b[0;32mFalse\u001b[0m\u001b[0;34m)\u001b[0m \u001b[0;32mand\u001b[0m \u001b[0mshuffle\u001b[0m\u001b[0;34m:\u001b[0m\u001b[0;34m\u001b[0m\u001b[0;34m\u001b[0m\u001b[0m\n",
            "\u001b[0;32m/usr/local/lib/python3.11/dist-packages/ultralytics/models/yolo/detect/train.py\u001b[0m in \u001b[0;36mbuild_dataset\u001b[0;34m(self, img_path, mode, batch)\u001b[0m\n\u001b[1;32m     65\u001b[0m         \"\"\"\n\u001b[1;32m     66\u001b[0m         \u001b[0mgs\u001b[0m \u001b[0;34m=\u001b[0m \u001b[0mmax\u001b[0m\u001b[0;34m(\u001b[0m\u001b[0mint\u001b[0m\u001b[0;34m(\u001b[0m\u001b[0mde_parallel\u001b[0m\u001b[0;34m(\u001b[0m\u001b[0mself\u001b[0m\u001b[0;34m.\u001b[0m\u001b[0mmodel\u001b[0m\u001b[0;34m)\u001b[0m\u001b[0;34m.\u001b[0m\u001b[0mstride\u001b[0m\u001b[0;34m.\u001b[0m\u001b[0mmax\u001b[0m\u001b[0;34m(\u001b[0m\u001b[0;34m)\u001b[0m \u001b[0;32mif\u001b[0m \u001b[0mself\u001b[0m\u001b[0;34m.\u001b[0m\u001b[0mmodel\u001b[0m \u001b[0;32melse\u001b[0m \u001b[0;36m0\u001b[0m\u001b[0;34m)\u001b[0m\u001b[0;34m,\u001b[0m \u001b[0;36m32\u001b[0m\u001b[0;34m)\u001b[0m\u001b[0;34m\u001b[0m\u001b[0;34m\u001b[0m\u001b[0m\n\u001b[0;32m---> 67\u001b[0;31m         \u001b[0;32mreturn\u001b[0m \u001b[0mbuild_yolo_dataset\u001b[0m\u001b[0;34m(\u001b[0m\u001b[0mself\u001b[0m\u001b[0;34m.\u001b[0m\u001b[0margs\u001b[0m\u001b[0;34m,\u001b[0m \u001b[0mimg_path\u001b[0m\u001b[0;34m,\u001b[0m \u001b[0mbatch\u001b[0m\u001b[0;34m,\u001b[0m \u001b[0mself\u001b[0m\u001b[0;34m.\u001b[0m\u001b[0mdata\u001b[0m\u001b[0;34m,\u001b[0m \u001b[0mmode\u001b[0m\u001b[0;34m=\u001b[0m\u001b[0mmode\u001b[0m\u001b[0;34m,\u001b[0m \u001b[0mrect\u001b[0m\u001b[0;34m=\u001b[0m\u001b[0mmode\u001b[0m \u001b[0;34m==\u001b[0m \u001b[0;34m\"val\"\u001b[0m\u001b[0;34m,\u001b[0m \u001b[0mstride\u001b[0m\u001b[0;34m=\u001b[0m\u001b[0mgs\u001b[0m\u001b[0;34m)\u001b[0m\u001b[0;34m\u001b[0m\u001b[0;34m\u001b[0m\u001b[0m\n\u001b[0m\u001b[1;32m     68\u001b[0m \u001b[0;34m\u001b[0m\u001b[0m\n\u001b[1;32m     69\u001b[0m     \u001b[0;32mdef\u001b[0m \u001b[0mget_dataloader\u001b[0m\u001b[0;34m(\u001b[0m\u001b[0mself\u001b[0m\u001b[0;34m,\u001b[0m \u001b[0mdataset_path\u001b[0m\u001b[0;34m:\u001b[0m \u001b[0mstr\u001b[0m\u001b[0;34m,\u001b[0m \u001b[0mbatch_size\u001b[0m\u001b[0;34m:\u001b[0m \u001b[0mint\u001b[0m \u001b[0;34m=\u001b[0m \u001b[0;36m16\u001b[0m\u001b[0;34m,\u001b[0m \u001b[0mrank\u001b[0m\u001b[0;34m:\u001b[0m \u001b[0mint\u001b[0m \u001b[0;34m=\u001b[0m \u001b[0;36m0\u001b[0m\u001b[0;34m,\u001b[0m \u001b[0mmode\u001b[0m\u001b[0;34m:\u001b[0m \u001b[0mstr\u001b[0m \u001b[0;34m=\u001b[0m \u001b[0;34m\"train\"\u001b[0m\u001b[0;34m)\u001b[0m\u001b[0;34m:\u001b[0m\u001b[0;34m\u001b[0m\u001b[0;34m\u001b[0m\u001b[0m\n",
            "\u001b[0;32m/usr/local/lib/python3.11/dist-packages/ultralytics/data/build.py\u001b[0m in \u001b[0;36mbuild_yolo_dataset\u001b[0;34m(cfg, img_path, batch, data, mode, rect, stride, multi_modal)\u001b[0m\n\u001b[1;32m    125\u001b[0m     \u001b[0;34m\"\"\"Build and return a YOLO dataset based on configuration parameters.\"\"\"\u001b[0m\u001b[0;34m\u001b[0m\u001b[0;34m\u001b[0m\u001b[0m\n\u001b[1;32m    126\u001b[0m     \u001b[0mdataset\u001b[0m \u001b[0;34m=\u001b[0m \u001b[0mYOLOMultiModalDataset\u001b[0m \u001b[0;32mif\u001b[0m \u001b[0mmulti_modal\u001b[0m \u001b[0;32melse\u001b[0m \u001b[0mYOLODataset\u001b[0m\u001b[0;34m\u001b[0m\u001b[0;34m\u001b[0m\u001b[0m\n\u001b[0;32m--> 127\u001b[0;31m     return dataset(\n\u001b[0m\u001b[1;32m    128\u001b[0m         \u001b[0mimg_path\u001b[0m\u001b[0;34m=\u001b[0m\u001b[0mimg_path\u001b[0m\u001b[0;34m,\u001b[0m\u001b[0;34m\u001b[0m\u001b[0;34m\u001b[0m\u001b[0m\n\u001b[1;32m    129\u001b[0m         \u001b[0mimgsz\u001b[0m\u001b[0;34m=\u001b[0m\u001b[0mcfg\u001b[0m\u001b[0;34m.\u001b[0m\u001b[0mimgsz\u001b[0m\u001b[0;34m,\u001b[0m\u001b[0;34m\u001b[0m\u001b[0;34m\u001b[0m\u001b[0m\n",
            "\u001b[0;32m/usr/local/lib/python3.11/dist-packages/ultralytics/data/dataset.py\u001b[0m in \u001b[0;36m__init__\u001b[0;34m(self, data, task, *args, **kwargs)\u001b[0m\n\u001b[1;32m     86\u001b[0m         \u001b[0mself\u001b[0m\u001b[0;34m.\u001b[0m\u001b[0mdata\u001b[0m \u001b[0;34m=\u001b[0m \u001b[0mdata\u001b[0m\u001b[0;34m\u001b[0m\u001b[0;34m\u001b[0m\u001b[0m\n\u001b[1;32m     87\u001b[0m         \u001b[0;32massert\u001b[0m \u001b[0;32mnot\u001b[0m \u001b[0;34m(\u001b[0m\u001b[0mself\u001b[0m\u001b[0;34m.\u001b[0m\u001b[0muse_segments\u001b[0m \u001b[0;32mand\u001b[0m \u001b[0mself\u001b[0m\u001b[0;34m.\u001b[0m\u001b[0muse_keypoints\u001b[0m\u001b[0;34m)\u001b[0m\u001b[0;34m,\u001b[0m \u001b[0;34m\"Can not use both segments and keypoints.\"\u001b[0m\u001b[0;34m\u001b[0m\u001b[0;34m\u001b[0m\u001b[0m\n\u001b[0;32m---> 88\u001b[0;31m         \u001b[0msuper\u001b[0m\u001b[0;34m(\u001b[0m\u001b[0;34m)\u001b[0m\u001b[0;34m.\u001b[0m\u001b[0m__init__\u001b[0m\u001b[0;34m(\u001b[0m\u001b[0;34m*\u001b[0m\u001b[0margs\u001b[0m\u001b[0;34m,\u001b[0m \u001b[0mchannels\u001b[0m\u001b[0;34m=\u001b[0m\u001b[0mself\u001b[0m\u001b[0;34m.\u001b[0m\u001b[0mdata\u001b[0m\u001b[0;34m[\u001b[0m\u001b[0;34m\"channels\"\u001b[0m\u001b[0;34m]\u001b[0m\u001b[0;34m,\u001b[0m \u001b[0;34m**\u001b[0m\u001b[0mkwargs\u001b[0m\u001b[0;34m)\u001b[0m\u001b[0;34m\u001b[0m\u001b[0;34m\u001b[0m\u001b[0m\n\u001b[0m\u001b[1;32m     89\u001b[0m \u001b[0;34m\u001b[0m\u001b[0m\n\u001b[1;32m     90\u001b[0m     \u001b[0;32mdef\u001b[0m \u001b[0mcache_labels\u001b[0m\u001b[0;34m(\u001b[0m\u001b[0mself\u001b[0m\u001b[0;34m,\u001b[0m \u001b[0mpath\u001b[0m\u001b[0;34m:\u001b[0m \u001b[0mPath\u001b[0m \u001b[0;34m=\u001b[0m \u001b[0mPath\u001b[0m\u001b[0;34m(\u001b[0m\u001b[0;34m\"./labels.cache\"\u001b[0m\u001b[0;34m)\u001b[0m\u001b[0;34m)\u001b[0m \u001b[0;34m->\u001b[0m \u001b[0mDict\u001b[0m\u001b[0;34m:\u001b[0m\u001b[0;34m\u001b[0m\u001b[0;34m\u001b[0m\u001b[0m\n",
            "\u001b[0;32m/usr/local/lib/python3.11/dist-packages/ultralytics/data/base.py\u001b[0m in \u001b[0;36m__init__\u001b[0;34m(self, img_path, imgsz, cache, augment, hyp, prefix, rect, batch_size, stride, pad, single_cls, classes, fraction, channels)\u001b[0m\n\u001b[1;32m    113\u001b[0m         \u001b[0mself\u001b[0m\u001b[0;34m.\u001b[0m\u001b[0mchannels\u001b[0m \u001b[0;34m=\u001b[0m \u001b[0mchannels\u001b[0m\u001b[0;34m\u001b[0m\u001b[0;34m\u001b[0m\u001b[0m\n\u001b[1;32m    114\u001b[0m         \u001b[0mself\u001b[0m\u001b[0;34m.\u001b[0m\u001b[0mcv2_flag\u001b[0m \u001b[0;34m=\u001b[0m \u001b[0mcv2\u001b[0m\u001b[0;34m.\u001b[0m\u001b[0mIMREAD_GRAYSCALE\u001b[0m \u001b[0;32mif\u001b[0m \u001b[0mchannels\u001b[0m \u001b[0;34m==\u001b[0m \u001b[0;36m1\u001b[0m \u001b[0;32melse\u001b[0m \u001b[0mcv2\u001b[0m\u001b[0;34m.\u001b[0m\u001b[0mIMREAD_COLOR\u001b[0m\u001b[0;34m\u001b[0m\u001b[0;34m\u001b[0m\u001b[0m\n\u001b[0;32m--> 115\u001b[0;31m         \u001b[0mself\u001b[0m\u001b[0;34m.\u001b[0m\u001b[0mim_files\u001b[0m \u001b[0;34m=\u001b[0m \u001b[0mself\u001b[0m\u001b[0;34m.\u001b[0m\u001b[0mget_img_files\u001b[0m\u001b[0;34m(\u001b[0m\u001b[0mself\u001b[0m\u001b[0;34m.\u001b[0m\u001b[0mimg_path\u001b[0m\u001b[0;34m)\u001b[0m\u001b[0;34m\u001b[0m\u001b[0;34m\u001b[0m\u001b[0m\n\u001b[0m\u001b[1;32m    116\u001b[0m         \u001b[0mself\u001b[0m\u001b[0;34m.\u001b[0m\u001b[0mlabels\u001b[0m \u001b[0;34m=\u001b[0m \u001b[0mself\u001b[0m\u001b[0;34m.\u001b[0m\u001b[0mget_labels\u001b[0m\u001b[0;34m(\u001b[0m\u001b[0;34m)\u001b[0m\u001b[0;34m\u001b[0m\u001b[0;34m\u001b[0m\u001b[0m\n\u001b[1;32m    117\u001b[0m         \u001b[0mself\u001b[0m\u001b[0;34m.\u001b[0m\u001b[0mupdate_labels\u001b[0m\u001b[0;34m(\u001b[0m\u001b[0minclude_class\u001b[0m\u001b[0;34m=\u001b[0m\u001b[0mclasses\u001b[0m\u001b[0;34m)\u001b[0m  \u001b[0;31m# single_cls and include_class\u001b[0m\u001b[0;34m\u001b[0m\u001b[0;34m\u001b[0m\u001b[0m\n",
            "\u001b[0;32m/usr/local/lib/python3.11/dist-packages/ultralytics/data/base.py\u001b[0m in \u001b[0;36mget_img_files\u001b[0;34m(self, img_path)\u001b[0m\n\u001b[1;32m    178\u001b[0m             \u001b[0;32massert\u001b[0m \u001b[0mim_files\u001b[0m\u001b[0;34m,\u001b[0m \u001b[0;34mf\"{self.prefix}No images found in {img_path}. {FORMATS_HELP_MSG}\"\u001b[0m\u001b[0;34m\u001b[0m\u001b[0;34m\u001b[0m\u001b[0m\n\u001b[1;32m    179\u001b[0m         \u001b[0;32mexcept\u001b[0m \u001b[0mException\u001b[0m \u001b[0;32mas\u001b[0m \u001b[0me\u001b[0m\u001b[0;34m:\u001b[0m\u001b[0;34m\u001b[0m\u001b[0;34m\u001b[0m\u001b[0m\n\u001b[0;32m--> 180\u001b[0;31m             \u001b[0;32mraise\u001b[0m \u001b[0mFileNotFoundError\u001b[0m\u001b[0;34m(\u001b[0m\u001b[0;34mf\"{self.prefix}Error loading data from {img_path}\\n{HELP_URL}\"\u001b[0m\u001b[0;34m)\u001b[0m \u001b[0;32mfrom\u001b[0m \u001b[0me\u001b[0m\u001b[0;34m\u001b[0m\u001b[0;34m\u001b[0m\u001b[0m\n\u001b[0m\u001b[1;32m    181\u001b[0m         \u001b[0;32mif\u001b[0m \u001b[0mself\u001b[0m\u001b[0;34m.\u001b[0m\u001b[0mfraction\u001b[0m \u001b[0;34m<\u001b[0m \u001b[0;36m1\u001b[0m\u001b[0;34m:\u001b[0m\u001b[0;34m\u001b[0m\u001b[0;34m\u001b[0m\u001b[0m\n\u001b[1;32m    182\u001b[0m             \u001b[0mim_files\u001b[0m \u001b[0;34m=\u001b[0m \u001b[0mim_files\u001b[0m\u001b[0;34m[\u001b[0m\u001b[0;34m:\u001b[0m \u001b[0mround\u001b[0m\u001b[0;34m(\u001b[0m\u001b[0mlen\u001b[0m\u001b[0;34m(\u001b[0m\u001b[0mim_files\u001b[0m\u001b[0;34m)\u001b[0m \u001b[0;34m*\u001b[0m \u001b[0mself\u001b[0m\u001b[0;34m.\u001b[0m\u001b[0mfraction\u001b[0m\u001b[0;34m)\u001b[0m\u001b[0;34m]\u001b[0m  \u001b[0;31m# retain a fraction of the dataset\u001b[0m\u001b[0;34m\u001b[0m\u001b[0;34m\u001b[0m\u001b[0m\n",
            "\u001b[0;31mFileNotFoundError\u001b[0m: \u001b[34m\u001b[1mtrain: \u001b[0mError loading data from /content/BCCD_YOLO/images/train\nSee https://docs.ultralytics.com/datasets for dataset formatting guidance."
          ]
        }
      ]
    }
  ]
}